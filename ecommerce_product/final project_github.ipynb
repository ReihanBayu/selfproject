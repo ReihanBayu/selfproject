{
 "cells": [
  {
   "cell_type": "markdown",
   "metadata": {},
   "source": [
    "\n",
    "\n",
    "# Daftar Isi <a id='back'></a>\n",
    "\n",
    "* [Final Project Analisis Data](#intro)\n",
    "* [Pra-Pemrosesan Data](#1)\n",
    "\t* [Eksplorasi Data](#11)\n",
    "\t* [Nilai Kosong](#12)\n",
    "\t\t* [Kolom Description](#121)\n",
    "\t\t* [Kolom CustomerID](#122)\n",
    "\t* [Pengecekan Kolom Numerik](#13)\n",
    "\t\t* [Kolom UnitPrice](#131)\n",
    "\t\t* [Kolom Quantity](#132)\n",
    "\t* [Nilai Duplikat](#14)\n",
    "\t* [Perbaikan Data](#15)\n",
    "* [Eksplorasi Data Analisis](#2)\n",
    "\t* [Pendapatan](#21)\n",
    "\t* [Mengidentifikasi Barang yang Banyak Dibeli](#22)\n",
    "\t* [Persebaran Penjualan 10 Barang Terlaris](#23)\n",
    "\t* [Mengidentifikasi Hari Ramai Pembelian](#24)\n",
    "* [Pengujian Hipotesis](#3)\n",
    "* [Kesimpulan](#4)\n",
    "\t\n",
    "\t\n",
    "\n",
    "\n",
    "# Final Project Analisis Data <a id='intro'></a>"
   ]
  },
  {
   "cell_type": "markdown",
   "metadata": {},
   "source": [
    "Pada project kali ini saya sebagai junior data analyst mendapatkan beberapa tugas untuk menganalisis variasi produk pada suatu toko, yang mana di project ini saya diminta menyelesaikan beberapa tugas antara lain :\n",
    "1. Lakukan analisis data eksploratif\n",
    "2. Analisis variasi produknya\n",
    "3. Rumuskan dan lakukan pengujian hipotesis statistik\n",
    "\n",
    "Dengan adanya permintaan tersebut saya akan menetapkan beberapa tujuan:\n",
    "1. Melihat bagaimana grafik pendapatan perhari \n",
    "2. Bagaimana barang-barang terjual berdasarkan harinya\n",
    "3. Mengidentifikasi barang-barang yang banyak dibeli \n",
    "4. Mengidentifikasi terhadap hari yang banyak pembelian\n",
    "5. Menetapkan Hipotesis \n",
    "    (H0 : Rata-rata jumlah perbelanjaan di weekend sama dengan jumlah rata-rata pembelanjaan di weekday\n",
    "    H1 : Rata-rata jumlah perbelanjaan di weekend tidak sama dengan jumlah rata-rata pembelanjaan di weekday)\n",
    "    \n",
    "pada project ini data yang dibutuhkan tersimpan pada ecommerce_dataset_us.csv yang berisikan data riwayat transaksi toko daring yang menjual perlengkapan rumah tangga. tidak terdapat keterangan tentang kualitas data dan bagaimana persebaran nilai di dataset ini, maka langkah yang selanjutnya dilakukan adalah meninjau data serta melakukan prapemrosesan data untuk melihat bagaimana kualitas dataset yang diberikan.\n",
    "\n",
    "setelah melakukan prapemrosesan data barulah saya bisa melakukan analisis pada data dan memvisualisasikan data dengan library dari seaborn serta pada tahap akhir melakukan pengujian hipotesis statistik dengan menggunakan metode ttest"
   ]
  },
  {
   "cell_type": "markdown",
   "metadata": {},
   "source": [
    "Presentasi: https://drive.google.com/file/d/1AjATLJCWlQnyJ2YI8Sbz58X-OzzEbWeE/view?usp=drive_link"
   ]
  },
  {
   "cell_type": "markdown",
   "metadata": {},
   "source": [
    "dashboard: https://public.tableau.com/views/VariasiProduk/Dashboard1?:language=en-US&:sid=&:display_count=n&:origin=viz_share_link"
   ]
  },
  {
   "cell_type": "markdown",
   "metadata": {},
   "source": [
    "## Pra-pemrosesan Data <a id='1'></a>"
   ]
  },
  {
   "cell_type": "code",
   "execution_count": 325,
   "metadata": {},
   "outputs": [],
   "source": [
    "# Mengimport library\n",
    "import pandas as pd\n",
    "import numpy as np\n",
    "import seaborn as sns\n",
    "import matplotlib.pyplot as plt\n",
    "from scipy import stats as st"
   ]
  },
  {
   "cell_type": "markdown",
   "metadata": {},
   "source": [
    "### Eksplorasi Data<a id='11'></a>"
   ]
  },
  {
   "cell_type": "code",
   "execution_count": 326,
   "metadata": {
    "scrolled": true
   },
   "outputs": [
    {
     "data": {
      "text/html": [
       "<div>\n",
       "<style scoped>\n",
       "    .dataframe tbody tr th:only-of-type {\n",
       "        vertical-align: middle;\n",
       "    }\n",
       "\n",
       "    .dataframe tbody tr th {\n",
       "        vertical-align: top;\n",
       "    }\n",
       "\n",
       "    .dataframe thead th {\n",
       "        text-align: right;\n",
       "    }\n",
       "</style>\n",
       "<table border=\"1\" class=\"dataframe\">\n",
       "  <thead>\n",
       "    <tr style=\"text-align: right;\">\n",
       "      <th></th>\n",
       "      <th>InvoiceNo</th>\n",
       "      <th>StockCode</th>\n",
       "      <th>Description</th>\n",
       "      <th>Quantity</th>\n",
       "      <th>InvoiceDate</th>\n",
       "      <th>UnitPrice</th>\n",
       "      <th>CustomerID</th>\n",
       "    </tr>\n",
       "  </thead>\n",
       "  <tbody>\n",
       "    <tr>\n",
       "      <th>0</th>\n",
       "      <td>536365</td>\n",
       "      <td>85123A</td>\n",
       "      <td>WHITE HANGING HEART T-LIGHT HOLDER</td>\n",
       "      <td>6</td>\n",
       "      <td>11/29/2018 08:26</td>\n",
       "      <td>2.55</td>\n",
       "      <td>17850.0</td>\n",
       "    </tr>\n",
       "    <tr>\n",
       "      <th>1</th>\n",
       "      <td>536365</td>\n",
       "      <td>71053</td>\n",
       "      <td>WHITE METAL LANTERN</td>\n",
       "      <td>6</td>\n",
       "      <td>11/29/2018 08:26</td>\n",
       "      <td>3.39</td>\n",
       "      <td>17850.0</td>\n",
       "    </tr>\n",
       "    <tr>\n",
       "      <th>2</th>\n",
       "      <td>536365</td>\n",
       "      <td>84406B</td>\n",
       "      <td>CREAM CUPID HEARTS COAT HANGER</td>\n",
       "      <td>8</td>\n",
       "      <td>11/29/2018 08:26</td>\n",
       "      <td>2.75</td>\n",
       "      <td>17850.0</td>\n",
       "    </tr>\n",
       "    <tr>\n",
       "      <th>3</th>\n",
       "      <td>536365</td>\n",
       "      <td>84029G</td>\n",
       "      <td>KNITTED UNION FLAG HOT WATER BOTTLE</td>\n",
       "      <td>6</td>\n",
       "      <td>11/29/2018 08:26</td>\n",
       "      <td>3.39</td>\n",
       "      <td>17850.0</td>\n",
       "    </tr>\n",
       "    <tr>\n",
       "      <th>4</th>\n",
       "      <td>536365</td>\n",
       "      <td>84029E</td>\n",
       "      <td>RED WOOLLY HOTTIE WHITE HEART.</td>\n",
       "      <td>6</td>\n",
       "      <td>11/29/2018 08:26</td>\n",
       "      <td>3.39</td>\n",
       "      <td>17850.0</td>\n",
       "    </tr>\n",
       "  </tbody>\n",
       "</table>\n",
       "</div>"
      ],
      "text/plain": [
       "  InvoiceNo StockCode                          Description  Quantity  \\\n",
       "0    536365    85123A   WHITE HANGING HEART T-LIGHT HOLDER         6   \n",
       "1    536365     71053                  WHITE METAL LANTERN         6   \n",
       "2    536365    84406B       CREAM CUPID HEARTS COAT HANGER         8   \n",
       "3    536365    84029G  KNITTED UNION FLAG HOT WATER BOTTLE         6   \n",
       "4    536365    84029E       RED WOOLLY HOTTIE WHITE HEART.         6   \n",
       "\n",
       "        InvoiceDate  UnitPrice  CustomerID  \n",
       "0  11/29/2018 08:26       2.55     17850.0  \n",
       "1  11/29/2018 08:26       3.39     17850.0  \n",
       "2  11/29/2018 08:26       2.75     17850.0  \n",
       "3  11/29/2018 08:26       3.39     17850.0  \n",
       "4  11/29/2018 08:26       3.39     17850.0  "
      ]
     },
     "execution_count": 326,
     "metadata": {},
     "output_type": "execute_result"
    }
   ],
   "source": [
    "try:\n",
    "    df = pd.read_csv('/datasets/ecommerce_dataset_us.csv', sep=\"\\t\")\n",
    "    \n",
    "except:\n",
    "    df = pd.read_csv('ecommerce_dataset_us.csv', sep=\"\\t\")\n",
    "    \n",
    "df.head()"
   ]
  },
  {
   "cell_type": "code",
   "execution_count": 327,
   "metadata": {
    "scrolled": true
   },
   "outputs": [
    {
     "name": "stdout",
     "output_type": "stream",
     "text": [
      "<class 'pandas.core.frame.DataFrame'>\n",
      "RangeIndex: 541909 entries, 0 to 541908\n",
      "Data columns (total 7 columns):\n",
      " #   Column       Non-Null Count   Dtype  \n",
      "---  ------       --------------   -----  \n",
      " 0   InvoiceNo    541909 non-null  object \n",
      " 1   StockCode    541909 non-null  object \n",
      " 2   Description  540455 non-null  object \n",
      " 3   Quantity     541909 non-null  int64  \n",
      " 4   InvoiceDate  541909 non-null  object \n",
      " 5   UnitPrice    541909 non-null  float64\n",
      " 6   CustomerID   406829 non-null  float64\n",
      "dtypes: float64(2), int64(1), object(4)\n",
      "memory usage: 28.9+ MB\n"
     ]
    }
   ],
   "source": [
    "df.info()"
   ]
  },
  {
   "cell_type": "markdown",
   "metadata": {},
   "source": [
    "terdapat nilai kosong dibeberapa kolom dan juga kesalahan tipe data pada kolom invoice date"
   ]
  },
  {
   "cell_type": "markdown",
   "metadata": {},
   "source": [
    "### Nilai Kosong <a id='12'></a>"
   ]
  },
  {
   "cell_type": "code",
   "execution_count": 328,
   "metadata": {},
   "outputs": [
    {
     "data": {
      "text/plain": [
       "InvoiceNo       0.000000\n",
       "StockCode       0.000000\n",
       "Description     0.268311\n",
       "Quantity        0.000000\n",
       "InvoiceDate     0.000000\n",
       "UnitPrice       0.000000\n",
       "CustomerID     24.926694\n",
       "dtype: float64"
      ]
     },
     "execution_count": 328,
     "metadata": {},
     "output_type": "execute_result"
    }
   ],
   "source": [
    "df.isna().sum() / len(df) *100"
   ]
  },
  {
   "cell_type": "markdown",
   "metadata": {},
   "source": [
    "pada kolom CustomerID data yang kosong lumayan besar yaitu sekitar 25% untuk sementara ini akan dibiarkan dahulu dan akan diperiksa lebih lanjut terkait persebarannya"
   ]
  },
  {
   "cell_type": "markdown",
   "metadata": {},
   "source": [
    "#### Kolom description <a id='121'></a>"
   ]
  },
  {
   "cell_type": "code",
   "execution_count": 329,
   "metadata": {
    "scrolled": false
   },
   "outputs": [
    {
     "data": {
      "text/html": [
       "<div>\n",
       "<style scoped>\n",
       "    .dataframe tbody tr th:only-of-type {\n",
       "        vertical-align: middle;\n",
       "    }\n",
       "\n",
       "    .dataframe tbody tr th {\n",
       "        vertical-align: top;\n",
       "    }\n",
       "\n",
       "    .dataframe thead th {\n",
       "        text-align: right;\n",
       "    }\n",
       "</style>\n",
       "<table border=\"1\" class=\"dataframe\">\n",
       "  <thead>\n",
       "    <tr style=\"text-align: right;\">\n",
       "      <th></th>\n",
       "      <th>InvoiceNo</th>\n",
       "      <th>StockCode</th>\n",
       "      <th>Description</th>\n",
       "      <th>Quantity</th>\n",
       "      <th>InvoiceDate</th>\n",
       "      <th>UnitPrice</th>\n",
       "      <th>CustomerID</th>\n",
       "    </tr>\n",
       "  </thead>\n",
       "  <tbody>\n",
       "    <tr>\n",
       "      <th>622</th>\n",
       "      <td>536414</td>\n",
       "      <td>22139</td>\n",
       "      <td>NaN</td>\n",
       "      <td>56</td>\n",
       "      <td>11/29/2018 11:52</td>\n",
       "      <td>0.0</td>\n",
       "      <td>NaN</td>\n",
       "    </tr>\n",
       "    <tr>\n",
       "      <th>1970</th>\n",
       "      <td>536545</td>\n",
       "      <td>21134</td>\n",
       "      <td>NaN</td>\n",
       "      <td>1</td>\n",
       "      <td>11/29/2018 14:32</td>\n",
       "      <td>0.0</td>\n",
       "      <td>NaN</td>\n",
       "    </tr>\n",
       "    <tr>\n",
       "      <th>1971</th>\n",
       "      <td>536546</td>\n",
       "      <td>22145</td>\n",
       "      <td>NaN</td>\n",
       "      <td>1</td>\n",
       "      <td>11/29/2018 14:33</td>\n",
       "      <td>0.0</td>\n",
       "      <td>NaN</td>\n",
       "    </tr>\n",
       "    <tr>\n",
       "      <th>1972</th>\n",
       "      <td>536547</td>\n",
       "      <td>37509</td>\n",
       "      <td>NaN</td>\n",
       "      <td>1</td>\n",
       "      <td>11/29/2018 14:33</td>\n",
       "      <td>0.0</td>\n",
       "      <td>NaN</td>\n",
       "    </tr>\n",
       "    <tr>\n",
       "      <th>1987</th>\n",
       "      <td>536549</td>\n",
       "      <td>85226A</td>\n",
       "      <td>NaN</td>\n",
       "      <td>1</td>\n",
       "      <td>11/29/2018 14:34</td>\n",
       "      <td>0.0</td>\n",
       "      <td>NaN</td>\n",
       "    </tr>\n",
       "    <tr>\n",
       "      <th>1988</th>\n",
       "      <td>536550</td>\n",
       "      <td>85044</td>\n",
       "      <td>NaN</td>\n",
       "      <td>1</td>\n",
       "      <td>11/29/2018 14:34</td>\n",
       "      <td>0.0</td>\n",
       "      <td>NaN</td>\n",
       "    </tr>\n",
       "    <tr>\n",
       "      <th>2024</th>\n",
       "      <td>536552</td>\n",
       "      <td>20950</td>\n",
       "      <td>NaN</td>\n",
       "      <td>1</td>\n",
       "      <td>11/29/2018 14:34</td>\n",
       "      <td>0.0</td>\n",
       "      <td>NaN</td>\n",
       "    </tr>\n",
       "    <tr>\n",
       "      <th>2025</th>\n",
       "      <td>536553</td>\n",
       "      <td>37461</td>\n",
       "      <td>NaN</td>\n",
       "      <td>3</td>\n",
       "      <td>11/29/2018 14:35</td>\n",
       "      <td>0.0</td>\n",
       "      <td>NaN</td>\n",
       "    </tr>\n",
       "    <tr>\n",
       "      <th>2026</th>\n",
       "      <td>536554</td>\n",
       "      <td>84670</td>\n",
       "      <td>NaN</td>\n",
       "      <td>23</td>\n",
       "      <td>11/29/2018 14:35</td>\n",
       "      <td>0.0</td>\n",
       "      <td>NaN</td>\n",
       "    </tr>\n",
       "    <tr>\n",
       "      <th>2406</th>\n",
       "      <td>536589</td>\n",
       "      <td>21777</td>\n",
       "      <td>NaN</td>\n",
       "      <td>-10</td>\n",
       "      <td>11/29/2018 16:50</td>\n",
       "      <td>0.0</td>\n",
       "      <td>NaN</td>\n",
       "    </tr>\n",
       "  </tbody>\n",
       "</table>\n",
       "</div>"
      ],
      "text/plain": [
       "     InvoiceNo StockCode Description  Quantity       InvoiceDate  UnitPrice  \\\n",
       "622     536414     22139         NaN        56  11/29/2018 11:52        0.0   \n",
       "1970    536545     21134         NaN         1  11/29/2018 14:32        0.0   \n",
       "1971    536546     22145         NaN         1  11/29/2018 14:33        0.0   \n",
       "1972    536547     37509         NaN         1  11/29/2018 14:33        0.0   \n",
       "1987    536549    85226A         NaN         1  11/29/2018 14:34        0.0   \n",
       "1988    536550     85044         NaN         1  11/29/2018 14:34        0.0   \n",
       "2024    536552     20950         NaN         1  11/29/2018 14:34        0.0   \n",
       "2025    536553     37461         NaN         3  11/29/2018 14:35        0.0   \n",
       "2026    536554     84670         NaN        23  11/29/2018 14:35        0.0   \n",
       "2406    536589     21777         NaN       -10  11/29/2018 16:50        0.0   \n",
       "\n",
       "      CustomerID  \n",
       "622          NaN  \n",
       "1970         NaN  \n",
       "1971         NaN  \n",
       "1972         NaN  \n",
       "1987         NaN  \n",
       "1988         NaN  \n",
       "2024         NaN  \n",
       "2025         NaN  \n",
       "2026         NaN  \n",
       "2406         NaN  "
      ]
     },
     "execution_count": 329,
     "metadata": {},
     "output_type": "execute_result"
    }
   ],
   "source": [
    "# Mendalami nilai kosong pada kolom Description\n",
    "df[df['Description'].isna()].head(10)"
   ]
  },
  {
   "cell_type": "code",
   "execution_count": 330,
   "metadata": {},
   "outputs": [
    {
     "data": {
      "text/plain": [
       "(1454, 7)"
      ]
     },
     "execution_count": 330,
     "metadata": {},
     "output_type": "execute_result"
    }
   ],
   "source": [
    "df[df['Description'].isna()].shape"
   ]
  },
  {
   "cell_type": "markdown",
   "metadata": {},
   "source": [
    "sekilas terlihat bahwa setiap description yang kosong juga 0 pada unit price dan kosong pada CustomerID, tetapi saya akan mendalaminya lagi"
   ]
  },
  {
   "cell_type": "code",
   "execution_count": 331,
   "metadata": {},
   "outputs": [
    {
     "data": {
      "text/plain": [
       "(1454, 7)"
      ]
     },
     "execution_count": 331,
     "metadata": {},
     "output_type": "execute_result"
    }
   ],
   "source": [
    "# Memeriksa pola description yang kosong \n",
    "df[(df['Description'].isna()) & (df['UnitPrice'] == 0) & (df['CustomerID'].isna())].shape"
   ]
  },
  {
   "cell_type": "markdown",
   "metadata": {},
   "source": [
    "setelah diperiksa memang benar pola tersebut, kita bisa menghapus baris tersebut"
   ]
  },
  {
   "cell_type": "code",
   "execution_count": 332,
   "metadata": {},
   "outputs": [
    {
     "name": "stdout",
     "output_type": "stream",
     "text": [
      "<class 'pandas.core.frame.DataFrame'>\n",
      "Index: 540455 entries, 0 to 541908\n",
      "Data columns (total 7 columns):\n",
      " #   Column       Non-Null Count   Dtype  \n",
      "---  ------       --------------   -----  \n",
      " 0   InvoiceNo    540455 non-null  object \n",
      " 1   StockCode    540455 non-null  object \n",
      " 2   Description  540455 non-null  object \n",
      " 3   Quantity     540455 non-null  int64  \n",
      " 4   InvoiceDate  540455 non-null  object \n",
      " 5   UnitPrice    540455 non-null  float64\n",
      " 6   CustomerID   406829 non-null  float64\n",
      "dtypes: float64(2), int64(1), object(4)\n",
      "memory usage: 33.0+ MB\n"
     ]
    }
   ],
   "source": [
    "# Menghapus baris yang memiliki Description kosong\n",
    "df.dropna(subset= ['Description'], inplace=True)\n",
    "df.info()"
   ]
  },
  {
   "cell_type": "markdown",
   "metadata": {},
   "source": [
    "#### kolom customerID <a id='122'></a>"
   ]
  },
  {
   "cell_type": "code",
   "execution_count": 333,
   "metadata": {},
   "outputs": [
    {
     "data": {
      "text/html": [
       "<div>\n",
       "<style scoped>\n",
       "    .dataframe tbody tr th:only-of-type {\n",
       "        vertical-align: middle;\n",
       "    }\n",
       "\n",
       "    .dataframe tbody tr th {\n",
       "        vertical-align: top;\n",
       "    }\n",
       "\n",
       "    .dataframe thead th {\n",
       "        text-align: right;\n",
       "    }\n",
       "</style>\n",
       "<table border=\"1\" class=\"dataframe\">\n",
       "  <thead>\n",
       "    <tr style=\"text-align: right;\">\n",
       "      <th></th>\n",
       "      <th>InvoiceNo</th>\n",
       "      <th>StockCode</th>\n",
       "      <th>Description</th>\n",
       "      <th>Quantity</th>\n",
       "      <th>InvoiceDate</th>\n",
       "      <th>UnitPrice</th>\n",
       "      <th>CustomerID</th>\n",
       "    </tr>\n",
       "  </thead>\n",
       "  <tbody>\n",
       "    <tr>\n",
       "      <th>1443</th>\n",
       "      <td>536544</td>\n",
       "      <td>21773</td>\n",
       "      <td>DECORATIVE ROSE BATHROOM BOTTLE</td>\n",
       "      <td>1</td>\n",
       "      <td>11/29/2018 14:32</td>\n",
       "      <td>2.51</td>\n",
       "      <td>NaN</td>\n",
       "    </tr>\n",
       "    <tr>\n",
       "      <th>1444</th>\n",
       "      <td>536544</td>\n",
       "      <td>21774</td>\n",
       "      <td>DECORATIVE CATS BATHROOM BOTTLE</td>\n",
       "      <td>2</td>\n",
       "      <td>11/29/2018 14:32</td>\n",
       "      <td>2.51</td>\n",
       "      <td>NaN</td>\n",
       "    </tr>\n",
       "    <tr>\n",
       "      <th>1445</th>\n",
       "      <td>536544</td>\n",
       "      <td>21786</td>\n",
       "      <td>POLKADOT RAIN HAT</td>\n",
       "      <td>4</td>\n",
       "      <td>11/29/2018 14:32</td>\n",
       "      <td>0.85</td>\n",
       "      <td>NaN</td>\n",
       "    </tr>\n",
       "    <tr>\n",
       "      <th>1446</th>\n",
       "      <td>536544</td>\n",
       "      <td>21787</td>\n",
       "      <td>RAIN PONCHO RETROSPOT</td>\n",
       "      <td>2</td>\n",
       "      <td>11/29/2018 14:32</td>\n",
       "      <td>1.66</td>\n",
       "      <td>NaN</td>\n",
       "    </tr>\n",
       "    <tr>\n",
       "      <th>1447</th>\n",
       "      <td>536544</td>\n",
       "      <td>21790</td>\n",
       "      <td>VINTAGE SNAP CARDS</td>\n",
       "      <td>9</td>\n",
       "      <td>11/29/2018 14:32</td>\n",
       "      <td>1.66</td>\n",
       "      <td>NaN</td>\n",
       "    </tr>\n",
       "  </tbody>\n",
       "</table>\n",
       "</div>"
      ],
      "text/plain": [
       "     InvoiceNo StockCode                      Description  Quantity  \\\n",
       "1443    536544     21773  DECORATIVE ROSE BATHROOM BOTTLE         1   \n",
       "1444    536544     21774  DECORATIVE CATS BATHROOM BOTTLE         2   \n",
       "1445    536544     21786               POLKADOT RAIN HAT          4   \n",
       "1446    536544     21787            RAIN PONCHO RETROSPOT         2   \n",
       "1447    536544     21790               VINTAGE SNAP CARDS         9   \n",
       "\n",
       "           InvoiceDate  UnitPrice  CustomerID  \n",
       "1443  11/29/2018 14:32       2.51         NaN  \n",
       "1444  11/29/2018 14:32       2.51         NaN  \n",
       "1445  11/29/2018 14:32       0.85         NaN  \n",
       "1446  11/29/2018 14:32       1.66         NaN  \n",
       "1447  11/29/2018 14:32       1.66         NaN  "
      ]
     },
     "execution_count": 333,
     "metadata": {},
     "output_type": "execute_result"
    }
   ],
   "source": [
    "df[df.CustomerID.isna()].head()"
   ]
  },
  {
   "cell_type": "code",
   "execution_count": 334,
   "metadata": {},
   "outputs": [
    {
     "data": {
      "text/html": [
       "<div>\n",
       "<style scoped>\n",
       "    .dataframe tbody tr th:only-of-type {\n",
       "        vertical-align: middle;\n",
       "    }\n",
       "\n",
       "    .dataframe tbody tr th {\n",
       "        vertical-align: top;\n",
       "    }\n",
       "\n",
       "    .dataframe thead th {\n",
       "        text-align: right;\n",
       "    }\n",
       "</style>\n",
       "<table border=\"1\" class=\"dataframe\">\n",
       "  <thead>\n",
       "    <tr style=\"text-align: right;\">\n",
       "      <th></th>\n",
       "      <th>InvoiceNo</th>\n",
       "      <th>StockCode</th>\n",
       "      <th>Description</th>\n",
       "      <th>Quantity</th>\n",
       "      <th>InvoiceDate</th>\n",
       "      <th>UnitPrice</th>\n",
       "      <th>CustomerID</th>\n",
       "    </tr>\n",
       "  </thead>\n",
       "  <tbody>\n",
       "    <tr>\n",
       "      <th>220843</th>\n",
       "      <td>556231</td>\n",
       "      <td>85123A</td>\n",
       "      <td>?</td>\n",
       "      <td>4000</td>\n",
       "      <td>06/07/2019 15:04</td>\n",
       "      <td>0.00</td>\n",
       "      <td>NaN</td>\n",
       "    </tr>\n",
       "    <tr>\n",
       "      <th>263885</th>\n",
       "      <td>560040</td>\n",
       "      <td>23343</td>\n",
       "      <td>came coded as 20713</td>\n",
       "      <td>3100</td>\n",
       "      <td>07/12/2019 14:28</td>\n",
       "      <td>0.00</td>\n",
       "      <td>NaN</td>\n",
       "    </tr>\n",
       "    <tr>\n",
       "      <th>115807</th>\n",
       "      <td>546139</td>\n",
       "      <td>84988</td>\n",
       "      <td>?</td>\n",
       "      <td>3000</td>\n",
       "      <td>03/07/2019 16:35</td>\n",
       "      <td>0.00</td>\n",
       "      <td>NaN</td>\n",
       "    </tr>\n",
       "    <tr>\n",
       "      <th>447035</th>\n",
       "      <td>574941</td>\n",
       "      <td>22197</td>\n",
       "      <td>POPCORN HOLDER</td>\n",
       "      <td>1820</td>\n",
       "      <td>11/05/2019 17:42</td>\n",
       "      <td>1.95</td>\n",
       "      <td>NaN</td>\n",
       "    </tr>\n",
       "    <tr>\n",
       "      <th>160541</th>\n",
       "      <td>550460</td>\n",
       "      <td>47556B</td>\n",
       "      <td>did  a credit  and did not tick ret</td>\n",
       "      <td>1300</td>\n",
       "      <td>04/16/2019 13:18</td>\n",
       "      <td>0.00</td>\n",
       "      <td>NaN</td>\n",
       "    </tr>\n",
       "  </tbody>\n",
       "</table>\n",
       "</div>"
      ],
      "text/plain": [
       "       InvoiceNo StockCode                          Description  Quantity  \\\n",
       "220843    556231    85123A                                    ?      4000   \n",
       "263885    560040     23343                  came coded as 20713      3100   \n",
       "115807    546139     84988                                    ?      3000   \n",
       "447035    574941     22197                       POPCORN HOLDER      1820   \n",
       "160541    550460    47556B  did  a credit  and did not tick ret      1300   \n",
       "\n",
       "             InvoiceDate  UnitPrice  CustomerID  \n",
       "220843  06/07/2019 15:04       0.00         NaN  \n",
       "263885  07/12/2019 14:28       0.00         NaN  \n",
       "115807  03/07/2019 16:35       0.00         NaN  \n",
       "447035  11/05/2019 17:42       1.95         NaN  \n",
       "160541  04/16/2019 13:18       0.00         NaN  "
      ]
     },
     "execution_count": 334,
     "metadata": {},
     "output_type": "execute_result"
    }
   ],
   "source": [
    "df[df.CustomerID.isna()].sort_values(by='Quantity', ascending= False).head()"
   ]
  },
  {
   "cell_type": "code",
   "execution_count": 335,
   "metadata": {
    "scrolled": true
   },
   "outputs": [
    {
     "data": {
      "text/html": [
       "<div>\n",
       "<style scoped>\n",
       "    .dataframe tbody tr th:only-of-type {\n",
       "        vertical-align: middle;\n",
       "    }\n",
       "\n",
       "    .dataframe tbody tr th {\n",
       "        vertical-align: top;\n",
       "    }\n",
       "\n",
       "    .dataframe thead th {\n",
       "        text-align: right;\n",
       "    }\n",
       "</style>\n",
       "<table border=\"1\" class=\"dataframe\">\n",
       "  <thead>\n",
       "    <tr style=\"text-align: right;\">\n",
       "      <th></th>\n",
       "      <th>InvoiceNo</th>\n",
       "      <th>StockCode</th>\n",
       "      <th>Description</th>\n",
       "      <th>Quantity</th>\n",
       "      <th>InvoiceDate</th>\n",
       "      <th>UnitPrice</th>\n",
       "      <th>CustomerID</th>\n",
       "    </tr>\n",
       "  </thead>\n",
       "  <tbody>\n",
       "    <tr>\n",
       "      <th>225530</th>\n",
       "      <td>556691</td>\n",
       "      <td>23005</td>\n",
       "      <td>printing smudges/thrown away</td>\n",
       "      <td>-9600</td>\n",
       "      <td>06/12/2019 10:37</td>\n",
       "      <td>0.0</td>\n",
       "      <td>NaN</td>\n",
       "    </tr>\n",
       "    <tr>\n",
       "      <th>225529</th>\n",
       "      <td>556690</td>\n",
       "      <td>23005</td>\n",
       "      <td>printing smudges/thrown away</td>\n",
       "      <td>-9600</td>\n",
       "      <td>06/12/2019 10:37</td>\n",
       "      <td>0.0</td>\n",
       "      <td>NaN</td>\n",
       "    </tr>\n",
       "    <tr>\n",
       "      <th>225528</th>\n",
       "      <td>556687</td>\n",
       "      <td>23003</td>\n",
       "      <td>Printing smudges/thrown away</td>\n",
       "      <td>-9058</td>\n",
       "      <td>06/12/2019 10:36</td>\n",
       "      <td>0.0</td>\n",
       "      <td>NaN</td>\n",
       "    </tr>\n",
       "    <tr>\n",
       "      <th>115818</th>\n",
       "      <td>546152</td>\n",
       "      <td>72140F</td>\n",
       "      <td>throw away</td>\n",
       "      <td>-5368</td>\n",
       "      <td>03/07/2019 17:25</td>\n",
       "      <td>0.0</td>\n",
       "      <td>NaN</td>\n",
       "    </tr>\n",
       "    <tr>\n",
       "      <th>431381</th>\n",
       "      <td>573596</td>\n",
       "      <td>79323W</td>\n",
       "      <td>Unsaleable, destroyed.</td>\n",
       "      <td>-4830</td>\n",
       "      <td>10/29/2019 15:17</td>\n",
       "      <td>0.0</td>\n",
       "      <td>NaN</td>\n",
       "    </tr>\n",
       "  </tbody>\n",
       "</table>\n",
       "</div>"
      ],
      "text/plain": [
       "       InvoiceNo StockCode                   Description  Quantity  \\\n",
       "225530    556691     23005  printing smudges/thrown away     -9600   \n",
       "225529    556690     23005  printing smudges/thrown away     -9600   \n",
       "225528    556687     23003  Printing smudges/thrown away     -9058   \n",
       "115818    546152    72140F                    throw away     -5368   \n",
       "431381    573596    79323W        Unsaleable, destroyed.     -4830   \n",
       "\n",
       "             InvoiceDate  UnitPrice  CustomerID  \n",
       "225530  06/12/2019 10:37        0.0         NaN  \n",
       "225529  06/12/2019 10:37        0.0         NaN  \n",
       "225528  06/12/2019 10:36        0.0         NaN  \n",
       "115818  03/07/2019 17:25        0.0         NaN  \n",
       "431381  10/29/2019 15:17        0.0         NaN  "
      ]
     },
     "execution_count": 335,
     "metadata": {},
     "output_type": "execute_result"
    }
   ],
   "source": [
    "df[df.CustomerID.isna()].sort_values(by='Quantity').head()"
   ]
  },
  {
   "cell_type": "code",
   "execution_count": 336,
   "metadata": {
    "scrolled": false
   },
   "outputs": [
    {
     "data": {
      "text/html": [
       "<div>\n",
       "<style scoped>\n",
       "    .dataframe tbody tr th:only-of-type {\n",
       "        vertical-align: middle;\n",
       "    }\n",
       "\n",
       "    .dataframe tbody tr th {\n",
       "        vertical-align: top;\n",
       "    }\n",
       "\n",
       "    .dataframe thead th {\n",
       "        text-align: right;\n",
       "    }\n",
       "</style>\n",
       "<table border=\"1\" class=\"dataframe\">\n",
       "  <thead>\n",
       "    <tr style=\"text-align: right;\">\n",
       "      <th></th>\n",
       "      <th>InvoiceNo</th>\n",
       "      <th>StockCode</th>\n",
       "      <th>Description</th>\n",
       "      <th>Quantity</th>\n",
       "      <th>InvoiceDate</th>\n",
       "      <th>UnitPrice</th>\n",
       "      <th>CustomerID</th>\n",
       "    </tr>\n",
       "  </thead>\n",
       "  <tbody>\n",
       "    <tr>\n",
       "      <th>7313</th>\n",
       "      <td>537032</td>\n",
       "      <td>21275</td>\n",
       "      <td>?</td>\n",
       "      <td>-30</td>\n",
       "      <td>12/01/2018 16:50</td>\n",
       "      <td>0.00</td>\n",
       "      <td>NaN</td>\n",
       "    </tr>\n",
       "    <tr>\n",
       "      <th>11502</th>\n",
       "      <td>C537251</td>\n",
       "      <td>22429</td>\n",
       "      <td>ENAMEL MEASURING JUG CREAM</td>\n",
       "      <td>-2</td>\n",
       "      <td>12/04/2018 10:45</td>\n",
       "      <td>4.25</td>\n",
       "      <td>NaN</td>\n",
       "    </tr>\n",
       "    <tr>\n",
       "      <th>11503</th>\n",
       "      <td>C537251</td>\n",
       "      <td>22620</td>\n",
       "      <td>4 TRADITIONAL SPINNING TOPS</td>\n",
       "      <td>-8</td>\n",
       "      <td>12/04/2018 10:45</td>\n",
       "      <td>1.25</td>\n",
       "      <td>NaN</td>\n",
       "    </tr>\n",
       "    <tr>\n",
       "      <th>11504</th>\n",
       "      <td>C537251</td>\n",
       "      <td>21890</td>\n",
       "      <td>S/6 WOODEN SKITTLES IN COTTON BAG</td>\n",
       "      <td>-2</td>\n",
       "      <td>12/04/2018 10:45</td>\n",
       "      <td>2.95</td>\n",
       "      <td>NaN</td>\n",
       "    </tr>\n",
       "    <tr>\n",
       "      <th>11505</th>\n",
       "      <td>C537251</td>\n",
       "      <td>22564</td>\n",
       "      <td>ALPHABET STENCIL CRAFT</td>\n",
       "      <td>-5</td>\n",
       "      <td>12/04/2018 10:45</td>\n",
       "      <td>1.25</td>\n",
       "      <td>NaN</td>\n",
       "    </tr>\n",
       "    <tr>\n",
       "      <th>...</th>\n",
       "      <td>...</td>\n",
       "      <td>...</td>\n",
       "      <td>...</td>\n",
       "      <td>...</td>\n",
       "      <td>...</td>\n",
       "      <td>...</td>\n",
       "      <td>...</td>\n",
       "    </tr>\n",
       "    <tr>\n",
       "      <th>535333</th>\n",
       "      <td>581210</td>\n",
       "      <td>23395</td>\n",
       "      <td>check</td>\n",
       "      <td>-26</td>\n",
       "      <td>12/05/2019 18:36</td>\n",
       "      <td>0.00</td>\n",
       "      <td>NaN</td>\n",
       "    </tr>\n",
       "    <tr>\n",
       "      <th>535335</th>\n",
       "      <td>581212</td>\n",
       "      <td>22578</td>\n",
       "      <td>lost</td>\n",
       "      <td>-1050</td>\n",
       "      <td>12/05/2019 18:38</td>\n",
       "      <td>0.00</td>\n",
       "      <td>NaN</td>\n",
       "    </tr>\n",
       "    <tr>\n",
       "      <th>535336</th>\n",
       "      <td>581213</td>\n",
       "      <td>22576</td>\n",
       "      <td>check</td>\n",
       "      <td>-30</td>\n",
       "      <td>12/05/2019 18:38</td>\n",
       "      <td>0.00</td>\n",
       "      <td>NaN</td>\n",
       "    </tr>\n",
       "    <tr>\n",
       "      <th>536908</th>\n",
       "      <td>581226</td>\n",
       "      <td>23090</td>\n",
       "      <td>missing</td>\n",
       "      <td>-338</td>\n",
       "      <td>12/06/2019 09:56</td>\n",
       "      <td>0.00</td>\n",
       "      <td>NaN</td>\n",
       "    </tr>\n",
       "    <tr>\n",
       "      <th>538919</th>\n",
       "      <td>581422</td>\n",
       "      <td>23169</td>\n",
       "      <td>smashed</td>\n",
       "      <td>-235</td>\n",
       "      <td>12/06/2019 15:24</td>\n",
       "      <td>0.00</td>\n",
       "      <td>NaN</td>\n",
       "    </tr>\n",
       "  </tbody>\n",
       "</table>\n",
       "<p>857 rows × 7 columns</p>\n",
       "</div>"
      ],
      "text/plain": [
       "       InvoiceNo StockCode                        Description  Quantity  \\\n",
       "7313      537032     21275                                  ?       -30   \n",
       "11502    C537251     22429         ENAMEL MEASURING JUG CREAM        -2   \n",
       "11503    C537251     22620        4 TRADITIONAL SPINNING TOPS        -8   \n",
       "11504    C537251     21890  S/6 WOODEN SKITTLES IN COTTON BAG        -2   \n",
       "11505    C537251     22564             ALPHABET STENCIL CRAFT        -5   \n",
       "...          ...       ...                                ...       ...   \n",
       "535333    581210     23395                              check       -26   \n",
       "535335    581212     22578                               lost     -1050   \n",
       "535336    581213     22576                              check       -30   \n",
       "536908    581226     23090                            missing      -338   \n",
       "538919    581422     23169                            smashed      -235   \n",
       "\n",
       "             InvoiceDate  UnitPrice  CustomerID  \n",
       "7313    12/01/2018 16:50       0.00         NaN  \n",
       "11502   12/04/2018 10:45       4.25         NaN  \n",
       "11503   12/04/2018 10:45       1.25         NaN  \n",
       "11504   12/04/2018 10:45       2.95         NaN  \n",
       "11505   12/04/2018 10:45       1.25         NaN  \n",
       "...                  ...        ...         ...  \n",
       "535333  12/05/2019 18:36       0.00         NaN  \n",
       "535335  12/05/2019 18:38       0.00         NaN  \n",
       "535336  12/05/2019 18:38       0.00         NaN  \n",
       "536908  12/06/2019 09:56       0.00         NaN  \n",
       "538919  12/06/2019 15:24       0.00         NaN  \n",
       "\n",
       "[857 rows x 7 columns]"
      ]
     },
     "execution_count": 336,
     "metadata": {},
     "output_type": "execute_result"
    }
   ],
   "source": [
    "df[df.CustomerID.isna() & (df['Quantity'] <= 0)]"
   ]
  },
  {
   "cell_type": "code",
   "execution_count": 337,
   "metadata": {
    "scrolled": true
   },
   "outputs": [
    {
     "data": {
      "text/plain": [
       "array(['?', 'check', 'damages', 'faulty', 'Dotcom sales',\n",
       "       'reverse 21/5/10 adjustment', 'mouldy, thrown away.', 'counted',\n",
       "       'Given away', 'Dotcom', 'label mix up', 'samples/damages',\n",
       "       'thrown away', 'incorrectly made-thrown away.', 'showroom', 'MIA',\n",
       "       'Dotcom set', 'wrongly sold as sets', 'Amazon sold sets',\n",
       "       'dotcom sold sets', 'wrongly sold sets', '? sold as sets?',\n",
       "       '?sold as sets?', 'Thrown away.', 'damages/display',\n",
       "       'damaged stock', 'broken', 'throw away', 'wrong barcode (22467)',\n",
       "       'wrong barcode', 'barcode problem', '?lost',\n",
       "       \"thrown away-can't sell.\", \"thrown away-can't sell\", 'damages?',\n",
       "       're dotcom quick fix.', \"Dotcom sold in 6's\", 'sold in set?',\n",
       "       'cracked', 'sold as 22467', 'Damaged',\n",
       "       'mystery! Only ever imported 1800',\n",
       "       'MERCHANT CHANDLER CREDIT ERROR, STO', 'POSSIBLE DAMAGES OR LOST?',\n",
       "       'damaged', 'DAMAGED', 'Display', 'Missing', 'wrong code?',\n",
       "       'wrong code', 'adjust', 'crushed', 'damages/showroom etc',\n",
       "       'samples', 'damages/credits from ASOS.',\n",
       "       'Not rcvd in 10/11/2010 delivery', 'Thrown away-rusty',\n",
       "       'sold as set/6 by dotcom', 'wet/rusty', 'damages/dotcom?',\n",
       "       'smashed', 'reverse previous adjustment',\n",
       "       'incorrectly credited C550456 see 47', 'wet damaged',\n",
       "       'Water damaged', 'missing', 'sold as set on dotcom',\n",
       "       'sold as set on dotcom and amazon', 'water damage',\n",
       "       'sold as set by dotcom', 'Printing smudges/thrown away',\n",
       "       'printing smudges/thrown away', 'found some more on shelf',\n",
       "       'Show Samples', 'mix up with c', 'mouldy, unsaleable.',\n",
       "       'wrongly marked. 23343 in box', 'stock creditted wrongly', 'ebay',\n",
       "       'incorrectly put back into stock', 'Damages/samples',\n",
       "       'Sold as 1 on dotcom', 'taig adjust no stock',\n",
       "       'code mix up? 84930', '?display?', 'sold as 1', '?missing',\n",
       "       'crushed ctn', 'Crushed', 'temp adjustment', '??', 'test',\n",
       "       'OOPS ! adjustment', 'Dagamed',\n",
       "       'historic computer difference?....se', 'Incorrect stock entry.',\n",
       "       'incorrect stock entry.', 'wrongly coded-23343', 'stock check',\n",
       "       'crushed boxes', 'WET/MOULDY', \"can't find\", 'mouldy',\n",
       "       'Wet pallet-thrown away', 'adjustment', '20713 wrongly marked',\n",
       "       're-adjustment', 'Breakages', '20713', 'wrongly coded 20713',\n",
       "       'Damages', 'CHECK', 'Unsaleable, destroyed.', 'dotcom sales',\n",
       "       'damages wax', 'water damaged', 'Wrongly mrked had 85123a in box',\n",
       "       'wrongly marked carton 22804', 'missing?', 'wet rusty', '???lost',\n",
       "       'sold with wrong barcode', 'rusty thrown away', 'rusty throw away',\n",
       "       'dotcom', '?? missing', 'wet pallet', '????missing', '???missing',\n",
       "       'lost in space', 'wet?', 'lost??', '???', 'wet', 'wet boxes',\n",
       "       '????damages????', 'mixed up', 'lost'], dtype=object)"
      ]
     },
     "execution_count": 337,
     "metadata": {},
     "output_type": "execute_result"
    }
   ],
   "source": [
    "df[df.CustomerID.isna() & (df['Quantity'] <= 0) & (df['UnitPrice'] <= 0) ]['Description'].unique()"
   ]
  },
  {
   "cell_type": "markdown",
   "metadata": {},
   "source": [
    "setelah dilakukan penelusuran lebih dalam terkait nilai kosong pada CustomerID, sepertinya ada keterkaitan dengan kolom Quantity dan UnitPrice. Maka dengan adanya penemuan ini saya melakukan pengecekan pada kolom Quantity dan UnitPrice"
   ]
  },
  {
   "cell_type": "markdown",
   "metadata": {},
   "source": [
    "### Pengecekan kolom numerik <a id='13'></a>"
   ]
  },
  {
   "cell_type": "code",
   "execution_count": 338,
   "metadata": {},
   "outputs": [
    {
     "data": {
      "text/html": [
       "<div>\n",
       "<style scoped>\n",
       "    .dataframe tbody tr th:only-of-type {\n",
       "        vertical-align: middle;\n",
       "    }\n",
       "\n",
       "    .dataframe tbody tr th {\n",
       "        vertical-align: top;\n",
       "    }\n",
       "\n",
       "    .dataframe thead th {\n",
       "        text-align: right;\n",
       "    }\n",
       "</style>\n",
       "<table border=\"1\" class=\"dataframe\">\n",
       "  <thead>\n",
       "    <tr style=\"text-align: right;\">\n",
       "      <th></th>\n",
       "      <th>Quantity</th>\n",
       "      <th>UnitPrice</th>\n",
       "      <th>CustomerID</th>\n",
       "    </tr>\n",
       "  </thead>\n",
       "  <tbody>\n",
       "    <tr>\n",
       "      <th>count</th>\n",
       "      <td>540455.000000</td>\n",
       "      <td>540455.000000</td>\n",
       "      <td>406829.000000</td>\n",
       "    </tr>\n",
       "    <tr>\n",
       "      <th>mean</th>\n",
       "      <td>9.603129</td>\n",
       "      <td>4.623519</td>\n",
       "      <td>15287.690570</td>\n",
       "    </tr>\n",
       "    <tr>\n",
       "      <th>std</th>\n",
       "      <td>218.007598</td>\n",
       "      <td>96.889628</td>\n",
       "      <td>1713.600303</td>\n",
       "    </tr>\n",
       "    <tr>\n",
       "      <th>min</th>\n",
       "      <td>-80995.000000</td>\n",
       "      <td>-11062.060000</td>\n",
       "      <td>12346.000000</td>\n",
       "    </tr>\n",
       "    <tr>\n",
       "      <th>25%</th>\n",
       "      <td>1.000000</td>\n",
       "      <td>1.250000</td>\n",
       "      <td>13953.000000</td>\n",
       "    </tr>\n",
       "    <tr>\n",
       "      <th>50%</th>\n",
       "      <td>3.000000</td>\n",
       "      <td>2.080000</td>\n",
       "      <td>15152.000000</td>\n",
       "    </tr>\n",
       "    <tr>\n",
       "      <th>75%</th>\n",
       "      <td>10.000000</td>\n",
       "      <td>4.130000</td>\n",
       "      <td>16791.000000</td>\n",
       "    </tr>\n",
       "    <tr>\n",
       "      <th>max</th>\n",
       "      <td>80995.000000</td>\n",
       "      <td>38970.000000</td>\n",
       "      <td>18287.000000</td>\n",
       "    </tr>\n",
       "  </tbody>\n",
       "</table>\n",
       "</div>"
      ],
      "text/plain": [
       "            Quantity      UnitPrice     CustomerID\n",
       "count  540455.000000  540455.000000  406829.000000\n",
       "mean        9.603129       4.623519   15287.690570\n",
       "std       218.007598      96.889628    1713.600303\n",
       "min    -80995.000000  -11062.060000   12346.000000\n",
       "25%         1.000000       1.250000   13953.000000\n",
       "50%         3.000000       2.080000   15152.000000\n",
       "75%        10.000000       4.130000   16791.000000\n",
       "max     80995.000000   38970.000000   18287.000000"
      ]
     },
     "execution_count": 338,
     "metadata": {},
     "output_type": "execute_result"
    }
   ],
   "source": [
    "df.describe()"
   ]
  },
  {
   "cell_type": "markdown",
   "metadata": {},
   "source": [
    "terdapat beberapa kejanggalan pada kolom numerik, antara lain:\n",
    "1. Pada kolom quantity terdapat nilai minus dan sepertinya terdapat outlier pada kolom ini, dikarenakan nilai maksimal yang sangat jauh sekali dibandingkan nilai 75% data\n",
    "2. Pada kolom UnitPrice juga terdapat nilai minus dan nilai maksimal yang sangat jauh sekali dibandingkan nilai 75% nya\n"
   ]
  },
  {
   "cell_type": "markdown",
   "metadata": {},
   "source": [
    "#### Kolom UnitPrice<a id='131'></a>"
   ]
  },
  {
   "cell_type": "code",
   "execution_count": 339,
   "metadata": {
    "scrolled": false
   },
   "outputs": [
    {
     "data": {
      "text/html": [
       "<div>\n",
       "<style scoped>\n",
       "    .dataframe tbody tr th:only-of-type {\n",
       "        vertical-align: middle;\n",
       "    }\n",
       "\n",
       "    .dataframe tbody tr th {\n",
       "        vertical-align: top;\n",
       "    }\n",
       "\n",
       "    .dataframe thead th {\n",
       "        text-align: right;\n",
       "    }\n",
       "</style>\n",
       "<table border=\"1\" class=\"dataframe\">\n",
       "  <thead>\n",
       "    <tr style=\"text-align: right;\">\n",
       "      <th></th>\n",
       "      <th>InvoiceNo</th>\n",
       "      <th>StockCode</th>\n",
       "      <th>Description</th>\n",
       "      <th>Quantity</th>\n",
       "      <th>InvoiceDate</th>\n",
       "      <th>UnitPrice</th>\n",
       "      <th>CustomerID</th>\n",
       "    </tr>\n",
       "  </thead>\n",
       "  <tbody>\n",
       "    <tr>\n",
       "      <th>299983</th>\n",
       "      <td>A563186</td>\n",
       "      <td>B</td>\n",
       "      <td>Adjust bad debt</td>\n",
       "      <td>1</td>\n",
       "      <td>08/10/2019 14:51</td>\n",
       "      <td>-11062.06</td>\n",
       "      <td>NaN</td>\n",
       "    </tr>\n",
       "    <tr>\n",
       "      <th>299984</th>\n",
       "      <td>A563187</td>\n",
       "      <td>B</td>\n",
       "      <td>Adjust bad debt</td>\n",
       "      <td>1</td>\n",
       "      <td>08/10/2019 14:52</td>\n",
       "      <td>-11062.06</td>\n",
       "      <td>NaN</td>\n",
       "    </tr>\n",
       "  </tbody>\n",
       "</table>\n",
       "</div>"
      ],
      "text/plain": [
       "       InvoiceNo StockCode      Description  Quantity       InvoiceDate  \\\n",
       "299983   A563186         B  Adjust bad debt         1  08/10/2019 14:51   \n",
       "299984   A563187         B  Adjust bad debt         1  08/10/2019 14:52   \n",
       "\n",
       "        UnitPrice  CustomerID  \n",
       "299983  -11062.06         NaN  \n",
       "299984  -11062.06         NaN  "
      ]
     },
     "execution_count": 339,
     "metadata": {},
     "output_type": "execute_result"
    }
   ],
   "source": [
    "# Pengecekan data yang minus pada kolom UnitPrice\n",
    "df[df['UnitPrice'] < 0].sort_values(by='Quantity')"
   ]
  },
  {
   "cell_type": "markdown",
   "metadata": {},
   "source": [
    "jika dilihat dari deskripsinya masuk akal jika ini bernilai minus, ttetapi untuk memudahkan analsis data ini akan dihilangkan"
   ]
  },
  {
   "cell_type": "code",
   "execution_count": 340,
   "metadata": {
    "scrolled": false
   },
   "outputs": [],
   "source": [
    "df.query('UnitPrice > 0', inplace=True)"
   ]
  },
  {
   "cell_type": "code",
   "execution_count": 341,
   "metadata": {},
   "outputs": [
    {
     "data": {
      "text/html": [
       "<div>\n",
       "<style scoped>\n",
       "    .dataframe tbody tr th:only-of-type {\n",
       "        vertical-align: middle;\n",
       "    }\n",
       "\n",
       "    .dataframe tbody tr th {\n",
       "        vertical-align: top;\n",
       "    }\n",
       "\n",
       "    .dataframe thead th {\n",
       "        text-align: right;\n",
       "    }\n",
       "</style>\n",
       "<table border=\"1\" class=\"dataframe\">\n",
       "  <thead>\n",
       "    <tr style=\"text-align: right;\">\n",
       "      <th></th>\n",
       "      <th>Quantity</th>\n",
       "      <th>UnitPrice</th>\n",
       "      <th>CustomerID</th>\n",
       "    </tr>\n",
       "  </thead>\n",
       "  <tbody>\n",
       "    <tr>\n",
       "      <th>count</th>\n",
       "      <td>539392.000000</td>\n",
       "      <td>539392.000000</td>\n",
       "      <td>406789.000000</td>\n",
       "    </tr>\n",
       "    <tr>\n",
       "      <th>mean</th>\n",
       "      <td>9.845904</td>\n",
       "      <td>4.673648</td>\n",
       "      <td>15287.795830</td>\n",
       "    </tr>\n",
       "    <tr>\n",
       "      <th>std</th>\n",
       "      <td>215.412652</td>\n",
       "      <td>94.614722</td>\n",
       "      <td>1713.573064</td>\n",
       "    </tr>\n",
       "    <tr>\n",
       "      <th>min</th>\n",
       "      <td>-80995.000000</td>\n",
       "      <td>0.001000</td>\n",
       "      <td>12346.000000</td>\n",
       "    </tr>\n",
       "    <tr>\n",
       "      <th>25%</th>\n",
       "      <td>1.000000</td>\n",
       "      <td>1.250000</td>\n",
       "      <td>13954.000000</td>\n",
       "    </tr>\n",
       "    <tr>\n",
       "      <th>50%</th>\n",
       "      <td>3.000000</td>\n",
       "      <td>2.080000</td>\n",
       "      <td>15152.000000</td>\n",
       "    </tr>\n",
       "    <tr>\n",
       "      <th>75%</th>\n",
       "      <td>10.000000</td>\n",
       "      <td>4.130000</td>\n",
       "      <td>16791.000000</td>\n",
       "    </tr>\n",
       "    <tr>\n",
       "      <th>max</th>\n",
       "      <td>80995.000000</td>\n",
       "      <td>38970.000000</td>\n",
       "      <td>18287.000000</td>\n",
       "    </tr>\n",
       "  </tbody>\n",
       "</table>\n",
       "</div>"
      ],
      "text/plain": [
       "            Quantity      UnitPrice     CustomerID\n",
       "count  539392.000000  539392.000000  406789.000000\n",
       "mean        9.845904       4.673648   15287.795830\n",
       "std       215.412652      94.614722    1713.573064\n",
       "min    -80995.000000       0.001000   12346.000000\n",
       "25%         1.000000       1.250000   13954.000000\n",
       "50%         3.000000       2.080000   15152.000000\n",
       "75%        10.000000       4.130000   16791.000000\n",
       "max     80995.000000   38970.000000   18287.000000"
      ]
     },
     "execution_count": 341,
     "metadata": {},
     "output_type": "execute_result"
    }
   ],
   "source": [
    "df.describe()"
   ]
  },
  {
   "cell_type": "code",
   "execution_count": 342,
   "metadata": {},
   "outputs": [
    {
     "data": {
      "text/plain": [
       "<Axes: >"
      ]
     },
     "execution_count": 342,
     "metadata": {},
     "output_type": "execute_result"
    },
    {
     "data": {
      "image/png": "[encoded data removed]",
      "text/plain": [
       "<Figure size 640x480 with 1 Axes>"
      ]
     },
     "metadata": {},
     "output_type": "display_data"
    }
   ],
   "source": [
    "df.UnitPrice.plot(kind='box')\n",
    "#plt.ylim(0,20)"
   ]
  },
  {
   "cell_type": "markdown",
   "metadata": {},
   "source": [
    "terdapat outlier pada kolom unitprice"
   ]
  },
  {
   "cell_type": "code",
   "execution_count": 343,
   "metadata": {},
   "outputs": [
    {
     "data": {
      "text/html": [
       "<div>\n",
       "<style scoped>\n",
       "    .dataframe tbody tr th:only-of-type {\n",
       "        vertical-align: middle;\n",
       "    }\n",
       "\n",
       "    .dataframe tbody tr th {\n",
       "        vertical-align: top;\n",
       "    }\n",
       "\n",
       "    .dataframe thead th {\n",
       "        text-align: right;\n",
       "    }\n",
       "</style>\n",
       "<table border=\"1\" class=\"dataframe\">\n",
       "  <thead>\n",
       "    <tr style=\"text-align: right;\">\n",
       "      <th></th>\n",
       "      <th>InvoiceNo</th>\n",
       "      <th>StockCode</th>\n",
       "      <th>Description</th>\n",
       "      <th>Quantity</th>\n",
       "      <th>InvoiceDate</th>\n",
       "      <th>UnitPrice</th>\n",
       "      <th>CustomerID</th>\n",
       "    </tr>\n",
       "  </thead>\n",
       "  <tbody>\n",
       "    <tr>\n",
       "      <th>222681</th>\n",
       "      <td>C556445</td>\n",
       "      <td>M</td>\n",
       "      <td>Manual</td>\n",
       "      <td>-1</td>\n",
       "      <td>06/08/2019 15:31</td>\n",
       "      <td>38970.00</td>\n",
       "      <td>15098.0</td>\n",
       "    </tr>\n",
       "    <tr>\n",
       "      <th>524602</th>\n",
       "      <td>C580605</td>\n",
       "      <td>AMAZONFEE</td>\n",
       "      <td>AMAZON FEE</td>\n",
       "      <td>-1</td>\n",
       "      <td>12/03/2019 11:36</td>\n",
       "      <td>17836.46</td>\n",
       "      <td>NaN</td>\n",
       "    </tr>\n",
       "    <tr>\n",
       "      <th>43702</th>\n",
       "      <td>C540117</td>\n",
       "      <td>AMAZONFEE</td>\n",
       "      <td>AMAZON FEE</td>\n",
       "      <td>-1</td>\n",
       "      <td>01/03/2019 09:55</td>\n",
       "      <td>16888.02</td>\n",
       "      <td>NaN</td>\n",
       "    </tr>\n",
       "    <tr>\n",
       "      <th>43703</th>\n",
       "      <td>C540118</td>\n",
       "      <td>AMAZONFEE</td>\n",
       "      <td>AMAZON FEE</td>\n",
       "      <td>-1</td>\n",
       "      <td>01/03/2019 09:57</td>\n",
       "      <td>16453.71</td>\n",
       "      <td>NaN</td>\n",
       "    </tr>\n",
       "    <tr>\n",
       "      <th>15016</th>\n",
       "      <td>C537630</td>\n",
       "      <td>AMAZONFEE</td>\n",
       "      <td>AMAZON FEE</td>\n",
       "      <td>-1</td>\n",
       "      <td>12/05/2018 15:04</td>\n",
       "      <td>13541.33</td>\n",
       "      <td>NaN</td>\n",
       "    </tr>\n",
       "    <tr>\n",
       "      <th>16356</th>\n",
       "      <td>C537651</td>\n",
       "      <td>AMAZONFEE</td>\n",
       "      <td>AMAZON FEE</td>\n",
       "      <td>-1</td>\n",
       "      <td>12/05/2018 15:49</td>\n",
       "      <td>13541.33</td>\n",
       "      <td>NaN</td>\n",
       "    </tr>\n",
       "    <tr>\n",
       "      <th>15017</th>\n",
       "      <td>537632</td>\n",
       "      <td>AMAZONFEE</td>\n",
       "      <td>AMAZON FEE</td>\n",
       "      <td>1</td>\n",
       "      <td>12/05/2018 15:08</td>\n",
       "      <td>13541.33</td>\n",
       "      <td>NaN</td>\n",
       "    </tr>\n",
       "    <tr>\n",
       "      <th>16232</th>\n",
       "      <td>C537644</td>\n",
       "      <td>AMAZONFEE</td>\n",
       "      <td>AMAZON FEE</td>\n",
       "      <td>-1</td>\n",
       "      <td>12/05/2018 15:34</td>\n",
       "      <td>13474.79</td>\n",
       "      <td>NaN</td>\n",
       "    </tr>\n",
       "    <tr>\n",
       "      <th>524601</th>\n",
       "      <td>C580604</td>\n",
       "      <td>AMAZONFEE</td>\n",
       "      <td>AMAZON FEE</td>\n",
       "      <td>-1</td>\n",
       "      <td>12/03/2019 11:35</td>\n",
       "      <td>11586.50</td>\n",
       "      <td>NaN</td>\n",
       "    </tr>\n",
       "    <tr>\n",
       "      <th>299982</th>\n",
       "      <td>A563185</td>\n",
       "      <td>B</td>\n",
       "      <td>Adjust bad debt</td>\n",
       "      <td>1</td>\n",
       "      <td>08/10/2019 14:50</td>\n",
       "      <td>11062.06</td>\n",
       "      <td>NaN</td>\n",
       "    </tr>\n",
       "  </tbody>\n",
       "</table>\n",
       "</div>"
      ],
      "text/plain": [
       "       InvoiceNo  StockCode      Description  Quantity       InvoiceDate  \\\n",
       "222681   C556445          M           Manual        -1  06/08/2019 15:31   \n",
       "524602   C580605  AMAZONFEE       AMAZON FEE        -1  12/03/2019 11:36   \n",
       "43702    C540117  AMAZONFEE       AMAZON FEE        -1  01/03/2019 09:55   \n",
       "43703    C540118  AMAZONFEE       AMAZON FEE        -1  01/03/2019 09:57   \n",
       "15016    C537630  AMAZONFEE       AMAZON FEE        -1  12/05/2018 15:04   \n",
       "16356    C537651  AMAZONFEE       AMAZON FEE        -1  12/05/2018 15:49   \n",
       "15017     537632  AMAZONFEE       AMAZON FEE         1  12/05/2018 15:08   \n",
       "16232    C537644  AMAZONFEE       AMAZON FEE        -1  12/05/2018 15:34   \n",
       "524601   C580604  AMAZONFEE       AMAZON FEE        -1  12/03/2019 11:35   \n",
       "299982   A563185          B  Adjust bad debt         1  08/10/2019 14:50   \n",
       "\n",
       "        UnitPrice  CustomerID  \n",
       "222681   38970.00     15098.0  \n",
       "524602   17836.46         NaN  \n",
       "43702    16888.02         NaN  \n",
       "43703    16453.71         NaN  \n",
       "15016    13541.33         NaN  \n",
       "16356    13541.33         NaN  \n",
       "15017    13541.33         NaN  \n",
       "16232    13474.79         NaN  \n",
       "524601   11586.50         NaN  \n",
       "299982   11062.06         NaN  "
      ]
     },
     "execution_count": 343,
     "metadata": {},
     "output_type": "execute_result"
    }
   ],
   "source": [
    "#melihat bagaimana nilai pada kolom unitprice yang bernilai diatas rata-rata\n",
    "df[(df['UnitPrice'] > 4)].sort_values(by='UnitPrice', ascending= False).head(10)\n"
   ]
  },
  {
   "cell_type": "markdown",
   "metadata": {},
   "source": [
    "terdapat beberapa data pengeluaran yang bisa diidentifikasi dengan stockcodenya"
   ]
  },
  {
   "cell_type": "code",
   "execution_count": 344,
   "metadata": {
    "scrolled": true
   },
   "outputs": [
    {
     "data": {
      "text/plain": [
       "array(['D', '35004C', '22960', '22654', '22767', '22168', '22580',\n",
       "       '22752', '22839', '21463', '22780', '85048', '22501', '21527',\n",
       "       '85066', '21258', '21129', '22187', '21843', '22847', '22617',\n",
       "       '35004B', '22832', '22942', '22689', '22776', '22854', '22788',\n",
       "       '22184', '22761', '22769', '22762', '20685', '37449', '84840',\n",
       "       '22429', '22943', '22940', '21349', '35400', '22636', '22423',\n",
       "       '22371', '22430', '22926', '22927', '22849', 'POST', '22840',\n",
       "       '21755', '85047', 'BANK CHARGES', 'S', '22968', '21622', '22061',\n",
       "       '22169', 'M', 'AMAZONFEE', '21275', '85068', '90062', '16202E',\n",
       "       '22357', '21730', '21812', '20703', '22627', '22220', '22784',\n",
       "       '22138', '22193', '22180', '21624', '21485', '22192', '22634',\n",
       "       '48188', '48187', '21533', '21217', '22139', '82486', '82483',\n",
       "       '21906', '72807C', '84792', '22941', '21781', '21777', '22461',\n",
       "       '21056', '82484', '22781', '22946', '22768', '22618', '22838',\n",
       "       '22179', '84352', '72802B', '22890', '22623', '85232B', '22509',\n",
       "       '37503', '22199', '22474', '48129', '22191', '84880', '47590A',\n",
       "       '21262', '22635', '22278', '90185B', '90185C', '22656', '48116',\n",
       "       '22760', '22456', '85135C', '22655', '22649', '21363', '22939',\n",
       "       '22795', '21411', '20679', '15056P', '15056N', '15056BL', '90211B',\n",
       "       '22487', '22472', '22720', '47567B', '21055', '22835', '21735',\n",
       "       '21351', 'C2', '22777', '22606', '79320', '22201', '85042',\n",
       "       '79321', '85014A', '79323B', '21259', '22060', '22845', '22628',\n",
       "       '85159B', '79323P', '22171', '84078A', '22822', '72807A', '21539',\n",
       "       '85036C', '21667', '22111', '22476', '85174', '37500', '84819',\n",
       "       '22325', '22170', '85036B', '79323W', '21528', '21537', '84816',\n",
       "       '21340', '84968D', '84631', '22796', '22485', '22442', '22236',\n",
       "       '22929', '22841', '22625', '48138', '20934', '85126', '22183',\n",
       "       '22848', '21756', '22112', '22852', '22844', '22837', '85159A',\n",
       "       '21216', '21658', '21352', '22763', '85141', '22505', '22891',\n",
       "       '85063', '85019C', '22797', '48173C', '22503', '22504', '84881',\n",
       "       '21754', '84406B', '22846', '85045', '22770', '85232D', '22794',\n",
       "       '22626', '20749', '22622', '85035A', '85232A', '84663A', '22914',\n",
       "       '22913', '22912', '85180A', '22215', '85065', '85064', '22320',\n",
       "       '22221', '21633', '22779', '22414', '20793', '22427', '47590B',\n",
       "       '47566', '22827', '22207', '22624', '21534', '22507', '21630',\n",
       "       '22842', '22499', '22424', '21042', '22928', '22502', '22764',\n",
       "       '47566B', '22165', '22468', '84575A', '22428', '22425', '22692',\n",
       "       '21257', '22843', '21621', '84969', '21277', '22366', '22365',\n",
       "       '21523', '48194', '48185', '48184', '48111', '22990', '22691',\n",
       "       '22690', '71038', '20750', '84632', '84766', '22443', '84839',\n",
       "       '22486', '85135B', '84968C', '72803A', '23054', '23053', '23052',\n",
       "       '23051', '23050', '23049', '22825', '22605', '23142', '22829',\n",
       "       '23127', '23126', '23128', '84600', '22526', '23132', '22925',\n",
       "       '21524', '21464', '21361', '21246', '20821', '23174', '23112',\n",
       "       '84688', '22283', '22167', '23173', '22826', '22607', '22194',\n",
       "       '84945', '23184', '23298', '23064', '23056', '23169', '23118',\n",
       "       '23111', '84616', '23110', '23075', '23092', '23099', '15058A',\n",
       "       '23091', '15058B', '23108', '23057', '23081', '23079', '23066',\n",
       "       '90147', '21623', '23140', '21770', '23094', '23080', '78033',\n",
       "       '23181', '72760B', '20901', '23243', '23253', '23245', '84687',\n",
       "       '21428', '23240', '23239', '23237', '17003', '21792', '90200B',\n",
       "       '23010', '23008', '23180', '23238', '21708', '21110', '22374',\n",
       "       '22372', '21364', '23444', '21850', '23313', '23284', '23256',\n",
       "       '23255', '23254', '85103', '84997A', '84997C', '23283', '84968A',\n",
       "       '23020', '23315', '23314', '85014B', '23316', '23015', '23017',\n",
       "       '20781', '23073', '84629', '22182', '23574', '90070', '23129',\n",
       "       '22121', '84665', '37501', '21628', '84843', '84030E', '22106',\n",
       "       '21784', 'CRUK', '21686', '21479', '84029E', '84029G', '23356',\n",
       "       '23355', '23405', '23404', '23424', '23130', '85163B', '21317',\n",
       "       '23410', '23113', '23085', '20704', '23007', '22113', '23406',\n",
       "       '85034C', '85034A', '90199C', '90148', '90143', '22282', '23071',\n",
       "       '23045', '23131', '23397', '84609', '23407', '23412', '23494',\n",
       "       '23342', '22166', '23048', '23041', '22824', '23401', '72802A',\n",
       "       '90018C', '90018A', '90192', '90185A', '90024B', '84820', '90160A',\n",
       "       '23413', '23072', '23055', '22120', '23164', '21682', '21344',\n",
       "       '23487', '23016', '23485', '23400', '23458', '23459', '72807B',\n",
       "       '23466', '23541', '23526', '23462', '21407', '23389', '23390',\n",
       "       '21813', '23427', '22178', '23470', '23117', '23114', '21408',\n",
       "       '22114', '22947', '23486', '23133', '90176A', '90176D', '22119',\n",
       "       '23469', '23414', '90050', '23556', '23542', '23065', '23454',\n",
       "       '21846', '23042', '23535', '23569', '23312', '23460', '23428',\n",
       "       '23491', '23461', '23456', '23411', '23544', '23536', '23534',\n",
       "       '85127'], dtype=object)"
      ]
     },
     "execution_count": 344,
     "metadata": {},
     "output_type": "execute_result"
    }
   ],
   "source": [
    "# pengecekan stockcode berdasarkan kolom unitprice diatas 4 dan quantity dibawah atau sama dengna 0\n",
    "df[(df['UnitPrice'] > 4) & (df['Quantity'] <= 0 )]['StockCode'].unique()\n"
   ]
  },
  {
   "cell_type": "markdown",
   "metadata": {},
   "source": [
    "menghapus baris dengan stock code 'D','BANK CHARGES','S','AMAZONFEE','C2','CRUK','POST','M'"
   ]
  },
  {
   "cell_type": "code",
   "execution_count": 345,
   "metadata": {},
   "outputs": [
    {
     "data": {
      "text/html": [
       "<div>\n",
       "<style scoped>\n",
       "    .dataframe tbody tr th:only-of-type {\n",
       "        vertical-align: middle;\n",
       "    }\n",
       "\n",
       "    .dataframe tbody tr th {\n",
       "        vertical-align: top;\n",
       "    }\n",
       "\n",
       "    .dataframe thead th {\n",
       "        text-align: right;\n",
       "    }\n",
       "</style>\n",
       "<table border=\"1\" class=\"dataframe\">\n",
       "  <thead>\n",
       "    <tr style=\"text-align: right;\">\n",
       "      <th></th>\n",
       "      <th>Quantity</th>\n",
       "      <th>UnitPrice</th>\n",
       "      <th>CustomerID</th>\n",
       "    </tr>\n",
       "  </thead>\n",
       "  <tbody>\n",
       "    <tr>\n",
       "      <th>count</th>\n",
       "      <td>537205.000000</td>\n",
       "      <td>537205.000000</td>\n",
       "      <td>404895.000000</td>\n",
       "    </tr>\n",
       "    <tr>\n",
       "      <th>mean</th>\n",
       "      <td>9.876701</td>\n",
       "      <td>3.685287</td>\n",
       "      <td>15295.205601</td>\n",
       "    </tr>\n",
       "    <tr>\n",
       "      <th>std</th>\n",
       "      <td>215.811905</td>\n",
       "      <td>22.878692</td>\n",
       "      <td>1710.382657</td>\n",
       "    </tr>\n",
       "    <tr>\n",
       "      <th>min</th>\n",
       "      <td>-80995.000000</td>\n",
       "      <td>0.001000</td>\n",
       "      <td>12346.000000</td>\n",
       "    </tr>\n",
       "    <tr>\n",
       "      <th>25%</th>\n",
       "      <td>1.000000</td>\n",
       "      <td>1.250000</td>\n",
       "      <td>13969.000000</td>\n",
       "    </tr>\n",
       "    <tr>\n",
       "      <th>50%</th>\n",
       "      <td>3.000000</td>\n",
       "      <td>2.080000</td>\n",
       "      <td>15159.000000</td>\n",
       "    </tr>\n",
       "    <tr>\n",
       "      <th>75%</th>\n",
       "      <td>10.000000</td>\n",
       "      <td>4.130000</td>\n",
       "      <td>16794.000000</td>\n",
       "    </tr>\n",
       "    <tr>\n",
       "      <th>max</th>\n",
       "      <td>80995.000000</td>\n",
       "      <td>11062.060000</td>\n",
       "      <td>18287.000000</td>\n",
       "    </tr>\n",
       "  </tbody>\n",
       "</table>\n",
       "</div>"
      ],
      "text/plain": [
       "            Quantity      UnitPrice     CustomerID\n",
       "count  537205.000000  537205.000000  404895.000000\n",
       "mean        9.876701       3.685287   15295.205601\n",
       "std       215.811905      22.878692    1710.382657\n",
       "min    -80995.000000       0.001000   12346.000000\n",
       "25%         1.000000       1.250000   13969.000000\n",
       "50%         3.000000       2.080000   15159.000000\n",
       "75%        10.000000       4.130000   16794.000000\n",
       "max     80995.000000   11062.060000   18287.000000"
      ]
     },
     "execution_count": 345,
     "metadata": {},
     "output_type": "execute_result"
    }
   ],
   "source": [
    "df = df[~df[\"StockCode\"].isin(('D','BANK CHARGES','S','AMAZONFEE','C2','CRUK','POST','M'))]\n",
    "df.describe()\n"
   ]
  },
  {
   "cell_type": "markdown",
   "metadata": {},
   "source": [
    "ternyata setelah data dibersihkan masih terdapat nilai yang sangat tinggi pada kolom unitprice, maka dengan ini saya akan melanjutkan pengecekan"
   ]
  },
  {
   "cell_type": "code",
   "execution_count": 346,
   "metadata": {},
   "outputs": [
    {
     "data": {
      "text/html": [
       "<div>\n",
       "<style scoped>\n",
       "    .dataframe tbody tr th:only-of-type {\n",
       "        vertical-align: middle;\n",
       "    }\n",
       "\n",
       "    .dataframe tbody tr th {\n",
       "        vertical-align: top;\n",
       "    }\n",
       "\n",
       "    .dataframe thead th {\n",
       "        text-align: right;\n",
       "    }\n",
       "</style>\n",
       "<table border=\"1\" class=\"dataframe\">\n",
       "  <thead>\n",
       "    <tr style=\"text-align: right;\">\n",
       "      <th></th>\n",
       "      <th>InvoiceNo</th>\n",
       "      <th>StockCode</th>\n",
       "      <th>Description</th>\n",
       "      <th>Quantity</th>\n",
       "      <th>InvoiceDate</th>\n",
       "      <th>UnitPrice</th>\n",
       "      <th>CustomerID</th>\n",
       "    </tr>\n",
       "  </thead>\n",
       "  <tbody>\n",
       "    <tr>\n",
       "      <th>299982</th>\n",
       "      <td>A563185</td>\n",
       "      <td>B</td>\n",
       "      <td>Adjust bad debt</td>\n",
       "      <td>1</td>\n",
       "      <td>08/10/2019 14:50</td>\n",
       "      <td>11062.06</td>\n",
       "      <td>NaN</td>\n",
       "    </tr>\n",
       "    <tr>\n",
       "      <th>297723</th>\n",
       "      <td>562955</td>\n",
       "      <td>DOT</td>\n",
       "      <td>DOTCOM POSTAGE</td>\n",
       "      <td>1</td>\n",
       "      <td>08/09/2019 10:14</td>\n",
       "      <td>4505.17</td>\n",
       "      <td>NaN</td>\n",
       "    </tr>\n",
       "    <tr>\n",
       "      <th>493020</th>\n",
       "      <td>578149</td>\n",
       "      <td>DOT</td>\n",
       "      <td>DOTCOM POSTAGE</td>\n",
       "      <td>1</td>\n",
       "      <td>11/21/2019 11:11</td>\n",
       "      <td>2275.54</td>\n",
       "      <td>NaN</td>\n",
       "    </tr>\n",
       "    <tr>\n",
       "      <th>524892</th>\n",
       "      <td>580610</td>\n",
       "      <td>DOT</td>\n",
       "      <td>DOTCOM POSTAGE</td>\n",
       "      <td>1</td>\n",
       "      <td>12/03/2019 11:48</td>\n",
       "      <td>2196.67</td>\n",
       "      <td>NaN</td>\n",
       "    </tr>\n",
       "    <tr>\n",
       "      <th>525134</th>\n",
       "      <td>580612</td>\n",
       "      <td>DOT</td>\n",
       "      <td>DOTCOM POSTAGE</td>\n",
       "      <td>1</td>\n",
       "      <td>12/03/2019 11:58</td>\n",
       "      <td>2114.00</td>\n",
       "      <td>NaN</td>\n",
       "    </tr>\n",
       "    <tr>\n",
       "      <th>502058</th>\n",
       "      <td>578833</td>\n",
       "      <td>DOT</td>\n",
       "      <td>DOTCOM POSTAGE</td>\n",
       "      <td>1</td>\n",
       "      <td>11/23/2019 15:23</td>\n",
       "      <td>2028.25</td>\n",
       "      <td>NaN</td>\n",
       "    </tr>\n",
       "    <tr>\n",
       "      <th>431348</th>\n",
       "      <td>573585</td>\n",
       "      <td>DOT</td>\n",
       "      <td>DOTCOM POSTAGE</td>\n",
       "      <td>1</td>\n",
       "      <td>10/29/2019 14:41</td>\n",
       "      <td>2019.05</td>\n",
       "      <td>NaN</td>\n",
       "    </tr>\n",
       "    <tr>\n",
       "      <th>533491</th>\n",
       "      <td>581023</td>\n",
       "      <td>DOT</td>\n",
       "      <td>DOTCOM POSTAGE</td>\n",
       "      <td>1</td>\n",
       "      <td>12/05/2019 10:35</td>\n",
       "      <td>1861.46</td>\n",
       "      <td>NaN</td>\n",
       "    </tr>\n",
       "    <tr>\n",
       "      <th>541540</th>\n",
       "      <td>581498</td>\n",
       "      <td>DOT</td>\n",
       "      <td>DOTCOM POSTAGE</td>\n",
       "      <td>1</td>\n",
       "      <td>12/07/2019 10:26</td>\n",
       "      <td>1714.17</td>\n",
       "      <td>NaN</td>\n",
       "    </tr>\n",
       "    <tr>\n",
       "      <th>537254</th>\n",
       "      <td>581238</td>\n",
       "      <td>DOT</td>\n",
       "      <td>DOTCOM POSTAGE</td>\n",
       "      <td>1</td>\n",
       "      <td>12/06/2019 10:53</td>\n",
       "      <td>1683.75</td>\n",
       "      <td>NaN</td>\n",
       "    </tr>\n",
       "  </tbody>\n",
       "</table>\n",
       "</div>"
      ],
      "text/plain": [
       "       InvoiceNo StockCode      Description  Quantity       InvoiceDate  \\\n",
       "299982   A563185         B  Adjust bad debt         1  08/10/2019 14:50   \n",
       "297723    562955       DOT   DOTCOM POSTAGE         1  08/09/2019 10:14   \n",
       "493020    578149       DOT   DOTCOM POSTAGE         1  11/21/2019 11:11   \n",
       "524892    580610       DOT   DOTCOM POSTAGE         1  12/03/2019 11:48   \n",
       "525134    580612       DOT   DOTCOM POSTAGE         1  12/03/2019 11:58   \n",
       "502058    578833       DOT   DOTCOM POSTAGE         1  11/23/2019 15:23   \n",
       "431348    573585       DOT   DOTCOM POSTAGE         1  10/29/2019 14:41   \n",
       "533491    581023       DOT   DOTCOM POSTAGE         1  12/05/2019 10:35   \n",
       "541540    581498       DOT   DOTCOM POSTAGE         1  12/07/2019 10:26   \n",
       "537254    581238       DOT   DOTCOM POSTAGE         1  12/06/2019 10:53   \n",
       "\n",
       "        UnitPrice  CustomerID  \n",
       "299982   11062.06         NaN  \n",
       "297723    4505.17         NaN  \n",
       "493020    2275.54         NaN  \n",
       "524892    2196.67         NaN  \n",
       "525134    2114.00         NaN  \n",
       "502058    2028.25         NaN  \n",
       "431348    2019.05         NaN  \n",
       "533491    1861.46         NaN  \n",
       "541540    1714.17         NaN  \n",
       "537254    1683.75         NaN  "
      ]
     },
     "execution_count": 346,
     "metadata": {},
     "output_type": "execute_result"
    }
   ],
   "source": [
    "df.sort_values(by='UnitPrice', ascending=False).head(10)"
   ]
  },
  {
   "cell_type": "markdown",
   "metadata": {},
   "source": [
    "masih terdapat tipe data pengeluaran dengan quantity yang tidak minus"
   ]
  },
  {
   "cell_type": "code",
   "execution_count": 347,
   "metadata": {
    "scrolled": true
   },
   "outputs": [
    {
     "data": {
      "text/plain": [
       "array(['22827', '22803', '22605', '22760', '22769', '22847', 'DOT',\n",
       "       '21258', '21761', '21340', '22503', '22946', '22947', '22761',\n",
       "       '21769', '22655', '22504', '21361', '22423', '22839', '22838',\n",
       "       '22424', '22762', '84968C', '84963A', '22830', '22833', '21359',\n",
       "       '21627', '21632', '22282', '22461', '84078A', '84813', '22765',\n",
       "       '22802', '22849', '85066', '22797', '20892', '21136', '22846',\n",
       "       '84352', '84968F', '21686', '22828', '22526', '22824', '84968a',\n",
       "       '84968e', '84968D', '84968E', '22826', '84816', '84968A', '22656',\n",
       "       '84616', '22509', '22929', '21275', '85163B', '21628', '21331',\n",
       "       'gift_0001_40', '21631', '22823', '22606', '22165', '22485',\n",
       "       '84968f', '85161', 'gift_0001_50', 'gift_0001_30', '20785',\n",
       "       '22782', '21763', '21781', '21135', '22848', '84796B', '84632',\n",
       "       '21633', '22764', '22770', '84968d', '20748', '21332', '22783',\n",
       "       '15058B', '23009', '23010', '23007', '23008', '15058C', '15058A',\n",
       "       '23253', '23065', '23064', '84358', '23111', '21473', '21310',\n",
       "       '85163A', '23072', '21277', '23444', '22502', '21476', '17003',\n",
       "       '23020', '22622', '23018', '22016', '84963B', '21270', 'B',\n",
       "       '23427', '23472', '23314', '23485', '23094', '23462', '23554',\n",
       "       '23486', '23558', '23104', '23553', '23557', '23555', '23017',\n",
       "       '23556'], dtype=object)"
      ]
     },
     "execution_count": 347,
     "metadata": {},
     "output_type": "execute_result"
    }
   ],
   "source": [
    "# melihat stockcode yang bertipe pengeluaran di kolom unitprice dengan nilai diatas nilai standar\n",
    "df[df['UnitPrice'] > 22]['StockCode'].unique()"
   ]
  },
  {
   "cell_type": "markdown",
   "metadata": {},
   "source": [
    "menghapus baris dengan stockcode 'DOT','gift_0001_40','gift_0001_50','gift_0001_30','B' yang merupakan bukan tipe penjualan"
   ]
  },
  {
   "cell_type": "code",
   "execution_count": 348,
   "metadata": {},
   "outputs": [
    {
     "data": {
      "text/html": [
       "<div>\n",
       "<style scoped>\n",
       "    .dataframe tbody tr th:only-of-type {\n",
       "        vertical-align: middle;\n",
       "    }\n",
       "\n",
       "    .dataframe tbody tr th {\n",
       "        vertical-align: top;\n",
       "    }\n",
       "\n",
       "    .dataframe thead th {\n",
       "        text-align: right;\n",
       "    }\n",
       "</style>\n",
       "<table border=\"1\" class=\"dataframe\">\n",
       "  <thead>\n",
       "    <tr style=\"text-align: right;\">\n",
       "      <th></th>\n",
       "      <th>Quantity</th>\n",
       "      <th>UnitPrice</th>\n",
       "      <th>CustomerID</th>\n",
       "    </tr>\n",
       "  </thead>\n",
       "  <tbody>\n",
       "    <tr>\n",
       "      <th>count</th>\n",
       "      <td>536483.000000</td>\n",
       "      <td>536483.000000</td>\n",
       "      <td>404879.000000</td>\n",
       "    </tr>\n",
       "    <tr>\n",
       "      <th>mean</th>\n",
       "      <td>9.888651</td>\n",
       "      <td>3.284348</td>\n",
       "      <td>15295.252992</td>\n",
       "    </tr>\n",
       "    <tr>\n",
       "      <th>std</th>\n",
       "      <td>215.956830</td>\n",
       "      <td>4.497464</td>\n",
       "      <td>1710.399838</td>\n",
       "    </tr>\n",
       "    <tr>\n",
       "      <th>min</th>\n",
       "      <td>-80995.000000</td>\n",
       "      <td>0.001000</td>\n",
       "      <td>12346.000000</td>\n",
       "    </tr>\n",
       "    <tr>\n",
       "      <th>25%</th>\n",
       "      <td>1.000000</td>\n",
       "      <td>1.250000</td>\n",
       "      <td>13969.000000</td>\n",
       "    </tr>\n",
       "    <tr>\n",
       "      <th>50%</th>\n",
       "      <td>3.000000</td>\n",
       "      <td>2.080000</td>\n",
       "      <td>15159.000000</td>\n",
       "    </tr>\n",
       "    <tr>\n",
       "      <th>75%</th>\n",
       "      <td>10.000000</td>\n",
       "      <td>4.130000</td>\n",
       "      <td>16794.000000</td>\n",
       "    </tr>\n",
       "    <tr>\n",
       "      <th>max</th>\n",
       "      <td>80995.000000</td>\n",
       "      <td>649.500000</td>\n",
       "      <td>18287.000000</td>\n",
       "    </tr>\n",
       "  </tbody>\n",
       "</table>\n",
       "</div>"
      ],
      "text/plain": [
       "            Quantity      UnitPrice     CustomerID\n",
       "count  536483.000000  536483.000000  404879.000000\n",
       "mean        9.888651       3.284348   15295.252992\n",
       "std       215.956830       4.497464    1710.399838\n",
       "min    -80995.000000       0.001000   12346.000000\n",
       "25%         1.000000       1.250000   13969.000000\n",
       "50%         3.000000       2.080000   15159.000000\n",
       "75%        10.000000       4.130000   16794.000000\n",
       "max     80995.000000     649.500000   18287.000000"
      ]
     },
     "execution_count": 348,
     "metadata": {},
     "output_type": "execute_result"
    }
   ],
   "source": [
    "#'DOT','gift_0001_40','gift_0001_50','gift_0001_30'\n",
    "\n",
    "df = df[~df[\"StockCode\"].isin(('DOT','gift_0001_40','gift_0001_50','gift_0001_30','B'))]\n",
    "df.describe()"
   ]
  },
  {
   "cell_type": "code",
   "execution_count": 349,
   "metadata": {},
   "outputs": [
    {
     "data": {
      "text/html": [
       "<div>\n",
       "<style scoped>\n",
       "    .dataframe tbody tr th:only-of-type {\n",
       "        vertical-align: middle;\n",
       "    }\n",
       "\n",
       "    .dataframe tbody tr th {\n",
       "        vertical-align: top;\n",
       "    }\n",
       "\n",
       "    .dataframe thead th {\n",
       "        text-align: right;\n",
       "    }\n",
       "</style>\n",
       "<table border=\"1\" class=\"dataframe\">\n",
       "  <thead>\n",
       "    <tr style=\"text-align: right;\">\n",
       "      <th></th>\n",
       "      <th>InvoiceNo</th>\n",
       "      <th>StockCode</th>\n",
       "      <th>Description</th>\n",
       "      <th>Quantity</th>\n",
       "      <th>InvoiceDate</th>\n",
       "      <th>UnitPrice</th>\n",
       "      <th>CustomerID</th>\n",
       "    </tr>\n",
       "  </thead>\n",
       "  <tbody>\n",
       "    <tr>\n",
       "      <th>222680</th>\n",
       "      <td>556444</td>\n",
       "      <td>22502</td>\n",
       "      <td>PICNIC BASKET WICKER 60 PIECES</td>\n",
       "      <td>60</td>\n",
       "      <td>06/08/2019 15:28</td>\n",
       "      <td>649.5</td>\n",
       "      <td>15098.0</td>\n",
       "    </tr>\n",
       "    <tr>\n",
       "      <th>222682</th>\n",
       "      <td>556446</td>\n",
       "      <td>22502</td>\n",
       "      <td>PICNIC BASKET WICKER 60 PIECES</td>\n",
       "      <td>1</td>\n",
       "      <td>06/08/2019 15:33</td>\n",
       "      <td>649.5</td>\n",
       "      <td>15098.0</td>\n",
       "    </tr>\n",
       "    <tr>\n",
       "      <th>87141</th>\n",
       "      <td>C543632</td>\n",
       "      <td>22655</td>\n",
       "      <td>VINTAGE RED KITCHEN CABINET</td>\n",
       "      <td>-1</td>\n",
       "      <td>02/08/2019 16:22</td>\n",
       "      <td>295.0</td>\n",
       "      <td>14842.0</td>\n",
       "    </tr>\n",
       "    <tr>\n",
       "      <th>82768</th>\n",
       "      <td>543253</td>\n",
       "      <td>22655</td>\n",
       "      <td>VINTAGE RED KITCHEN CABINET</td>\n",
       "      <td>1</td>\n",
       "      <td>02/02/2019 15:32</td>\n",
       "      <td>295.0</td>\n",
       "      <td>14842.0</td>\n",
       "    </tr>\n",
       "    <tr>\n",
       "      <th>51636</th>\n",
       "      <td>540647</td>\n",
       "      <td>22655</td>\n",
       "      <td>VINTAGE RED KITCHEN CABINET</td>\n",
       "      <td>1</td>\n",
       "      <td>01/08/2019 14:57</td>\n",
       "      <td>295.0</td>\n",
       "      <td>17406.0</td>\n",
       "    </tr>\n",
       "    <tr>\n",
       "      <th>205759</th>\n",
       "      <td>554836</td>\n",
       "      <td>22655</td>\n",
       "      <td>VINTAGE RED KITCHEN CABINET</td>\n",
       "      <td>1</td>\n",
       "      <td>05/24/2019 16:25</td>\n",
       "      <td>295.0</td>\n",
       "      <td>13015.0</td>\n",
       "    </tr>\n",
       "    <tr>\n",
       "      <th>32484</th>\n",
       "      <td>539080</td>\n",
       "      <td>22655</td>\n",
       "      <td>VINTAGE RED KITCHEN CABINET</td>\n",
       "      <td>1</td>\n",
       "      <td>12/14/2018 08:41</td>\n",
       "      <td>295.0</td>\n",
       "      <td>16607.0</td>\n",
       "    </tr>\n",
       "    <tr>\n",
       "      <th>133994</th>\n",
       "      <td>547814</td>\n",
       "      <td>22656</td>\n",
       "      <td>VINTAGE BLUE KITCHEN CABINET</td>\n",
       "      <td>1</td>\n",
       "      <td>03/23/2019 14:19</td>\n",
       "      <td>295.0</td>\n",
       "      <td>13452.0</td>\n",
       "    </tr>\n",
       "    <tr>\n",
       "      <th>118769</th>\n",
       "      <td>546480</td>\n",
       "      <td>22656</td>\n",
       "      <td>VINTAGE BLUE KITCHEN CABINET</td>\n",
       "      <td>1</td>\n",
       "      <td>03/12/2019 11:38</td>\n",
       "      <td>295.0</td>\n",
       "      <td>13452.0</td>\n",
       "    </tr>\n",
       "    <tr>\n",
       "      <th>171178</th>\n",
       "      <td>551393</td>\n",
       "      <td>22656</td>\n",
       "      <td>VINTAGE BLUE KITCHEN CABINET</td>\n",
       "      <td>1</td>\n",
       "      <td>04/26/2019 12:22</td>\n",
       "      <td>295.0</td>\n",
       "      <td>14973.0</td>\n",
       "    </tr>\n",
       "  </tbody>\n",
       "</table>\n",
       "</div>"
      ],
      "text/plain": [
       "       InvoiceNo StockCode                     Description  Quantity  \\\n",
       "222680    556444     22502  PICNIC BASKET WICKER 60 PIECES        60   \n",
       "222682    556446     22502  PICNIC BASKET WICKER 60 PIECES         1   \n",
       "87141    C543632     22655     VINTAGE RED KITCHEN CABINET        -1   \n",
       "82768     543253     22655     VINTAGE RED KITCHEN CABINET         1   \n",
       "51636     540647     22655     VINTAGE RED KITCHEN CABINET         1   \n",
       "205759    554836     22655     VINTAGE RED KITCHEN CABINET         1   \n",
       "32484     539080     22655     VINTAGE RED KITCHEN CABINET         1   \n",
       "133994    547814     22656    VINTAGE BLUE KITCHEN CABINET         1   \n",
       "118769    546480     22656    VINTAGE BLUE KITCHEN CABINET         1   \n",
       "171178    551393     22656    VINTAGE BLUE KITCHEN CABINET         1   \n",
       "\n",
       "             InvoiceDate  UnitPrice  CustomerID  \n",
       "222680  06/08/2019 15:28      649.5     15098.0  \n",
       "222682  06/08/2019 15:33      649.5     15098.0  \n",
       "87141   02/08/2019 16:22      295.0     14842.0  \n",
       "82768   02/02/2019 15:32      295.0     14842.0  \n",
       "51636   01/08/2019 14:57      295.0     17406.0  \n",
       "205759  05/24/2019 16:25      295.0     13015.0  \n",
       "32484   12/14/2018 08:41      295.0     16607.0  \n",
       "133994  03/23/2019 14:19      295.0     13452.0  \n",
       "118769  03/12/2019 11:38      295.0     13452.0  \n",
       "171178  04/26/2019 12:22      295.0     14973.0  "
      ]
     },
     "execution_count": 349,
     "metadata": {},
     "output_type": "execute_result"
    }
   ],
   "source": [
    "df.sort_values(by='UnitPrice', ascending=False).head(10)"
   ]
  },
  {
   "cell_type": "markdown",
   "metadata": {},
   "source": [
    "kolom unitprice sudah bersih dari data-data yang bukan penjualan"
   ]
  },
  {
   "cell_type": "markdown",
   "metadata": {},
   "source": [
    "#### Kolom Quantity <a id='132'></a>"
   ]
  },
  {
   "cell_type": "code",
   "execution_count": 350,
   "metadata": {},
   "outputs": [
    {
     "data": {
      "text/html": [
       "<div>\n",
       "<style scoped>\n",
       "    .dataframe tbody tr th:only-of-type {\n",
       "        vertical-align: middle;\n",
       "    }\n",
       "\n",
       "    .dataframe tbody tr th {\n",
       "        vertical-align: top;\n",
       "    }\n",
       "\n",
       "    .dataframe thead th {\n",
       "        text-align: right;\n",
       "    }\n",
       "</style>\n",
       "<table border=\"1\" class=\"dataframe\">\n",
       "  <thead>\n",
       "    <tr style=\"text-align: right;\">\n",
       "      <th></th>\n",
       "      <th>Quantity</th>\n",
       "      <th>UnitPrice</th>\n",
       "      <th>CustomerID</th>\n",
       "    </tr>\n",
       "  </thead>\n",
       "  <tbody>\n",
       "    <tr>\n",
       "      <th>count</th>\n",
       "      <td>536483.000000</td>\n",
       "      <td>536483.000000</td>\n",
       "      <td>404879.000000</td>\n",
       "    </tr>\n",
       "    <tr>\n",
       "      <th>mean</th>\n",
       "      <td>9.888651</td>\n",
       "      <td>3.284348</td>\n",
       "      <td>15295.252992</td>\n",
       "    </tr>\n",
       "    <tr>\n",
       "      <th>std</th>\n",
       "      <td>215.956830</td>\n",
       "      <td>4.497464</td>\n",
       "      <td>1710.399838</td>\n",
       "    </tr>\n",
       "    <tr>\n",
       "      <th>min</th>\n",
       "      <td>-80995.000000</td>\n",
       "      <td>0.001000</td>\n",
       "      <td>12346.000000</td>\n",
       "    </tr>\n",
       "    <tr>\n",
       "      <th>25%</th>\n",
       "      <td>1.000000</td>\n",
       "      <td>1.250000</td>\n",
       "      <td>13969.000000</td>\n",
       "    </tr>\n",
       "    <tr>\n",
       "      <th>50%</th>\n",
       "      <td>3.000000</td>\n",
       "      <td>2.080000</td>\n",
       "      <td>15159.000000</td>\n",
       "    </tr>\n",
       "    <tr>\n",
       "      <th>75%</th>\n",
       "      <td>10.000000</td>\n",
       "      <td>4.130000</td>\n",
       "      <td>16794.000000</td>\n",
       "    </tr>\n",
       "    <tr>\n",
       "      <th>max</th>\n",
       "      <td>80995.000000</td>\n",
       "      <td>649.500000</td>\n",
       "      <td>18287.000000</td>\n",
       "    </tr>\n",
       "  </tbody>\n",
       "</table>\n",
       "</div>"
      ],
      "text/plain": [
       "            Quantity      UnitPrice     CustomerID\n",
       "count  536483.000000  536483.000000  404879.000000\n",
       "mean        9.888651       3.284348   15295.252992\n",
       "std       215.956830       4.497464    1710.399838\n",
       "min    -80995.000000       0.001000   12346.000000\n",
       "25%         1.000000       1.250000   13969.000000\n",
       "50%         3.000000       2.080000   15159.000000\n",
       "75%        10.000000       4.130000   16794.000000\n",
       "max     80995.000000     649.500000   18287.000000"
      ]
     },
     "execution_count": 350,
     "metadata": {},
     "output_type": "execute_result"
    }
   ],
   "source": [
    "df.describe()"
   ]
  },
  {
   "cell_type": "code",
   "execution_count": 351,
   "metadata": {},
   "outputs": [
    {
     "data": {
      "text/html": [
       "<div>\n",
       "<style scoped>\n",
       "    .dataframe tbody tr th:only-of-type {\n",
       "        vertical-align: middle;\n",
       "    }\n",
       "\n",
       "    .dataframe tbody tr th {\n",
       "        vertical-align: top;\n",
       "    }\n",
       "\n",
       "    .dataframe thead th {\n",
       "        text-align: right;\n",
       "    }\n",
       "</style>\n",
       "<table border=\"1\" class=\"dataframe\">\n",
       "  <thead>\n",
       "    <tr style=\"text-align: right;\">\n",
       "      <th></th>\n",
       "      <th>InvoiceNo</th>\n",
       "      <th>StockCode</th>\n",
       "      <th>Description</th>\n",
       "      <th>Quantity</th>\n",
       "      <th>InvoiceDate</th>\n",
       "      <th>UnitPrice</th>\n",
       "      <th>CustomerID</th>\n",
       "    </tr>\n",
       "  </thead>\n",
       "  <tbody>\n",
       "    <tr>\n",
       "      <th>87141</th>\n",
       "      <td>C543632</td>\n",
       "      <td>22655</td>\n",
       "      <td>VINTAGE RED KITCHEN CABINET</td>\n",
       "      <td>-1</td>\n",
       "      <td>02/08/2019 16:22</td>\n",
       "      <td>295.0</td>\n",
       "      <td>14842.0</td>\n",
       "    </tr>\n",
       "    <tr>\n",
       "      <th>36165</th>\n",
       "      <td>C539438</td>\n",
       "      <td>22655</td>\n",
       "      <td>VINTAGE RED KITCHEN CABINET</td>\n",
       "      <td>-1</td>\n",
       "      <td>12/15/2018 15:11</td>\n",
       "      <td>295.0</td>\n",
       "      <td>16607.0</td>\n",
       "    </tr>\n",
       "    <tr>\n",
       "      <th>51674</th>\n",
       "      <td>C540652</td>\n",
       "      <td>22655</td>\n",
       "      <td>VINTAGE RED KITCHEN CABINET</td>\n",
       "      <td>-1</td>\n",
       "      <td>01/08/2019 15:04</td>\n",
       "      <td>265.5</td>\n",
       "      <td>17406.0</td>\n",
       "    </tr>\n",
       "    <tr>\n",
       "      <th>214674</th>\n",
       "      <td>C555599</td>\n",
       "      <td>22826</td>\n",
       "      <td>LOVE SEAT ANTIQUE WHITE METAL</td>\n",
       "      <td>-1</td>\n",
       "      <td>06/04/2019 10:59</td>\n",
       "      <td>195.0</td>\n",
       "      <td>17190.0</td>\n",
       "    </tr>\n",
       "    <tr>\n",
       "      <th>194248</th>\n",
       "      <td>C553564</td>\n",
       "      <td>22826</td>\n",
       "      <td>LOVE SEAT ANTIQUE WHITE METAL</td>\n",
       "      <td>-1</td>\n",
       "      <td>05/15/2019 17:43</td>\n",
       "      <td>195.0</td>\n",
       "      <td>17581.0</td>\n",
       "    </tr>\n",
       "    <tr>\n",
       "      <th>33105</th>\n",
       "      <td>C539224</td>\n",
       "      <td>22656</td>\n",
       "      <td>VINTAGE BLUE KITCHEN CABINET</td>\n",
       "      <td>-1</td>\n",
       "      <td>12/14/2018 13:01</td>\n",
       "      <td>175.0</td>\n",
       "      <td>17377.0</td>\n",
       "    </tr>\n",
       "    <tr>\n",
       "      <th>228908</th>\n",
       "      <td>C556966</td>\n",
       "      <td>22827</td>\n",
       "      <td>RUSTIC  SEVENTEEN DRAWER SIDEBOARD</td>\n",
       "      <td>-1</td>\n",
       "      <td>06/14/2019 09:55</td>\n",
       "      <td>165.0</td>\n",
       "      <td>13523.0</td>\n",
       "    </tr>\n",
       "    <tr>\n",
       "      <th>479082</th>\n",
       "      <td>C577131</td>\n",
       "      <td>22827</td>\n",
       "      <td>RUSTIC  SEVENTEEN DRAWER SIDEBOARD</td>\n",
       "      <td>-1</td>\n",
       "      <td>11/15/2019 20:01</td>\n",
       "      <td>165.0</td>\n",
       "      <td>15861.0</td>\n",
       "    </tr>\n",
       "    <tr>\n",
       "      <th>151308</th>\n",
       "      <td>C549549</td>\n",
       "      <td>22655</td>\n",
       "      <td>VINTAGE RED KITCHEN CABINET</td>\n",
       "      <td>-1</td>\n",
       "      <td>04/08/2019 11:37</td>\n",
       "      <td>125.0</td>\n",
       "      <td>16359.0</td>\n",
       "    </tr>\n",
       "    <tr>\n",
       "      <th>217099</th>\n",
       "      <td>C555889</td>\n",
       "      <td>22656</td>\n",
       "      <td>VINTAGE BLUE KITCHEN CABINET</td>\n",
       "      <td>-1</td>\n",
       "      <td>06/05/2019 16:01</td>\n",
       "      <td>125.0</td>\n",
       "      <td>13476.0</td>\n",
       "    </tr>\n",
       "  </tbody>\n",
       "</table>\n",
       "</div>"
      ],
      "text/plain": [
       "       InvoiceNo StockCode                         Description  Quantity  \\\n",
       "87141    C543632     22655         VINTAGE RED KITCHEN CABINET        -1   \n",
       "36165    C539438     22655         VINTAGE RED KITCHEN CABINET        -1   \n",
       "51674    C540652     22655         VINTAGE RED KITCHEN CABINET        -1   \n",
       "214674   C555599     22826       LOVE SEAT ANTIQUE WHITE METAL        -1   \n",
       "194248   C553564     22826       LOVE SEAT ANTIQUE WHITE METAL        -1   \n",
       "33105    C539224     22656        VINTAGE BLUE KITCHEN CABINET        -1   \n",
       "228908   C556966     22827  RUSTIC  SEVENTEEN DRAWER SIDEBOARD        -1   \n",
       "479082   C577131     22827  RUSTIC  SEVENTEEN DRAWER SIDEBOARD        -1   \n",
       "151308   C549549     22655         VINTAGE RED KITCHEN CABINET        -1   \n",
       "217099   C555889     22656        VINTAGE BLUE KITCHEN CABINET        -1   \n",
       "\n",
       "             InvoiceDate  UnitPrice  CustomerID  \n",
       "87141   02/08/2019 16:22      295.0     14842.0  \n",
       "36165   12/15/2018 15:11      295.0     16607.0  \n",
       "51674   01/08/2019 15:04      265.5     17406.0  \n",
       "214674  06/04/2019 10:59      195.0     17190.0  \n",
       "194248  05/15/2019 17:43      195.0     17581.0  \n",
       "33105   12/14/2018 13:01      175.0     17377.0  \n",
       "228908  06/14/2019 09:55      165.0     13523.0  \n",
       "479082  11/15/2019 20:01      165.0     15861.0  \n",
       "151308  04/08/2019 11:37      125.0     16359.0  \n",
       "217099  06/05/2019 16:01      125.0     13476.0  "
      ]
     },
     "execution_count": 351,
     "metadata": {},
     "output_type": "execute_result"
    }
   ],
   "source": [
    "# Pengecekan data yang minus pada kolom Quantity \n",
    "df[df['Quantity'] < 0].sort_values(by='UnitPrice', ascending=False).head(10)"
   ]
  },
  {
   "cell_type": "code",
   "execution_count": 352,
   "metadata": {},
   "outputs": [
    {
     "data": {
      "text/plain": [
       "(8704, 7)"
      ]
     },
     "execution_count": 352,
     "metadata": {},
     "output_type": "execute_result"
    }
   ],
   "source": [
    "df[df['Quantity'] <= 0].sort_values(by='Quantity').shape"
   ]
  },
  {
   "cell_type": "markdown",
   "metadata": {},
   "source": [
    "dikarenakan jumlahnya hanya sedikit dibandingkan dataframe asli dan tidak ada juga informasi terkait mengapa quantity menjadi minus dengan ini saya akan menghapus nilai baris dengan nilai quantity minus"
   ]
  },
  {
   "cell_type": "code",
   "execution_count": 353,
   "metadata": {},
   "outputs": [
    {
     "data": {
      "text/html": [
       "<div>\n",
       "<style scoped>\n",
       "    .dataframe tbody tr th:only-of-type {\n",
       "        vertical-align: middle;\n",
       "    }\n",
       "\n",
       "    .dataframe tbody tr th {\n",
       "        vertical-align: top;\n",
       "    }\n",
       "\n",
       "    .dataframe thead th {\n",
       "        text-align: right;\n",
       "    }\n",
       "</style>\n",
       "<table border=\"1\" class=\"dataframe\">\n",
       "  <thead>\n",
       "    <tr style=\"text-align: right;\">\n",
       "      <th></th>\n",
       "      <th>Quantity</th>\n",
       "      <th>UnitPrice</th>\n",
       "      <th>CustomerID</th>\n",
       "    </tr>\n",
       "  </thead>\n",
       "  <tbody>\n",
       "    <tr>\n",
       "      <th>count</th>\n",
       "      <td>527779.000000</td>\n",
       "      <td>527779.000000</td>\n",
       "      <td>396340.000000</td>\n",
       "    </tr>\n",
       "    <tr>\n",
       "      <th>mean</th>\n",
       "      <td>10.567156</td>\n",
       "      <td>3.265709</td>\n",
       "      <td>15301.689070</td>\n",
       "    </tr>\n",
       "    <tr>\n",
       "      <th>std</th>\n",
       "      <td>155.831328</td>\n",
       "      <td>4.378261</td>\n",
       "      <td>1709.957487</td>\n",
       "    </tr>\n",
       "    <tr>\n",
       "      <th>min</th>\n",
       "      <td>1.000000</td>\n",
       "      <td>0.001000</td>\n",
       "      <td>12346.000000</td>\n",
       "    </tr>\n",
       "    <tr>\n",
       "      <th>25%</th>\n",
       "      <td>1.000000</td>\n",
       "      <td>1.250000</td>\n",
       "      <td>13975.000000</td>\n",
       "    </tr>\n",
       "    <tr>\n",
       "      <th>50%</th>\n",
       "      <td>3.000000</td>\n",
       "      <td>2.080000</td>\n",
       "      <td>15159.000000</td>\n",
       "    </tr>\n",
       "    <tr>\n",
       "      <th>75%</th>\n",
       "      <td>11.000000</td>\n",
       "      <td>4.130000</td>\n",
       "      <td>16803.000000</td>\n",
       "    </tr>\n",
       "    <tr>\n",
       "      <th>max</th>\n",
       "      <td>80995.000000</td>\n",
       "      <td>649.500000</td>\n",
       "      <td>18287.000000</td>\n",
       "    </tr>\n",
       "  </tbody>\n",
       "</table>\n",
       "</div>"
      ],
      "text/plain": [
       "            Quantity      UnitPrice     CustomerID\n",
       "count  527779.000000  527779.000000  396340.000000\n",
       "mean       10.567156       3.265709   15301.689070\n",
       "std       155.831328       4.378261    1709.957487\n",
       "min         1.000000       0.001000   12346.000000\n",
       "25%         1.000000       1.250000   13975.000000\n",
       "50%         3.000000       2.080000   15159.000000\n",
       "75%        11.000000       4.130000   16803.000000\n",
       "max     80995.000000     649.500000   18287.000000"
      ]
     },
     "execution_count": 353,
     "metadata": {},
     "output_type": "execute_result"
    }
   ],
   "source": [
    "df.query('Quantity > 0', inplace=True)\n",
    "df.describe()"
   ]
  },
  {
   "cell_type": "code",
   "execution_count": 354,
   "metadata": {
    "scrolled": true
   },
   "outputs": [
    {
     "data": {
      "text/html": [
       "<div>\n",
       "<style scoped>\n",
       "    .dataframe tbody tr th:only-of-type {\n",
       "        vertical-align: middle;\n",
       "    }\n",
       "\n",
       "    .dataframe tbody tr th {\n",
       "        vertical-align: top;\n",
       "    }\n",
       "\n",
       "    .dataframe thead th {\n",
       "        text-align: right;\n",
       "    }\n",
       "</style>\n",
       "<table border=\"1\" class=\"dataframe\">\n",
       "  <thead>\n",
       "    <tr style=\"text-align: right;\">\n",
       "      <th></th>\n",
       "      <th>InvoiceNo</th>\n",
       "      <th>StockCode</th>\n",
       "      <th>Description</th>\n",
       "      <th>Quantity</th>\n",
       "      <th>InvoiceDate</th>\n",
       "      <th>UnitPrice</th>\n",
       "      <th>CustomerID</th>\n",
       "    </tr>\n",
       "  </thead>\n",
       "  <tbody>\n",
       "    <tr>\n",
       "      <th>540421</th>\n",
       "      <td>581483</td>\n",
       "      <td>23843</td>\n",
       "      <td>PAPER CRAFT , LITTLE BIRDIE</td>\n",
       "      <td>80995</td>\n",
       "      <td>12/07/2019 09:15</td>\n",
       "      <td>2.08</td>\n",
       "      <td>16446.0</td>\n",
       "    </tr>\n",
       "    <tr>\n",
       "      <th>61619</th>\n",
       "      <td>541431</td>\n",
       "      <td>23166</td>\n",
       "      <td>MEDIUM CERAMIC TOP STORAGE JAR</td>\n",
       "      <td>74215</td>\n",
       "      <td>01/16/2019 10:01</td>\n",
       "      <td>1.04</td>\n",
       "      <td>12346.0</td>\n",
       "    </tr>\n",
       "    <tr>\n",
       "      <th>421632</th>\n",
       "      <td>573008</td>\n",
       "      <td>84077</td>\n",
       "      <td>WORLD WAR 2 GLIDERS ASSTD DESIGNS</td>\n",
       "      <td>4800</td>\n",
       "      <td>10/25/2019 12:26</td>\n",
       "      <td>0.21</td>\n",
       "      <td>12901.0</td>\n",
       "    </tr>\n",
       "    <tr>\n",
       "      <th>206121</th>\n",
       "      <td>554868</td>\n",
       "      <td>22197</td>\n",
       "      <td>SMALL POPCORN HOLDER</td>\n",
       "      <td>4300</td>\n",
       "      <td>05/25/2019 10:52</td>\n",
       "      <td>0.72</td>\n",
       "      <td>13135.0</td>\n",
       "    </tr>\n",
       "    <tr>\n",
       "      <th>97432</th>\n",
       "      <td>544612</td>\n",
       "      <td>22053</td>\n",
       "      <td>EMPIRE DESIGN ROSETTE</td>\n",
       "      <td>3906</td>\n",
       "      <td>02/20/2019 10:43</td>\n",
       "      <td>0.82</td>\n",
       "      <td>18087.0</td>\n",
       "    </tr>\n",
       "    <tr>\n",
       "      <th>270885</th>\n",
       "      <td>560599</td>\n",
       "      <td>18007</td>\n",
       "      <td>ESSENTIAL BALM 3.5g TIN IN ENVELOPE</td>\n",
       "      <td>3186</td>\n",
       "      <td>07/17/2019 17:04</td>\n",
       "      <td>0.06</td>\n",
       "      <td>14609.0</td>\n",
       "    </tr>\n",
       "    <tr>\n",
       "      <th>52711</th>\n",
       "      <td>540815</td>\n",
       "      <td>21108</td>\n",
       "      <td>FAIRY CAKE FLANNEL ASSORTED COLOUR</td>\n",
       "      <td>3114</td>\n",
       "      <td>01/09/2019 12:55</td>\n",
       "      <td>2.10</td>\n",
       "      <td>15749.0</td>\n",
       "    </tr>\n",
       "    <tr>\n",
       "      <th>160546</th>\n",
       "      <td>550461</td>\n",
       "      <td>21108</td>\n",
       "      <td>FAIRY CAKE FLANNEL ASSORTED COLOUR</td>\n",
       "      <td>3114</td>\n",
       "      <td>04/16/2019 13:20</td>\n",
       "      <td>2.10</td>\n",
       "      <td>15749.0</td>\n",
       "    </tr>\n",
       "    <tr>\n",
       "      <th>433788</th>\n",
       "      <td>573995</td>\n",
       "      <td>16014</td>\n",
       "      <td>SMALL CHINESE STYLE SCISSOR</td>\n",
       "      <td>3000</td>\n",
       "      <td>10/31/2019 11:24</td>\n",
       "      <td>0.32</td>\n",
       "      <td>16308.0</td>\n",
       "    </tr>\n",
       "    <tr>\n",
       "      <th>291249</th>\n",
       "      <td>562439</td>\n",
       "      <td>84879</td>\n",
       "      <td>ASSORTED COLOUR BIRD ORNAMENT</td>\n",
       "      <td>2880</td>\n",
       "      <td>08/02/2019 18:06</td>\n",
       "      <td>1.45</td>\n",
       "      <td>12931.0</td>\n",
       "    </tr>\n",
       "  </tbody>\n",
       "</table>\n",
       "</div>"
      ],
      "text/plain": [
       "       InvoiceNo StockCode                          Description  Quantity  \\\n",
       "540421    581483     23843          PAPER CRAFT , LITTLE BIRDIE     80995   \n",
       "61619     541431     23166       MEDIUM CERAMIC TOP STORAGE JAR     74215   \n",
       "421632    573008     84077    WORLD WAR 2 GLIDERS ASSTD DESIGNS      4800   \n",
       "206121    554868     22197                 SMALL POPCORN HOLDER      4300   \n",
       "97432     544612     22053                EMPIRE DESIGN ROSETTE      3906   \n",
       "270885    560599     18007  ESSENTIAL BALM 3.5g TIN IN ENVELOPE      3186   \n",
       "52711     540815     21108   FAIRY CAKE FLANNEL ASSORTED COLOUR      3114   \n",
       "160546    550461     21108   FAIRY CAKE FLANNEL ASSORTED COLOUR      3114   \n",
       "433788    573995     16014          SMALL CHINESE STYLE SCISSOR      3000   \n",
       "291249    562439     84879        ASSORTED COLOUR BIRD ORNAMENT      2880   \n",
       "\n",
       "             InvoiceDate  UnitPrice  CustomerID  \n",
       "540421  12/07/2019 09:15       2.08     16446.0  \n",
       "61619   01/16/2019 10:01       1.04     12346.0  \n",
       "421632  10/25/2019 12:26       0.21     12901.0  \n",
       "206121  05/25/2019 10:52       0.72     13135.0  \n",
       "97432   02/20/2019 10:43       0.82     18087.0  \n",
       "270885  07/17/2019 17:04       0.06     14609.0  \n",
       "52711   01/09/2019 12:55       2.10     15749.0  \n",
       "160546  04/16/2019 13:20       2.10     15749.0  \n",
       "433788  10/31/2019 11:24       0.32     16308.0  \n",
       "291249  08/02/2019 18:06       1.45     12931.0  "
      ]
     },
     "execution_count": 354,
     "metadata": {},
     "output_type": "execute_result"
    }
   ],
   "source": [
    "df.sort_values(by='Quantity', ascending=False).head(10)"
   ]
  },
  {
   "cell_type": "code",
   "execution_count": 355,
   "metadata": {},
   "outputs": [
    {
     "data": {
      "text/plain": [
       "<Axes: >"
      ]
     },
     "execution_count": 355,
     "metadata": {},
     "output_type": "execute_result"
    },
    {
     "data": {
      "image/png": "[encoded data removed]",
      "text/plain": [
       "<Figure size 640x480 with 1 Axes>"
      ]
     },
     "metadata": {},
     "output_type": "display_data"
    }
   ],
   "source": [
    "df.Quantity.plot(kind='box')\n"
   ]
  },
  {
   "cell_type": "markdown",
   "metadata": {},
   "source": [
    "terdapat outlier sangat jauh pada kolom quantity, dengan ini saya menyimpulkan quantity diatas 10000 dihitung sebagai outlier"
   ]
  },
  {
   "cell_type": "code",
   "execution_count": 356,
   "metadata": {},
   "outputs": [
    {
     "data": {
      "text/html": [
       "<div>\n",
       "<style scoped>\n",
       "    .dataframe tbody tr th:only-of-type {\n",
       "        vertical-align: middle;\n",
       "    }\n",
       "\n",
       "    .dataframe tbody tr th {\n",
       "        vertical-align: top;\n",
       "    }\n",
       "\n",
       "    .dataframe thead th {\n",
       "        text-align: right;\n",
       "    }\n",
       "</style>\n",
       "<table border=\"1\" class=\"dataframe\">\n",
       "  <thead>\n",
       "    <tr style=\"text-align: right;\">\n",
       "      <th></th>\n",
       "      <th>Quantity</th>\n",
       "      <th>UnitPrice</th>\n",
       "      <th>CustomerID</th>\n",
       "    </tr>\n",
       "  </thead>\n",
       "  <tbody>\n",
       "    <tr>\n",
       "      <th>count</th>\n",
       "      <td>527777.000000</td>\n",
       "      <td>527777.000000</td>\n",
       "      <td>396338.00000</td>\n",
       "    </tr>\n",
       "    <tr>\n",
       "      <th>mean</th>\n",
       "      <td>10.273113</td>\n",
       "      <td>3.265715</td>\n",
       "      <td>15301.69364</td>\n",
       "    </tr>\n",
       "    <tr>\n",
       "      <th>std</th>\n",
       "      <td>37.732681</td>\n",
       "      <td>4.378268</td>\n",
       "      <td>1709.95439</td>\n",
       "    </tr>\n",
       "    <tr>\n",
       "      <th>min</th>\n",
       "      <td>1.000000</td>\n",
       "      <td>0.001000</td>\n",
       "      <td>12347.00000</td>\n",
       "    </tr>\n",
       "    <tr>\n",
       "      <th>25%</th>\n",
       "      <td>1.000000</td>\n",
       "      <td>1.250000</td>\n",
       "      <td>13975.00000</td>\n",
       "    </tr>\n",
       "    <tr>\n",
       "      <th>50%</th>\n",
       "      <td>3.000000</td>\n",
       "      <td>2.080000</td>\n",
       "      <td>15159.00000</td>\n",
       "    </tr>\n",
       "    <tr>\n",
       "      <th>75%</th>\n",
       "      <td>11.000000</td>\n",
       "      <td>4.130000</td>\n",
       "      <td>16803.00000</td>\n",
       "    </tr>\n",
       "    <tr>\n",
       "      <th>max</th>\n",
       "      <td>4800.000000</td>\n",
       "      <td>649.500000</td>\n",
       "      <td>18287.00000</td>\n",
       "    </tr>\n",
       "  </tbody>\n",
       "</table>\n",
       "</div>"
      ],
      "text/plain": [
       "            Quantity      UnitPrice    CustomerID\n",
       "count  527777.000000  527777.000000  396338.00000\n",
       "mean       10.273113       3.265715   15301.69364\n",
       "std        37.732681       4.378268    1709.95439\n",
       "min         1.000000       0.001000   12347.00000\n",
       "25%         1.000000       1.250000   13975.00000\n",
       "50%         3.000000       2.080000   15159.00000\n",
       "75%        11.000000       4.130000   16803.00000\n",
       "max      4800.000000     649.500000   18287.00000"
      ]
     },
     "execution_count": 356,
     "metadata": {},
     "output_type": "execute_result"
    }
   ],
   "source": [
    "df.query('Quantity < 10000', inplace=True)\n",
    "df.describe()"
   ]
  },
  {
   "cell_type": "markdown",
   "metadata": {},
   "source": [
    "### Nilai duplikat <a id='14'></a>"
   ]
  },
  {
   "cell_type": "code",
   "execution_count": 357,
   "metadata": {},
   "outputs": [
    {
     "data": {
      "text/plain": [
       "5221"
      ]
     },
     "execution_count": 357,
     "metadata": {},
     "output_type": "execute_result"
    }
   ],
   "source": [
    "df.duplicated().sum()"
   ]
  },
  {
   "cell_type": "markdown",
   "metadata": {},
   "source": [
    "jumlahnya sangat sedikit, maka dengan ini nilai duplikat akan dihapus"
   ]
  },
  {
   "cell_type": "code",
   "execution_count": 358,
   "metadata": {},
   "outputs": [],
   "source": [
    "df.drop_duplicates(inplace=True)"
   ]
  },
  {
   "cell_type": "code",
   "execution_count": 359,
   "metadata": {},
   "outputs": [
    {
     "data": {
      "text/plain": [
       "0.9642873619002452"
      ]
     },
     "execution_count": 359,
     "metadata": {},
     "output_type": "execute_result"
    }
   ],
   "source": [
    "# Persentase dataframe setelah dibersihkan dibandingkan dataframe awal\n",
    "len(df) / 541909"
   ]
  },
  {
   "cell_type": "markdown",
   "metadata": {},
   "source": [
    "setelah dibersihkan dari nilai duplikat dan data-data pengeluaran, data yang terbuang hanya sebesar 4%"
   ]
  },
  {
   "cell_type": "markdown",
   "metadata": {},
   "source": [
    "### Perbaikan Data <a id='15'></a>"
   ]
  },
  {
   "cell_type": "code",
   "execution_count": 360,
   "metadata": {},
   "outputs": [
    {
     "name": "stdout",
     "output_type": "stream",
     "text": [
      "<class 'pandas.core.frame.DataFrame'>\n",
      "Index: 522556 entries, 0 to 541908\n",
      "Data columns (total 7 columns):\n",
      " #   Column       Non-Null Count   Dtype  \n",
      "---  ------       --------------   -----  \n",
      " 0   InvoiceNo    522556 non-null  object \n",
      " 1   StockCode    522556 non-null  object \n",
      " 2   Description  522556 non-null  object \n",
      " 3   Quantity     522556 non-null  int64  \n",
      " 4   InvoiceDate  522556 non-null  object \n",
      " 5   UnitPrice    522556 non-null  float64\n",
      " 6   CustomerID   391151 non-null  float64\n",
      "dtypes: float64(2), int64(1), object(4)\n",
      "memory usage: 31.9+ MB\n"
     ]
    }
   ],
   "source": [
    "df.info()"
   ]
  },
  {
   "cell_type": "code",
   "execution_count": 361,
   "metadata": {},
   "outputs": [
    {
     "data": {
      "text/html": [
       "<div>\n",
       "<style scoped>\n",
       "    .dataframe tbody tr th:only-of-type {\n",
       "        vertical-align: middle;\n",
       "    }\n",
       "\n",
       "    .dataframe tbody tr th {\n",
       "        vertical-align: top;\n",
       "    }\n",
       "\n",
       "    .dataframe thead th {\n",
       "        text-align: right;\n",
       "    }\n",
       "</style>\n",
       "<table border=\"1\" class=\"dataframe\">\n",
       "  <thead>\n",
       "    <tr style=\"text-align: right;\">\n",
       "      <th></th>\n",
       "      <th>InvoiceNo</th>\n",
       "      <th>StockCode</th>\n",
       "      <th>Description</th>\n",
       "      <th>Quantity</th>\n",
       "      <th>InvoiceDate</th>\n",
       "      <th>UnitPrice</th>\n",
       "      <th>CustomerID</th>\n",
       "    </tr>\n",
       "  </thead>\n",
       "  <tbody>\n",
       "    <tr>\n",
       "      <th>0</th>\n",
       "      <td>536365</td>\n",
       "      <td>85123A</td>\n",
       "      <td>WHITE HANGING HEART T-LIGHT HOLDER</td>\n",
       "      <td>6</td>\n",
       "      <td>11/29/2018 08:26</td>\n",
       "      <td>2.55</td>\n",
       "      <td>17850.0</td>\n",
       "    </tr>\n",
       "    <tr>\n",
       "      <th>1</th>\n",
       "      <td>536365</td>\n",
       "      <td>71053</td>\n",
       "      <td>WHITE METAL LANTERN</td>\n",
       "      <td>6</td>\n",
       "      <td>11/29/2018 08:26</td>\n",
       "      <td>3.39</td>\n",
       "      <td>17850.0</td>\n",
       "    </tr>\n",
       "    <tr>\n",
       "      <th>2</th>\n",
       "      <td>536365</td>\n",
       "      <td>84406B</td>\n",
       "      <td>CREAM CUPID HEARTS COAT HANGER</td>\n",
       "      <td>8</td>\n",
       "      <td>11/29/2018 08:26</td>\n",
       "      <td>2.75</td>\n",
       "      <td>17850.0</td>\n",
       "    </tr>\n",
       "    <tr>\n",
       "      <th>3</th>\n",
       "      <td>536365</td>\n",
       "      <td>84029G</td>\n",
       "      <td>KNITTED UNION FLAG HOT WATER BOTTLE</td>\n",
       "      <td>6</td>\n",
       "      <td>11/29/2018 08:26</td>\n",
       "      <td>3.39</td>\n",
       "      <td>17850.0</td>\n",
       "    </tr>\n",
       "    <tr>\n",
       "      <th>4</th>\n",
       "      <td>536365</td>\n",
       "      <td>84029E</td>\n",
       "      <td>RED WOOLLY HOTTIE WHITE HEART.</td>\n",
       "      <td>6</td>\n",
       "      <td>11/29/2018 08:26</td>\n",
       "      <td>3.39</td>\n",
       "      <td>17850.0</td>\n",
       "    </tr>\n",
       "  </tbody>\n",
       "</table>\n",
       "</div>"
      ],
      "text/plain": [
       "  InvoiceNo StockCode                          Description  Quantity  \\\n",
       "0    536365    85123A   WHITE HANGING HEART T-LIGHT HOLDER         6   \n",
       "1    536365     71053                  WHITE METAL LANTERN         6   \n",
       "2    536365    84406B       CREAM CUPID HEARTS COAT HANGER         8   \n",
       "3    536365    84029G  KNITTED UNION FLAG HOT WATER BOTTLE         6   \n",
       "4    536365    84029E       RED WOOLLY HOTTIE WHITE HEART.         6   \n",
       "\n",
       "        InvoiceDate  UnitPrice  CustomerID  \n",
       "0  11/29/2018 08:26       2.55     17850.0  \n",
       "1  11/29/2018 08:26       3.39     17850.0  \n",
       "2  11/29/2018 08:26       2.75     17850.0  \n",
       "3  11/29/2018 08:26       3.39     17850.0  \n",
       "4  11/29/2018 08:26       3.39     17850.0  "
      ]
     },
     "execution_count": 361,
     "metadata": {},
     "output_type": "execute_result"
    }
   ],
   "source": [
    "df.head()"
   ]
  },
  {
   "cell_type": "code",
   "execution_count": 362,
   "metadata": {},
   "outputs": [],
   "source": [
    "#mengubah nama kolom menjadi snackcase dan lowercase pada kolom description\n",
    "df.rename(columns={\"InvoiceNo\": \"invoice_no\",\n",
    "                   \"StockCode\": \"stock_code\",\n",
    "                   \"Description\": \"description\",\n",
    "                   \"Quantity\": \"quantity\",\n",
    "                   \"InvoiceDate\": \"invoice_date\",\n",
    "                   \"UnitPrice\": \"unit_price\",\n",
    "                   \"CustomerID\": \"customer_id\"}, inplace=True)\n",
    "df['description'] = df['description'].str.lower()"
   ]
  },
  {
   "cell_type": "code",
   "execution_count": 363,
   "metadata": {
    "scrolled": true
   },
   "outputs": [],
   "source": [
    "# Mengubah Tipe Data \n",
    "df['customer_id'] = df['customer_id'].astype('Int64')\n",
    "df['invoice_date'] = pd.to_datetime(df['invoice_date'])\n",
    "df['invoice_no'] = df['invoice_no'].astype('Int64')"
   ]
  },
  {
   "cell_type": "code",
   "execution_count": 364,
   "metadata": {},
   "outputs": [
    {
     "name": "stdout",
     "output_type": "stream",
     "text": [
      "<class 'pandas.core.frame.DataFrame'>\n",
      "Index: 522556 entries, 0 to 541908\n",
      "Data columns (total 7 columns):\n",
      " #   Column        Non-Null Count   Dtype         \n",
      "---  ------        --------------   -----         \n",
      " 0   invoice_no    522556 non-null  Int64         \n",
      " 1   stock_code    522556 non-null  object        \n",
      " 2   description   522556 non-null  object        \n",
      " 3   quantity      522556 non-null  int64         \n",
      " 4   invoice_date  522556 non-null  datetime64[ns]\n",
      " 5   unit_price    522556 non-null  float64       \n",
      " 6   customer_id   391151 non-null  Int64         \n",
      "dtypes: Int64(2), datetime64[ns](1), float64(1), int64(1), object(2)\n",
      "memory usage: 32.9+ MB\n"
     ]
    }
   ],
   "source": [
    "df.info()"
   ]
  },
  {
   "cell_type": "code",
   "execution_count": 365,
   "metadata": {},
   "outputs": [],
   "source": [
    "# Menambahkan kolom untuk total pembelanjaan\n",
    "df['total_price'] = df['quantity'] * df['unit_price']"
   ]
  },
  {
   "cell_type": "code",
   "execution_count": 366,
   "metadata": {},
   "outputs": [],
   "source": [
    "# Menambahkan kolom untuk Hari, Minggu dan Bulan pembelian\n",
    "df['days'] = df['invoice_date'].dt.dayofweek\n",
    "#df['weeks'] = df['InvoiceDate'].dt.isocalendar().week\n",
    "df['month'] = df['invoice_date'].dt.month\n",
    "df['datetime'] = df['invoice_date'].dt.date"
   ]
  },
  {
   "cell_type": "code",
   "execution_count": 367,
   "metadata": {},
   "outputs": [
    {
     "data": {
      "text/plain": [
       "datetime.date(2019, 12, 7)"
      ]
     },
     "execution_count": 367,
     "metadata": {},
     "output_type": "execute_result"
    }
   ],
   "source": [
    "df['datetime'].max()"
   ]
  },
  {
   "cell_type": "code",
   "execution_count": 368,
   "metadata": {},
   "outputs": [
    {
     "data": {
      "text/plain": [
       "datetime.date(2018, 11, 29)"
      ]
     },
     "execution_count": 368,
     "metadata": {},
     "output_type": "execute_result"
    }
   ],
   "source": [
    "df['datetime'].min()"
   ]
  },
  {
   "cell_type": "markdown",
   "metadata": {},
   "source": [
    "setelah dilihat, data yang dimiliki memiliki rentang waktu sekitar 1 tahun"
   ]
  },
  {
   "cell_type": "code",
   "execution_count": 369,
   "metadata": {
    "scrolled": false
   },
   "outputs": [
    {
     "data": {
      "text/html": [
       "<div>\n",
       "<style scoped>\n",
       "    .dataframe tbody tr th:only-of-type {\n",
       "        vertical-align: middle;\n",
       "    }\n",
       "\n",
       "    .dataframe tbody tr th {\n",
       "        vertical-align: top;\n",
       "    }\n",
       "\n",
       "    .dataframe thead th {\n",
       "        text-align: right;\n",
       "    }\n",
       "</style>\n",
       "<table border=\"1\" class=\"dataframe\">\n",
       "  <thead>\n",
       "    <tr style=\"text-align: right;\">\n",
       "      <th></th>\n",
       "      <th>invoice_no</th>\n",
       "      <th>stock_code</th>\n",
       "      <th>description</th>\n",
       "      <th>quantity</th>\n",
       "      <th>invoice_date</th>\n",
       "      <th>unit_price</th>\n",
       "      <th>customer_id</th>\n",
       "      <th>total_price</th>\n",
       "      <th>days</th>\n",
       "      <th>month</th>\n",
       "      <th>datetime</th>\n",
       "    </tr>\n",
       "  </thead>\n",
       "  <tbody>\n",
       "    <tr>\n",
       "      <th>0</th>\n",
       "      <td>536365</td>\n",
       "      <td>85123A</td>\n",
       "      <td>white hanging heart t-light holder</td>\n",
       "      <td>6</td>\n",
       "      <td>2018-11-29 08:26:00</td>\n",
       "      <td>2.55</td>\n",
       "      <td>17850</td>\n",
       "      <td>15.30</td>\n",
       "      <td>3</td>\n",
       "      <td>11</td>\n",
       "      <td>2018-11-29</td>\n",
       "    </tr>\n",
       "    <tr>\n",
       "      <th>1</th>\n",
       "      <td>536365</td>\n",
       "      <td>71053</td>\n",
       "      <td>white metal lantern</td>\n",
       "      <td>6</td>\n",
       "      <td>2018-11-29 08:26:00</td>\n",
       "      <td>3.39</td>\n",
       "      <td>17850</td>\n",
       "      <td>20.34</td>\n",
       "      <td>3</td>\n",
       "      <td>11</td>\n",
       "      <td>2018-11-29</td>\n",
       "    </tr>\n",
       "    <tr>\n",
       "      <th>2</th>\n",
       "      <td>536365</td>\n",
       "      <td>84406B</td>\n",
       "      <td>cream cupid hearts coat hanger</td>\n",
       "      <td>8</td>\n",
       "      <td>2018-11-29 08:26:00</td>\n",
       "      <td>2.75</td>\n",
       "      <td>17850</td>\n",
       "      <td>22.00</td>\n",
       "      <td>3</td>\n",
       "      <td>11</td>\n",
       "      <td>2018-11-29</td>\n",
       "    </tr>\n",
       "    <tr>\n",
       "      <th>3</th>\n",
       "      <td>536365</td>\n",
       "      <td>84029G</td>\n",
       "      <td>knitted union flag hot water bottle</td>\n",
       "      <td>6</td>\n",
       "      <td>2018-11-29 08:26:00</td>\n",
       "      <td>3.39</td>\n",
       "      <td>17850</td>\n",
       "      <td>20.34</td>\n",
       "      <td>3</td>\n",
       "      <td>11</td>\n",
       "      <td>2018-11-29</td>\n",
       "    </tr>\n",
       "    <tr>\n",
       "      <th>4</th>\n",
       "      <td>536365</td>\n",
       "      <td>84029E</td>\n",
       "      <td>red woolly hottie white heart.</td>\n",
       "      <td>6</td>\n",
       "      <td>2018-11-29 08:26:00</td>\n",
       "      <td>3.39</td>\n",
       "      <td>17850</td>\n",
       "      <td>20.34</td>\n",
       "      <td>3</td>\n",
       "      <td>11</td>\n",
       "      <td>2018-11-29</td>\n",
       "    </tr>\n",
       "  </tbody>\n",
       "</table>\n",
       "</div>"
      ],
      "text/plain": [
       "   invoice_no stock_code                          description  quantity  \\\n",
       "0      536365     85123A   white hanging heart t-light holder         6   \n",
       "1      536365      71053                  white metal lantern         6   \n",
       "2      536365     84406B       cream cupid hearts coat hanger         8   \n",
       "3      536365     84029G  knitted union flag hot water bottle         6   \n",
       "4      536365     84029E       red woolly hottie white heart.         6   \n",
       "\n",
       "         invoice_date  unit_price  customer_id  total_price  days  month  \\\n",
       "0 2018-11-29 08:26:00        2.55        17850        15.30     3     11   \n",
       "1 2018-11-29 08:26:00        3.39        17850        20.34     3     11   \n",
       "2 2018-11-29 08:26:00        2.75        17850        22.00     3     11   \n",
       "3 2018-11-29 08:26:00        3.39        17850        20.34     3     11   \n",
       "4 2018-11-29 08:26:00        3.39        17850        20.34     3     11   \n",
       "\n",
       "     datetime  \n",
       "0  2018-11-29  \n",
       "1  2018-11-29  \n",
       "2  2018-11-29  \n",
       "3  2018-11-29  \n",
       "4  2018-11-29  "
      ]
     },
     "execution_count": 369,
     "metadata": {},
     "output_type": "execute_result"
    }
   ],
   "source": [
    "df.head()"
   ]
  },
  {
   "cell_type": "markdown",
   "metadata": {},
   "source": [
    "## Eksplorasi Data Analisis <a id='2'></a>"
   ]
  },
  {
   "cell_type": "markdown",
   "metadata": {},
   "source": [
    "### Pendapatan <a id='21'></a>"
   ]
  },
  {
   "cell_type": "code",
   "execution_count": 370,
   "metadata": {},
   "outputs": [
    {
     "data": {
      "text/plain": [
       "<Axes: title={'center': 'Grafik pendapatan perhari'}, xlabel='datetime'>"
      ]
     },
     "execution_count": 370,
     "metadata": {},
     "output_type": "execute_result"
    },
    {
     "data": {
      "image/png": "[encoded data removed]",
      "text/plain": [
       "<Figure size 1000x500 with 1 Axes>"
      ]
     },
     "metadata": {},
     "output_type": "display_data"
    }
   ],
   "source": [
    "# Melihat pendapatan perhari\n",
    "\n",
    "income_daily = df.pivot_table(\n",
    "    index='datetime',\n",
    "    values='total_price',\n",
    "    aggfunc='sum')\n",
    "income_daily.head()\n",
    "income_daily.plot(kind='line', title='Grafik pendapatan perhari', figsize=(10,5))"
   ]
  },
  {
   "cell_type": "markdown",
   "metadata": {},
   "source": [
    "walaupun tidak terlihat begitu jelas akan tetapi terlihat dibagian akhir grafiknya mengalami kenaikan dan ada hari hari yang mengalami kenaikan signifikan"
   ]
  },
  {
   "cell_type": "code",
   "execution_count": 371,
   "metadata": {},
   "outputs": [
    {
     "data": {
      "text/plain": [
       "<Axes: title={'center': 'Grafik pendapatan perbulan'}, xlabel='month'>"
      ]
     },
     "execution_count": 371,
     "metadata": {},
     "output_type": "execute_result"
    },
    {
     "data": {
      "image/png": "[encoded data removed]",
      "text/plain": [
       "<Figure size 640x480 with 1 Axes>"
      ]
     },
     "metadata": {},
     "output_type": "display_data"
    }
   ],
   "source": [
    "income_monthly = df.pivot_table(\n",
    "    index='month',\n",
    "    values='total_price',\n",
    "    aggfunc='sum')\n",
    "income_monthly.plot(kind='line', title='Grafik pendapatan perbulan')"
   ]
  },
  {
   "cell_type": "markdown",
   "metadata": {},
   "source": [
    "seperti yang bisa dilihat bahwa pendapatan mengalami kenaikan pada saat akhir tahun terhitung mulai bulan 8"
   ]
  },
  {
   "cell_type": "code",
   "execution_count": 372,
   "metadata": {},
   "outputs": [
    {
     "data": {
      "text/plain": [
       "<Axes: title={'center': 'Grafik pendapatan berdasarkan hari'}, xlabel='days'>"
      ]
     },
     "execution_count": 372,
     "metadata": {},
     "output_type": "execute_result"
    },
    {
     "data": {
      "image/png": "[encoded data removed]",
      "text/plain": [
       "<Figure size 640x480 with 1 Axes>"
      ]
     },
     "metadata": {},
     "output_type": "display_data"
    }
   ],
   "source": [
    "income_by_day = df.pivot_table(\n",
    "    index='days',\n",
    "    values='total_price',\n",
    "    aggfunc='sum')\n",
    "income_by_day.plot(kind='line', title='Grafik pendapatan berdasarkan hari')"
   ]
  },
  {
   "cell_type": "markdown",
   "metadata": {},
   "source": [
    "jika dilihat grafik pendapatan berdasarkan hari, didapati bahwa hari rabu dan jumat adalah hari yang memiliki pendapatan tinggi dibandingkan hari yang lain secara keseluruhan"
   ]
  },
  {
   "cell_type": "markdown",
   "metadata": {},
   "source": [
    "### Mengidentifikasi barang yang banyak dibeli <a id='22'></a>"
   ]
  },
  {
   "cell_type": "code",
   "execution_count": 373,
   "metadata": {},
   "outputs": [
    {
     "data": {
      "text/html": [
       "<div>\n",
       "<style scoped>\n",
       "    .dataframe tbody tr th:only-of-type {\n",
       "        vertical-align: middle;\n",
       "    }\n",
       "\n",
       "    .dataframe tbody tr th {\n",
       "        vertical-align: top;\n",
       "    }\n",
       "\n",
       "    .dataframe thead th {\n",
       "        text-align: right;\n",
       "    }\n",
       "</style>\n",
       "<table border=\"1\" class=\"dataframe\">\n",
       "  <thead>\n",
       "    <tr style=\"text-align: right;\">\n",
       "      <th></th>\n",
       "      <th>description</th>\n",
       "      <th>quantity</th>\n",
       "    </tr>\n",
       "  </thead>\n",
       "  <tbody>\n",
       "    <tr>\n",
       "      <th>3923</th>\n",
       "      <td>world war 2 gliders asstd designs</td>\n",
       "      <td>54951</td>\n",
       "    </tr>\n",
       "    <tr>\n",
       "      <th>1808</th>\n",
       "      <td>jumbo bag red retrospot</td>\n",
       "      <td>48371</td>\n",
       "    </tr>\n",
       "    <tr>\n",
       "      <th>3833</th>\n",
       "      <td>white hanging heart t-light holder</td>\n",
       "      <td>37872</td>\n",
       "    </tr>\n",
       "    <tr>\n",
       "      <th>2672</th>\n",
       "      <td>popcorn holder</td>\n",
       "      <td>36749</td>\n",
       "    </tr>\n",
       "    <tr>\n",
       "      <th>2329</th>\n",
       "      <td>pack of 72 retrospot cake cases</td>\n",
       "      <td>36396</td>\n",
       "    </tr>\n",
       "    <tr>\n",
       "      <th>226</th>\n",
       "      <td>assorted colour bird ornament</td>\n",
       "      <td>36362</td>\n",
       "    </tr>\n",
       "    <tr>\n",
       "      <th>2731</th>\n",
       "      <td>rabbit night light</td>\n",
       "      <td>30739</td>\n",
       "    </tr>\n",
       "    <tr>\n",
       "      <th>2100</th>\n",
       "      <td>mini paint set vintage</td>\n",
       "      <td>26633</td>\n",
       "    </tr>\n",
       "    <tr>\n",
       "      <th>2295</th>\n",
       "      <td>pack of 12 london tissues</td>\n",
       "      <td>26119</td>\n",
       "    </tr>\n",
       "    <tr>\n",
       "      <th>2327</th>\n",
       "      <td>pack of 60 pink paisley cake cases</td>\n",
       "      <td>24820</td>\n",
       "    </tr>\n",
       "  </tbody>\n",
       "</table>\n",
       "</div>"
      ],
      "text/plain": [
       "                             description  quantity\n",
       "3923   world war 2 gliders asstd designs     54951\n",
       "1808             jumbo bag red retrospot     48371\n",
       "3833  white hanging heart t-light holder     37872\n",
       "2672                      popcorn holder     36749\n",
       "2329     pack of 72 retrospot cake cases     36396\n",
       "226        assorted colour bird ornament     36362\n",
       "2731                  rabbit night light     30739\n",
       "2100             mini paint set vintage      26633\n",
       "2295          pack of 12 london tissues      26119\n",
       "2327  pack of 60 pink paisley cake cases     24820"
      ]
     },
     "execution_count": 373,
     "metadata": {},
     "output_type": "execute_result"
    }
   ],
   "source": [
    "goods_total = df.groupby(['description']).agg({'quantity':'sum'}).reset_index()\\\n",
    "                .sort_values(by='quantity',ascending=False)\n",
    "goods_total.head(10)"
   ]
  },
  {
   "cell_type": "markdown",
   "metadata": {},
   "source": [
    "world war 2 gliders asstd designs dan jumbo bag red retrospot adalah 2 barang dengan penjualan tertinggi dibandingkan dengan barang yang lain"
   ]
  },
  {
   "cell_type": "markdown",
   "metadata": {},
   "source": [
    "###  Persebaran Penjualan 10 barang terlaris <a id='23'></a>"
   ]
  },
  {
   "cell_type": "code",
   "execution_count": 374,
   "metadata": {},
   "outputs": [
    {
     "data": {
      "text/plain": [
       "array(['world war 2 gliders asstd designs', 'jumbo bag red retrospot',\n",
       "       'white hanging heart t-light holder', 'popcorn holder',\n",
       "       'pack of 72 retrospot cake cases', 'assorted colour bird ornament',\n",
       "       'rabbit night light', 'mini paint set vintage ',\n",
       "       'pack of 12 london tissues ', 'pack of 60 pink paisley cake cases'],\n",
       "      dtype=object)"
      ]
     },
     "execution_count": 374,
     "metadata": {},
     "output_type": "execute_result"
    }
   ],
   "source": [
    "# membuat dataframe yang berisikan 10 barang dengan total penjualan teratas\n",
    "\n",
    "goods_top10 = goods_total.head(10)['description'].unique()\n",
    "goods_top10"
   ]
  },
  {
   "cell_type": "code",
   "execution_count": 375,
   "metadata": {},
   "outputs": [
    {
     "data": {
      "text/html": [
       "<div>\n",
       "<style scoped>\n",
       "    .dataframe tbody tr th:only-of-type {\n",
       "        vertical-align: middle;\n",
       "    }\n",
       "\n",
       "    .dataframe tbody tr th {\n",
       "        vertical-align: top;\n",
       "    }\n",
       "\n",
       "    .dataframe thead th {\n",
       "        text-align: right;\n",
       "    }\n",
       "</style>\n",
       "<table border=\"1\" class=\"dataframe\">\n",
       "  <thead>\n",
       "    <tr style=\"text-align: right;\">\n",
       "      <th></th>\n",
       "      <th>description</th>\n",
       "      <th>days</th>\n",
       "      <th>quantity</th>\n",
       "    </tr>\n",
       "  </thead>\n",
       "  <tbody>\n",
       "    <tr>\n",
       "      <th>0</th>\n",
       "      <td>4 purple flock dinner candles</td>\n",
       "      <td>0</td>\n",
       "      <td>28</td>\n",
       "    </tr>\n",
       "    <tr>\n",
       "      <th>1</th>\n",
       "      <td>4 purple flock dinner candles</td>\n",
       "      <td>1</td>\n",
       "      <td>26</td>\n",
       "    </tr>\n",
       "    <tr>\n",
       "      <th>2</th>\n",
       "      <td>4 purple flock dinner candles</td>\n",
       "      <td>2</td>\n",
       "      <td>23</td>\n",
       "    </tr>\n",
       "    <tr>\n",
       "      <th>3</th>\n",
       "      <td>4 purple flock dinner candles</td>\n",
       "      <td>3</td>\n",
       "      <td>42</td>\n",
       "    </tr>\n",
       "    <tr>\n",
       "      <th>4</th>\n",
       "      <td>4 purple flock dinner candles</td>\n",
       "      <td>4</td>\n",
       "      <td>13</td>\n",
       "    </tr>\n",
       "  </tbody>\n",
       "</table>\n",
       "</div>"
      ],
      "text/plain": [
       "                      description  days  quantity\n",
       "0   4 purple flock dinner candles     0        28\n",
       "1   4 purple flock dinner candles     1        26\n",
       "2   4 purple flock dinner candles     2        23\n",
       "3   4 purple flock dinner candles     3        42\n",
       "4   4 purple flock dinner candles     4        13"
      ]
     },
     "execution_count": 375,
     "metadata": {},
     "output_type": "execute_result"
    }
   ],
   "source": [
    "# dataframe bagaimana setiap barang terjual berdasarkan harinya\n",
    "goods_daily = df.groupby(['description','days']).agg({'quantity':'sum'}).reset_index()\n",
    "goods_daily.head()"
   ]
  },
  {
   "cell_type": "code",
   "execution_count": 376,
   "metadata": {},
   "outputs": [
    {
     "data": {
      "image/png": "[encoded data removed]",
      "text/plain": [
       "<Figure size 1000x500 with 1 Axes>"
      ]
     },
     "metadata": {},
     "output_type": "display_data"
    }
   ],
   "source": [
    "plt.figure(figsize=(10,5))\n",
    "sns.lineplot(data=goods_daily[goods_daily[\"description\"].isin(goods_top10)],\n",
    "            x='days', y='quantity', hue='description')\n",
    "plt.title('Penjualan 10 barang teratas berdasarkan hari')\n",
    "plt.legend()\n",
    "plt.show()"
   ]
  },
  {
   "cell_type": "markdown",
   "metadata": {},
   "source": [
    "jika dilihat dari grafik berdasarkan hari, rata-rata barang mengalami kenaikan penjualan di hari jumat dan barang world war 2 gliders terjual sangat signifikan dibandingkan dengan barang lainnya"
   ]
  },
  {
   "cell_type": "code",
   "execution_count": 377,
   "metadata": {},
   "outputs": [
    {
     "data": {
      "text/html": [
       "<div>\n",
       "<style scoped>\n",
       "    .dataframe tbody tr th:only-of-type {\n",
       "        vertical-align: middle;\n",
       "    }\n",
       "\n",
       "    .dataframe tbody tr th {\n",
       "        vertical-align: top;\n",
       "    }\n",
       "\n",
       "    .dataframe thead th {\n",
       "        text-align: right;\n",
       "    }\n",
       "</style>\n",
       "<table border=\"1\" class=\"dataframe\">\n",
       "  <thead>\n",
       "    <tr style=\"text-align: right;\">\n",
       "      <th></th>\n",
       "      <th>description</th>\n",
       "      <th>month</th>\n",
       "      <th>quantity</th>\n",
       "    </tr>\n",
       "  </thead>\n",
       "  <tbody>\n",
       "    <tr>\n",
       "      <th>0</th>\n",
       "      <td>4 purple flock dinner candles</td>\n",
       "      <td>1</td>\n",
       "      <td>2</td>\n",
       "    </tr>\n",
       "    <tr>\n",
       "      <th>1</th>\n",
       "      <td>4 purple flock dinner candles</td>\n",
       "      <td>2</td>\n",
       "      <td>1</td>\n",
       "    </tr>\n",
       "    <tr>\n",
       "      <th>2</th>\n",
       "      <td>4 purple flock dinner candles</td>\n",
       "      <td>3</td>\n",
       "      <td>3</td>\n",
       "    </tr>\n",
       "    <tr>\n",
       "      <th>3</th>\n",
       "      <td>4 purple flock dinner candles</td>\n",
       "      <td>4</td>\n",
       "      <td>4</td>\n",
       "    </tr>\n",
       "    <tr>\n",
       "      <th>4</th>\n",
       "      <td>4 purple flock dinner candles</td>\n",
       "      <td>5</td>\n",
       "      <td>3</td>\n",
       "    </tr>\n",
       "  </tbody>\n",
       "</table>\n",
       "</div>"
      ],
      "text/plain": [
       "                      description  month  quantity\n",
       "0   4 purple flock dinner candles      1         2\n",
       "1   4 purple flock dinner candles      2         1\n",
       "2   4 purple flock dinner candles      3         3\n",
       "3   4 purple flock dinner candles      4         4\n",
       "4   4 purple flock dinner candles      5         3"
      ]
     },
     "execution_count": 377,
     "metadata": {},
     "output_type": "execute_result"
    }
   ],
   "source": [
    "# dataframe bagaimana barang terjual berdasarkan bulannya\n",
    "goods_monthly = df.groupby(['description','month']).agg({'quantity':'sum'}).reset_index()\n",
    "goods_monthly.head()"
   ]
  },
  {
   "cell_type": "code",
   "execution_count": 378,
   "metadata": {},
   "outputs": [
    {
     "data": {
      "image/png": "[encoded data removed]",
      "text/plain": [
       "<Figure size 1000x500 with 1 Axes>"
      ]
     },
     "metadata": {},
     "output_type": "display_data"
    }
   ],
   "source": [
    "plt.figure(figsize=(10,5))\n",
    "sns.lineplot(data=goods_monthly[goods_monthly[\"description\"].isin((goods_top10))],\n",
    "            x='month', y='quantity', hue='description')\n",
    "plt.title('Penjualan 10 barang teratas berdasarkan bulan')\n",
    "plt.legend()\n",
    "plt.show()"
   ]
  },
  {
   "cell_type": "markdown",
   "metadata": {},
   "source": [
    "jika dilihat penjualan berdasarkan bulan, bisa disimpulkan bahwa rabbit night light, popcorn holder dan world war 2 gliders adalah barang yang terjual berdasarkan trend.\n",
    "\n",
    "langkah selanjutnya yang bisa diambil adalah dengan menambahkan stok rabbit night light dan popcorn holder diakhir tahun dan untuk world war 2 gliders di awal dan akhir tahun"
   ]
  },
  {
   "cell_type": "markdown",
   "metadata": {},
   "source": [
    "### Mengidentifikasi hari yang ramai pembelian <a id='24'></a>"
   ]
  },
  {
   "cell_type": "code",
   "execution_count": 379,
   "metadata": {},
   "outputs": [
    {
     "data": {
      "text/html": [
       "<div>\n",
       "<style scoped>\n",
       "    .dataframe tbody tr th:only-of-type {\n",
       "        vertical-align: middle;\n",
       "    }\n",
       "\n",
       "    .dataframe tbody tr th {\n",
       "        vertical-align: top;\n",
       "    }\n",
       "\n",
       "    .dataframe thead th {\n",
       "        text-align: right;\n",
       "    }\n",
       "</style>\n",
       "<table border=\"1\" class=\"dataframe\">\n",
       "  <thead>\n",
       "    <tr style=\"text-align: right;\">\n",
       "      <th></th>\n",
       "      <th>month</th>\n",
       "      <th>days</th>\n",
       "      <th>invoice_no</th>\n",
       "    </tr>\n",
       "  </thead>\n",
       "  <tbody>\n",
       "    <tr>\n",
       "      <th>0</th>\n",
       "      <td>1</td>\n",
       "      <td>0</td>\n",
       "      <td>124</td>\n",
       "    </tr>\n",
       "    <tr>\n",
       "      <th>1</th>\n",
       "      <td>1</td>\n",
       "      <td>1</td>\n",
       "      <td>204</td>\n",
       "    </tr>\n",
       "    <tr>\n",
       "      <th>2</th>\n",
       "      <td>1</td>\n",
       "      <td>2</td>\n",
       "      <td>262</td>\n",
       "    </tr>\n",
       "    <tr>\n",
       "      <th>3</th>\n",
       "      <td>1</td>\n",
       "      <td>3</td>\n",
       "      <td>253</td>\n",
       "    </tr>\n",
       "    <tr>\n",
       "      <th>4</th>\n",
       "      <td>1</td>\n",
       "      <td>4</td>\n",
       "      <td>184</td>\n",
       "    </tr>\n",
       "    <tr>\n",
       "      <th>...</th>\n",
       "      <td>...</td>\n",
       "      <td>...</td>\n",
       "      <td>...</td>\n",
       "    </tr>\n",
       "    <tr>\n",
       "      <th>67</th>\n",
       "      <td>12</td>\n",
       "      <td>1</td>\n",
       "      <td>359</td>\n",
       "    </tr>\n",
       "    <tr>\n",
       "      <th>68</th>\n",
       "      <td>12</td>\n",
       "      <td>2</td>\n",
       "      <td>339</td>\n",
       "    </tr>\n",
       "    <tr>\n",
       "      <th>69</th>\n",
       "      <td>12</td>\n",
       "      <td>3</td>\n",
       "      <td>310</td>\n",
       "    </tr>\n",
       "    <tr>\n",
       "      <th>70</th>\n",
       "      <td>12</td>\n",
       "      <td>4</td>\n",
       "      <td>374</td>\n",
       "    </tr>\n",
       "    <tr>\n",
       "      <th>71</th>\n",
       "      <td>12</td>\n",
       "      <td>5</td>\n",
       "      <td>253</td>\n",
       "    </tr>\n",
       "  </tbody>\n",
       "</table>\n",
       "<p>72 rows × 3 columns</p>\n",
       "</div>"
      ],
      "text/plain": [
       "    month  days  invoice_no\n",
       "0       1     0         124\n",
       "1       1     1         204\n",
       "2       1     2         262\n",
       "3       1     3         253\n",
       "4       1     4         184\n",
       "..    ...   ...         ...\n",
       "67     12     1         359\n",
       "68     12     2         339\n",
       "69     12     3         310\n",
       "70     12     4         374\n",
       "71     12     5         253\n",
       "\n",
       "[72 rows x 3 columns]"
      ]
     },
     "execution_count": 379,
     "metadata": {},
     "output_type": "execute_result"
    }
   ],
   "source": [
    "df_sales_daily = df.groupby(['month','days'])['invoice_no'].nunique().reset_index()\n",
    "df_sales_daily"
   ]
  },
  {
   "cell_type": "code",
   "execution_count": 380,
   "metadata": {},
   "outputs": [
    {
     "data": {
      "image/png": "[encoded data removed]",
      "text/plain": [
       "<Figure size 1000x500 with 1 Axes>"
      ]
     },
     "metadata": {},
     "output_type": "display_data"
    }
   ],
   "source": [
    "plt.figure(figsize=(10,5))\n",
    "sns.barplot(data=df_sales_daily,\n",
    "            x='month', y='invoice_no', hue='days')\n",
    "plt.title('Jumlah penjualan berdasarkan hari')\n",
    "plt.legend()\n",
    "plt.show()"
   ]
  },
  {
   "cell_type": "markdown",
   "metadata": {},
   "source": [
    "berdasarkan tabel diatas, secara keseluruhan hari kamis adalah hari dengan pembelian teramai. namun jika dilihat dari persebarannya, bulan 11 mengalami kenaikan jumlah penjualan secara pesat dibandingkan dengan bulan yang lain.\n",
    "\n",
    "kemungkinan besar bulan 12 juga mengalami kenaikan penjualan akan tetapi dataset yang dipunya berakhir di awal bulan 12."
   ]
  },
  {
   "cell_type": "markdown",
   "metadata": {},
   "source": [
    "## Pengujian Hipotesis <a id='3'></a>"
   ]
  },
  {
   "cell_type": "markdown",
   "metadata": {},
   "source": [
    "    H0 : Rata-rata jumlah perbelanjaan di weekend sama dengan jumlah rata-rata pembelanjaan di weekday\n",
    "    H1 : Rata-rata jumlah perbelanjaan di weekend tidak sama dengan jumlah rata-rata pembelanjaan di weekday"
   ]
  },
  {
   "cell_type": "code",
   "execution_count": 381,
   "metadata": {},
   "outputs": [],
   "source": [
    "# membuat dataframe yang memisahkan orang yang berbelanja di weekday dan weekend\n",
    "# orang yang berbelanja di weekend adalah orang yang berbelanja di hari jumat dan sabtu\n",
    "sale_weekday = df.query('days < 4')\n",
    "sale_weekend = df.query('days >= 4')"
   ]
  },
  {
   "cell_type": "code",
   "execution_count": 382,
   "metadata": {},
   "outputs": [
    {
     "data": {
      "text/html": [
       "<div>\n",
       "<style scoped>\n",
       "    .dataframe tbody tr th:only-of-type {\n",
       "        vertical-align: middle;\n",
       "    }\n",
       "\n",
       "    .dataframe tbody tr th {\n",
       "        vertical-align: top;\n",
       "    }\n",
       "\n",
       "    .dataframe thead th {\n",
       "        text-align: right;\n",
       "    }\n",
       "</style>\n",
       "<table border=\"1\" class=\"dataframe\">\n",
       "  <thead>\n",
       "    <tr style=\"text-align: right;\">\n",
       "      <th></th>\n",
       "      <th>invoice_no</th>\n",
       "      <th>stock_code</th>\n",
       "      <th>description</th>\n",
       "      <th>quantity</th>\n",
       "      <th>invoice_date</th>\n",
       "      <th>unit_price</th>\n",
       "      <th>customer_id</th>\n",
       "      <th>total_price</th>\n",
       "      <th>days</th>\n",
       "      <th>month</th>\n",
       "      <th>datetime</th>\n",
       "    </tr>\n",
       "  </thead>\n",
       "  <tbody>\n",
       "    <tr>\n",
       "      <th>0</th>\n",
       "      <td>536365</td>\n",
       "      <td>85123A</td>\n",
       "      <td>white hanging heart t-light holder</td>\n",
       "      <td>6</td>\n",
       "      <td>2018-11-29 08:26:00</td>\n",
       "      <td>2.55</td>\n",
       "      <td>17850</td>\n",
       "      <td>15.30</td>\n",
       "      <td>3</td>\n",
       "      <td>11</td>\n",
       "      <td>2018-11-29</td>\n",
       "    </tr>\n",
       "    <tr>\n",
       "      <th>1</th>\n",
       "      <td>536365</td>\n",
       "      <td>71053</td>\n",
       "      <td>white metal lantern</td>\n",
       "      <td>6</td>\n",
       "      <td>2018-11-29 08:26:00</td>\n",
       "      <td>3.39</td>\n",
       "      <td>17850</td>\n",
       "      <td>20.34</td>\n",
       "      <td>3</td>\n",
       "      <td>11</td>\n",
       "      <td>2018-11-29</td>\n",
       "    </tr>\n",
       "    <tr>\n",
       "      <th>2</th>\n",
       "      <td>536365</td>\n",
       "      <td>84406B</td>\n",
       "      <td>cream cupid hearts coat hanger</td>\n",
       "      <td>8</td>\n",
       "      <td>2018-11-29 08:26:00</td>\n",
       "      <td>2.75</td>\n",
       "      <td>17850</td>\n",
       "      <td>22.00</td>\n",
       "      <td>3</td>\n",
       "      <td>11</td>\n",
       "      <td>2018-11-29</td>\n",
       "    </tr>\n",
       "    <tr>\n",
       "      <th>3</th>\n",
       "      <td>536365</td>\n",
       "      <td>84029G</td>\n",
       "      <td>knitted union flag hot water bottle</td>\n",
       "      <td>6</td>\n",
       "      <td>2018-11-29 08:26:00</td>\n",
       "      <td>3.39</td>\n",
       "      <td>17850</td>\n",
       "      <td>20.34</td>\n",
       "      <td>3</td>\n",
       "      <td>11</td>\n",
       "      <td>2018-11-29</td>\n",
       "    </tr>\n",
       "    <tr>\n",
       "      <th>4</th>\n",
       "      <td>536365</td>\n",
       "      <td>84029E</td>\n",
       "      <td>red woolly hottie white heart.</td>\n",
       "      <td>6</td>\n",
       "      <td>2018-11-29 08:26:00</td>\n",
       "      <td>3.39</td>\n",
       "      <td>17850</td>\n",
       "      <td>20.34</td>\n",
       "      <td>3</td>\n",
       "      <td>11</td>\n",
       "      <td>2018-11-29</td>\n",
       "    </tr>\n",
       "  </tbody>\n",
       "</table>\n",
       "</div>"
      ],
      "text/plain": [
       "   invoice_no stock_code                          description  quantity  \\\n",
       "0      536365     85123A   white hanging heart t-light holder         6   \n",
       "1      536365      71053                  white metal lantern         6   \n",
       "2      536365     84406B       cream cupid hearts coat hanger         8   \n",
       "3      536365     84029G  knitted union flag hot water bottle         6   \n",
       "4      536365     84029E       red woolly hottie white heart.         6   \n",
       "\n",
       "         invoice_date  unit_price  customer_id  total_price  days  month  \\\n",
       "0 2018-11-29 08:26:00        2.55        17850        15.30     3     11   \n",
       "1 2018-11-29 08:26:00        3.39        17850        20.34     3     11   \n",
       "2 2018-11-29 08:26:00        2.75        17850        22.00     3     11   \n",
       "3 2018-11-29 08:26:00        3.39        17850        20.34     3     11   \n",
       "4 2018-11-29 08:26:00        3.39        17850        20.34     3     11   \n",
       "\n",
       "     datetime  \n",
       "0  2018-11-29  \n",
       "1  2018-11-29  \n",
       "2  2018-11-29  \n",
       "3  2018-11-29  \n",
       "4  2018-11-29  "
      ]
     },
     "execution_count": 382,
     "metadata": {},
     "output_type": "execute_result"
    }
   ],
   "source": [
    "sale_weekday.head()"
   ]
  },
  {
   "cell_type": "code",
   "execution_count": 383,
   "metadata": {
    "scrolled": true
   },
   "outputs": [
    {
     "name": "stdout",
     "output_type": "stream",
     "text": [
      "rata-rata jumlah perbelanjaan di weekday: 61.65346534653465\n",
      "rata-rata jumlah perbelanjaan di weekend: 71.03883495145631\n",
      "\n",
      "p-value:  0.0019416715370879061\n",
      "Kita menolak hipotesis nol, Rata-rata jumlah perbelanjaan di weekend tidak sama dengan jumlah rata-rata pembelanjaan di weekday\n"
     ]
    }
   ],
   "source": [
    "sample_1 = sale_weekday.groupby('datetime')['invoice_no'].nunique().reset_index()['invoice_no']\n",
    "sample_2 = sale_weekend.groupby('datetime')['invoice_no'].nunique().reset_index()['invoice_no']\n",
    "\n",
    "print('rata-rata jumlah perbelanjaan di weekday:', sample_1.mean())\n",
    "print('rata-rata jumlah perbelanjaan di weekend:', sample_2.mean())\n",
    "print()\n",
    "\n",
    "# Pengujian hipotesis statistik 2 sample\n",
    "alpha = 0.05 \n",
    "results = st.ttest_ind(sample_1, sample_2)\n",
    "\n",
    "print('p-value: ', results.pvalue)\n",
    "\n",
    "if results.pvalue < alpha:\n",
    "    print(\"Kita menolak hipotesis nol, Rata-rata jumlah perbelanjaan di weekend tidak sama dengan jumlah rata-rata pembelanjaan di weekday\")\n",
    "else:\n",
    "    print(\"tidak bisa menolak hipotesis nol, Rata-rata jumlah perbelanjaan di weekend sama dengan jumlah rata-rata pembelanjaan di weekday \")"
   ]
  },
  {
   "cell_type": "markdown",
   "metadata": {},
   "source": [
    "## Kesimpulan <a id='4'></a>"
   ]
  },
  {
   "cell_type": "markdown",
   "metadata": {},
   "source": [
    "setelah melakukan analisis terhadap data yang dimiliki, data yang diberikan merangkap dengan data pengeluaran sehingga pada awal penelitian diharuskan menghapus tipe pengeluaran tersebut dan baru melanjutkan ke tahapan prapemrosesan data.\n",
    "\n",
    "dengan waktu pengumpulan data dari 2018-11-29 s.d 2019-12-07 bisa disimpulkan bahwa:\n",
    "   1. pendapatan mulai mengalami kenaikan pada akhir tahun, dimulai dari bulan ke 8\n",
    "   2. hari jumat merupakan hari puncak dalam satu minggu, dimana di hari ini jumlah penjualan dan jumlah pendapatan tertinggi dibandingkan dengan hari yang lain\n",
    "   3. dalam 10 barang yang paling banyak terjual, world war 2 gliders asstd designs dan jumbo bag red retrospot adalah 2 barang dengan penjualan tertinggi dibandingkan dengan barang yang lain\n",
    "   4. jika dilihat dalam grafik penjualan 10 barang teratas, rabbit night light dan popcorn holder adalah barang yang terjual berdasarkan trend di akhir tahun\n",
    "   5. setelah dilakukan uji hipotesis statistik didapati bahwa Rata-rata jumlah perbelanjaan di weekend tidak sama dengan jumlah rata-rata pembelanjaan di weekday"
   ]
  }
 ],
 "metadata": {
  "kernelspec": {
   "display_name": "Python 3 (ipykernel)",
   "language": "python",
   "name": "python3"
  },
  "language_info": {
   "codemirror_mode": {
    "name": "ipython",
    "version": 3
   },
   "file_extension": ".py",
   "mimetype": "text/x-python",
   "name": "python",
   "nbconvert_exporter": "python",
   "pygments_lexer": "ipython3",
   "version": "3.11.5"
  },
  "toc": {
   "base_numbering": 1,
   "nav_menu": {},
   "number_sections": true,
   "sideBar": true,
   "skip_h1_title": true,
   "title_cell": "Table of Contents",
   "title_sidebar": "Contents",
   "toc_cell": false,
   "toc_position": {},
   "toc_section_display": true,
   "toc_window_display": false
  }
 },
 "nbformat": 4,
 "nbformat_minor": 2
}
