{
 "cells": [
  {
   "cell_type": "markdown",
   "metadata": {},
   "source": [
    "# Daftar Isi <a id='back'></a>\n",
    "\n",
    "* [Pendahuluan](#intro)\n",
    "* [Tujuan](#tujuan)\n",
    "* [Membuka File dan Mempelajari Informasi Umum](#openfile)\n",
    "* [Pra-Pemrosesan Data](#pradata)\n",
    "* [Pelajari dan Periksa Datanya](#periksa)\n",
    "    * [Berapa Banyak Peristiwa yang Tercatat dalam Log](#41)\n",
    "    * [Berapa Banyak Pengguna yang Tercatat dalam Log](#42)\n",
    "    * [Berapa Jumlah Rata-rata Peristiwa per Pengguna](#43)\n",
    "    * [Periode yang dicakup oleh Data](#44)\n",
    "        * [Histogram Berdasarkan Tanggal dan Waktu](#441)\n",
    "        * [Periode yang mewakili keseluruhan data](#442)\n",
    "    * [Besar Data yang Hilang Saat Menyingkirkan Data Lama](#45)\n",
    "    * [Memastikan Pengguna Ada diketiga Kelompok Eksperimen](#46)\n",
    "* [Pelajari Funnel Peristiwa](#5)\n",
    "    * [Peristiwa didalam Log dan Frekuensinya](#51)\n",
    "    * [Jumlah Pengguna yang Melakukan Tindakan](#52)\n",
    "    * [Persentase Pengguna yang Terus Melanjutkan Tahapan-tahapan](#53)\n",
    "    * [Persentase Pengguna yang Menyelesaikan Seluruh Tahapan](#54)\n",
    "* [Hasil Eksperimen](#6)\n",
    "    * [Jumlah Pengguna pada Setiap Kelompok](#61)\n",
    "    * [Jumlah Pengguna pada Peristiwa Paling Populer di Kelompok Kontrol](#62)\n",
    "        * [Memeriksa adakah Perbedaan yang Signifikan](#621)\n",
    "    * [Melakukan Analisis A/A/B Testing](#63)\n",
    "        * [Melakukan Analisis A/B Testing](#631)\n",
    "* [Kesimpulan](#end)"
   ]
  },
  {
   "cell_type": "markdown",
   "metadata": {},
   "source": [
    "## Pendahuluan<a id='intro'></a>\n",
    "Pada proyek ini saya bekerja pada perusahaan startup yang menjual produk makanan. pada projek ini saya akan melakukan analisis terhadap perilaku pengguna aplikasi dari perusahaan startup tersebut. \n",
    "\n",
    "\n",
    "### Tujuan<a id='tujuan'></a>:\n",
    "1. Menentukan hasil dari A/A/B Testing\n",
    "2. Mencari pada tahap apa mulai kehilangan banyak pengguna\n",
    "3. Menemukan persentase pengguna yang terus berlanjut dari satu tahap ke tahap berikutnya\n",
    "4. Menentukan persentase pengguna yang menyelesaikan dari tahap awal sampai dengan pembayaran\n"
   ]
  },
  {
   "cell_type": "markdown",
   "metadata": {},
   "source": [
    "## Membuka file data dan mempelajari informasi umumnya <a id='openfile'></a>"
   ]
  },
  {
   "cell_type": "code",
   "execution_count": 2,
   "metadata": {},
   "outputs": [],
   "source": [
    "import pandas as pd\n",
    "import seaborn as sns\n",
    "import plotly.express as px\n",
    "import matplotlib.pyplot as plt\n",
    "from scipy import stats\n",
    "import numpy as np\n",
    "import math"
   ]
  },
  {
   "cell_type": "code",
   "execution_count": 3,
   "metadata": {},
   "outputs": [
    {
     "data": {
      "text/html": [
       "<div>\n",
       "<style scoped>\n",
       "    .dataframe tbody tr th:only-of-type {\n",
       "        vertical-align: middle;\n",
       "    }\n",
       "\n",
       "    .dataframe tbody tr th {\n",
       "        vertical-align: top;\n",
       "    }\n",
       "\n",
       "    .dataframe thead th {\n",
       "        text-align: right;\n",
       "    }\n",
       "</style>\n",
       "<table border=\"1\" class=\"dataframe\">\n",
       "  <thead>\n",
       "    <tr style=\"text-align: right;\">\n",
       "      <th></th>\n",
       "      <th>EventName</th>\n",
       "      <th>DeviceIDHash</th>\n",
       "      <th>EventTimestamp</th>\n",
       "      <th>ExpId</th>\n",
       "    </tr>\n",
       "  </thead>\n",
       "  <tbody>\n",
       "    <tr>\n",
       "      <th>0</th>\n",
       "      <td>MainScreenAppear</td>\n",
       "      <td>4575588528974610257</td>\n",
       "      <td>1564029816</td>\n",
       "      <td>246</td>\n",
       "    </tr>\n",
       "    <tr>\n",
       "      <th>1</th>\n",
       "      <td>MainScreenAppear</td>\n",
       "      <td>7416695313311560658</td>\n",
       "      <td>1564053102</td>\n",
       "      <td>246</td>\n",
       "    </tr>\n",
       "    <tr>\n",
       "      <th>2</th>\n",
       "      <td>PaymentScreenSuccessful</td>\n",
       "      <td>3518123091307005509</td>\n",
       "      <td>1564054127</td>\n",
       "      <td>248</td>\n",
       "    </tr>\n",
       "    <tr>\n",
       "      <th>3</th>\n",
       "      <td>CartScreenAppear</td>\n",
       "      <td>3518123091307005509</td>\n",
       "      <td>1564054127</td>\n",
       "      <td>248</td>\n",
       "    </tr>\n",
       "    <tr>\n",
       "      <th>4</th>\n",
       "      <td>PaymentScreenSuccessful</td>\n",
       "      <td>6217807653094995999</td>\n",
       "      <td>1564055322</td>\n",
       "      <td>248</td>\n",
       "    </tr>\n",
       "  </tbody>\n",
       "</table>\n",
       "</div>"
      ],
      "text/plain": [
       "                 EventName         DeviceIDHash  EventTimestamp  ExpId\n",
       "0         MainScreenAppear  4575588528974610257      1564029816    246\n",
       "1         MainScreenAppear  7416695313311560658      1564053102    246\n",
       "2  PaymentScreenSuccessful  3518123091307005509      1564054127    248\n",
       "3         CartScreenAppear  3518123091307005509      1564054127    248\n",
       "4  PaymentScreenSuccessful  6217807653094995999      1564055322    248"
      ]
     },
     "execution_count": 3,
     "metadata": {},
     "output_type": "execute_result"
    }
   ],
   "source": [
    "try:\n",
    "    data = pd.read_csv('/datasets/logs_exp_us.csv', sep='\\t')\n",
    "    \n",
    "except:\n",
    "    data = pd.read_csv('logs_exp_us.csv', sep='\\t')\n",
    "data.head()"
   ]
  },
  {
   "cell_type": "code",
   "execution_count": 4,
   "metadata": {},
   "outputs": [
    {
     "name": "stdout",
     "output_type": "stream",
     "text": [
      "<class 'pandas.core.frame.DataFrame'>\n",
      "RangeIndex: 244126 entries, 0 to 244125\n",
      "Data columns (total 4 columns):\n",
      " #   Column          Non-Null Count   Dtype \n",
      "---  ------          --------------   ----- \n",
      " 0   EventName       244126 non-null  object\n",
      " 1   DeviceIDHash    244126 non-null  int64 \n",
      " 2   EventTimestamp  244126 non-null  int64 \n",
      " 3   ExpId           244126 non-null  int64 \n",
      "dtypes: int64(3), object(1)\n",
      "memory usage: 7.5+ MB\n"
     ]
    }
   ],
   "source": [
    "data.info()"
   ]
  },
  {
   "cell_type": "code",
   "execution_count": 5,
   "metadata": {},
   "outputs": [
    {
     "data": {
      "text/html": [
       "<div>\n",
       "<style scoped>\n",
       "    .dataframe tbody tr th:only-of-type {\n",
       "        vertical-align: middle;\n",
       "    }\n",
       "\n",
       "    .dataframe tbody tr th {\n",
       "        vertical-align: top;\n",
       "    }\n",
       "\n",
       "    .dataframe thead th {\n",
       "        text-align: right;\n",
       "    }\n",
       "</style>\n",
       "<table border=\"1\" class=\"dataframe\">\n",
       "  <thead>\n",
       "    <tr style=\"text-align: right;\">\n",
       "      <th></th>\n",
       "      <th>DeviceIDHash</th>\n",
       "      <th>EventTimestamp</th>\n",
       "      <th>ExpId</th>\n",
       "    </tr>\n",
       "  </thead>\n",
       "  <tbody>\n",
       "    <tr>\n",
       "      <th>count</th>\n",
       "      <td>2.441260e+05</td>\n",
       "      <td>2.441260e+05</td>\n",
       "      <td>244126.000000</td>\n",
       "    </tr>\n",
       "    <tr>\n",
       "      <th>mean</th>\n",
       "      <td>4.627568e+18</td>\n",
       "      <td>1.564914e+09</td>\n",
       "      <td>247.022296</td>\n",
       "    </tr>\n",
       "    <tr>\n",
       "      <th>std</th>\n",
       "      <td>2.642425e+18</td>\n",
       "      <td>1.771343e+05</td>\n",
       "      <td>0.824434</td>\n",
       "    </tr>\n",
       "    <tr>\n",
       "      <th>min</th>\n",
       "      <td>6.888747e+15</td>\n",
       "      <td>1.564030e+09</td>\n",
       "      <td>246.000000</td>\n",
       "    </tr>\n",
       "    <tr>\n",
       "      <th>25%</th>\n",
       "      <td>2.372212e+18</td>\n",
       "      <td>1.564757e+09</td>\n",
       "      <td>246.000000</td>\n",
       "    </tr>\n",
       "    <tr>\n",
       "      <th>50%</th>\n",
       "      <td>4.623192e+18</td>\n",
       "      <td>1.564919e+09</td>\n",
       "      <td>247.000000</td>\n",
       "    </tr>\n",
       "    <tr>\n",
       "      <th>75%</th>\n",
       "      <td>6.932517e+18</td>\n",
       "      <td>1.565075e+09</td>\n",
       "      <td>248.000000</td>\n",
       "    </tr>\n",
       "    <tr>\n",
       "      <th>max</th>\n",
       "      <td>9.222603e+18</td>\n",
       "      <td>1.565213e+09</td>\n",
       "      <td>248.000000</td>\n",
       "    </tr>\n",
       "  </tbody>\n",
       "</table>\n",
       "</div>"
      ],
      "text/plain": [
       "       DeviceIDHash  EventTimestamp          ExpId\n",
       "count  2.441260e+05    2.441260e+05  244126.000000\n",
       "mean   4.627568e+18    1.564914e+09     247.022296\n",
       "std    2.642425e+18    1.771343e+05       0.824434\n",
       "min    6.888747e+15    1.564030e+09     246.000000\n",
       "25%    2.372212e+18    1.564757e+09     246.000000\n",
       "50%    4.623192e+18    1.564919e+09     247.000000\n",
       "75%    6.932517e+18    1.565075e+09     248.000000\n",
       "max    9.222603e+18    1.565213e+09     248.000000"
      ]
     },
     "execution_count": 5,
     "metadata": {},
     "output_type": "execute_result"
    }
   ],
   "source": [
    "data.describe()"
   ]
  },
  {
   "cell_type": "code",
   "execution_count": 6,
   "metadata": {},
   "outputs": [
    {
     "data": {
      "text/plain": [
       "413"
      ]
     },
     "execution_count": 6,
     "metadata": {},
     "output_type": "execute_result"
    }
   ],
   "source": [
    "data.duplicated().sum()"
   ]
  },
  {
   "cell_type": "markdown",
   "metadata": {},
   "source": [
    "Tidak terdapat nilai yang hilang di dataframe ini, tetapi ada nilai duplikat di dataframe. dan pada bagian ExpId pun sesuai hanya ada nilai 246, 247 untuk kelompok kontrol dan 248 untuk kelmpok uji"
   ]
  },
  {
   "cell_type": "markdown",
   "metadata": {},
   "source": [
    "## Pra-pemrosesan Data<a id='pradata'></a>"
   ]
  },
  {
   "cell_type": "code",
   "execution_count": 7,
   "metadata": {},
   "outputs": [
    {
     "data": {
      "text/html": [
       "<div>\n",
       "<style scoped>\n",
       "    .dataframe tbody tr th:only-of-type {\n",
       "        vertical-align: middle;\n",
       "    }\n",
       "\n",
       "    .dataframe tbody tr th {\n",
       "        vertical-align: top;\n",
       "    }\n",
       "\n",
       "    .dataframe thead th {\n",
       "        text-align: right;\n",
       "    }\n",
       "</style>\n",
       "<table border=\"1\" class=\"dataframe\">\n",
       "  <thead>\n",
       "    <tr style=\"text-align: right;\">\n",
       "      <th></th>\n",
       "      <th>event</th>\n",
       "      <th>user</th>\n",
       "      <th>timestamp</th>\n",
       "      <th>exp_id</th>\n",
       "    </tr>\n",
       "  </thead>\n",
       "  <tbody>\n",
       "    <tr>\n",
       "      <th>0</th>\n",
       "      <td>MainScreenAppear</td>\n",
       "      <td>4575588528974610257</td>\n",
       "      <td>1564029816</td>\n",
       "      <td>246</td>\n",
       "    </tr>\n",
       "    <tr>\n",
       "      <th>1</th>\n",
       "      <td>MainScreenAppear</td>\n",
       "      <td>7416695313311560658</td>\n",
       "      <td>1564053102</td>\n",
       "      <td>246</td>\n",
       "    </tr>\n",
       "    <tr>\n",
       "      <th>2</th>\n",
       "      <td>PaymentScreenSuccessful</td>\n",
       "      <td>3518123091307005509</td>\n",
       "      <td>1564054127</td>\n",
       "      <td>248</td>\n",
       "    </tr>\n",
       "    <tr>\n",
       "      <th>3</th>\n",
       "      <td>CartScreenAppear</td>\n",
       "      <td>3518123091307005509</td>\n",
       "      <td>1564054127</td>\n",
       "      <td>248</td>\n",
       "    </tr>\n",
       "    <tr>\n",
       "      <th>4</th>\n",
       "      <td>PaymentScreenSuccessful</td>\n",
       "      <td>6217807653094995999</td>\n",
       "      <td>1564055322</td>\n",
       "      <td>248</td>\n",
       "    </tr>\n",
       "  </tbody>\n",
       "</table>\n",
       "</div>"
      ],
      "text/plain": [
       "                     event                 user   timestamp  exp_id\n",
       "0         MainScreenAppear  4575588528974610257  1564029816     246\n",
       "1         MainScreenAppear  7416695313311560658  1564053102     246\n",
       "2  PaymentScreenSuccessful  3518123091307005509  1564054127     248\n",
       "3         CartScreenAppear  3518123091307005509  1564054127     248\n",
       "4  PaymentScreenSuccessful  6217807653094995999  1564055322     248"
      ]
     },
     "execution_count": 7,
     "metadata": {},
     "output_type": "execute_result"
    }
   ],
   "source": [
    "# Rename Column\n",
    "\n",
    "data.rename(columns={\n",
    "    'EventName' : 'event',\n",
    "    'DeviceIDHash' : 'user',\n",
    "    'EventTimestamp' : 'timestamp',\n",
    "    'ExpId' : 'exp_id'\n",
    "}, inplace =True)\n",
    "data.head()"
   ]
  },
  {
   "cell_type": "code",
   "execution_count": 8,
   "metadata": {},
   "outputs": [
    {
     "data": {
      "text/html": [
       "<div>\n",
       "<style scoped>\n",
       "    .dataframe tbody tr th:only-of-type {\n",
       "        vertical-align: middle;\n",
       "    }\n",
       "\n",
       "    .dataframe tbody tr th {\n",
       "        vertical-align: top;\n",
       "    }\n",
       "\n",
       "    .dataframe thead th {\n",
       "        text-align: right;\n",
       "    }\n",
       "</style>\n",
       "<table border=\"1\" class=\"dataframe\">\n",
       "  <thead>\n",
       "    <tr style=\"text-align: right;\">\n",
       "      <th></th>\n",
       "      <th>event</th>\n",
       "      <th>user</th>\n",
       "      <th>timestamp</th>\n",
       "      <th>exp_id</th>\n",
       "      <th>date_time</th>\n",
       "      <th>date</th>\n",
       "    </tr>\n",
       "  </thead>\n",
       "  <tbody>\n",
       "    <tr>\n",
       "      <th>0</th>\n",
       "      <td>MainScreenAppear</td>\n",
       "      <td>4575588528974610257</td>\n",
       "      <td>1564029816</td>\n",
       "      <td>246</td>\n",
       "      <td>2019-07-25 04:43:36</td>\n",
       "      <td>2019-07-25</td>\n",
       "    </tr>\n",
       "    <tr>\n",
       "      <th>1</th>\n",
       "      <td>MainScreenAppear</td>\n",
       "      <td>7416695313311560658</td>\n",
       "      <td>1564053102</td>\n",
       "      <td>246</td>\n",
       "      <td>2019-07-25 11:11:42</td>\n",
       "      <td>2019-07-25</td>\n",
       "    </tr>\n",
       "    <tr>\n",
       "      <th>2</th>\n",
       "      <td>PaymentScreenSuccessful</td>\n",
       "      <td>3518123091307005509</td>\n",
       "      <td>1564054127</td>\n",
       "      <td>248</td>\n",
       "      <td>2019-07-25 11:28:47</td>\n",
       "      <td>2019-07-25</td>\n",
       "    </tr>\n",
       "    <tr>\n",
       "      <th>3</th>\n",
       "      <td>CartScreenAppear</td>\n",
       "      <td>3518123091307005509</td>\n",
       "      <td>1564054127</td>\n",
       "      <td>248</td>\n",
       "      <td>2019-07-25 11:28:47</td>\n",
       "      <td>2019-07-25</td>\n",
       "    </tr>\n",
       "    <tr>\n",
       "      <th>4</th>\n",
       "      <td>PaymentScreenSuccessful</td>\n",
       "      <td>6217807653094995999</td>\n",
       "      <td>1564055322</td>\n",
       "      <td>248</td>\n",
       "      <td>2019-07-25 11:48:42</td>\n",
       "      <td>2019-07-25</td>\n",
       "    </tr>\n",
       "  </tbody>\n",
       "</table>\n",
       "</div>"
      ],
      "text/plain": [
       "                     event                 user   timestamp  exp_id  \\\n",
       "0         MainScreenAppear  4575588528974610257  1564029816     246   \n",
       "1         MainScreenAppear  7416695313311560658  1564053102     246   \n",
       "2  PaymentScreenSuccessful  3518123091307005509  1564054127     248   \n",
       "3         CartScreenAppear  3518123091307005509  1564054127     248   \n",
       "4  PaymentScreenSuccessful  6217807653094995999  1564055322     248   \n",
       "\n",
       "            date_time       date  \n",
       "0 2019-07-25 04:43:36 2019-07-25  \n",
       "1 2019-07-25 11:11:42 2019-07-25  \n",
       "2 2019-07-25 11:28:47 2019-07-25  \n",
       "3 2019-07-25 11:28:47 2019-07-25  \n",
       "4 2019-07-25 11:48:42 2019-07-25  "
      ]
     },
     "execution_count": 8,
     "metadata": {},
     "output_type": "execute_result"
    }
   ],
   "source": [
    "# Menambahkan kolom tanggal dan waktu serta kolom tanggal\n",
    "data['date_time'] = pd.to_datetime(data['timestamp'], unit = 's')\n",
    "data['date'] = data['date_time'].dt.floor('1D')\n",
    "data.head()"
   ]
  },
  {
   "cell_type": "code",
   "execution_count": 9,
   "metadata": {
    "scrolled": true
   },
   "outputs": [
    {
     "data": {
      "text/plain": [
       "0"
      ]
     },
     "execution_count": 9,
     "metadata": {},
     "output_type": "execute_result"
    }
   ],
   "source": [
    "# Menghapus baris duplikat\n",
    "data.drop_duplicates(inplace = True)\n",
    "data.duplicated().sum()"
   ]
  },
  {
   "cell_type": "markdown",
   "metadata": {},
   "source": [
    "## Pelajari dan periksa datanya <a id='periksa'></a>"
   ]
  },
  {
   "cell_type": "markdown",
   "metadata": {},
   "source": [
    "### Berapa banyak peristiwa yang tercatat dalam log? <a id='41'></a>"
   ]
  },
  {
   "cell_type": "code",
   "execution_count": 10,
   "metadata": {},
   "outputs": [
    {
     "name": "stdout",
     "output_type": "stream",
     "text": [
      "243713 event\n"
     ]
    }
   ],
   "source": [
    "print(f'{len(data)} event')"
   ]
  },
  {
   "cell_type": "markdown",
   "metadata": {},
   "source": [
    "### Berapa banyak pengguna yang tercatat dalam log? <a id='42'></a>"
   ]
  },
  {
   "cell_type": "code",
   "execution_count": 11,
   "metadata": {},
   "outputs": [
    {
     "name": "stdout",
     "output_type": "stream",
     "text": [
      "7551 pengguna\n"
     ]
    }
   ],
   "source": [
    "print(f'{data.user.nunique()} pengguna')"
   ]
  },
  {
   "cell_type": "markdown",
   "metadata": {},
   "source": [
    "### Berapa jumlah rata-rata peristiwa per pengguna? <a id='43'></a>"
   ]
  },
  {
   "cell_type": "code",
   "execution_count": 12,
   "metadata": {
    "scrolled": true
   },
   "outputs": [
    {
     "name": "stdout",
     "output_type": "stream",
     "text": [
      "rata-rata peristiwa per pengguna adalah 32.27559263673685\n"
     ]
    }
   ],
   "source": [
    "avg = len(data) / data.user.nunique()\n",
    "print(f'rata-rata peristiwa per pengguna adalah {avg}')"
   ]
  },
  {
   "cell_type": "markdown",
   "metadata": {},
   "source": [
    "### Periode waktu mana yang dicakup oleh data? Temukan tanggal maksimum dan minimumnya. Buat sebuah histogram berdasarkan tanggal dan waktu <a id='44'></a>"
   ]
  },
  {
   "cell_type": "code",
   "execution_count": 13,
   "metadata": {},
   "outputs": [
    {
     "name": "stdout",
     "output_type": "stream",
     "text": [
      "periode minimum pada data adalah 2019-07-25 04:43:36\n",
      "periode maksimum pada data dalah 2019-08-07 21:15:17\n"
     ]
    }
   ],
   "source": [
    "print(f'periode minimum pada data adalah {data.date_time.min()}')\n",
    "print(f'periode maksimum pada data dalah {data.date_time.max()}')"
   ]
  },
  {
   "cell_type": "markdown",
   "metadata": {},
   "source": [
    "#### Buat sebuah histogram berdasarkan tanggal dan waktu <a id='441'></a>"
   ]
  },
  {
   "cell_type": "code",
   "execution_count": 14,
   "metadata": {},
   "outputs": [
    {
     "data": {
      "text/plain": [
       "<Axes: >"
      ]
     },
     "execution_count": 14,
     "metadata": {},
     "output_type": "execute_result"
    },
    {
     "data": {
      "image/png": "[encoded data removed]",
      "text/plain": [
       "<Figure size 1400x500 with 1 Axes>"
      ]
     },
     "metadata": {},
     "output_type": "display_data"
    }
   ],
   "source": [
    "from pandas.plotting import register_matplotlib_converters\n",
    "register_matplotlib_converters()\n",
    "data['date_time'].hist(bins = 100, figsize=(14,5))"
   ]
  },
  {
   "cell_type": "markdown",
   "metadata": {},
   "source": [
    "didapati di dataframe bahwa sebelum tanggal 2019-07-31 data yang dimiliki sangat sedikit sekali, dengan penemuan ini maka data yang akan dijadikan penelitian adalah sesudah pada tanggal tersebut"
   ]
  },
  {
   "cell_type": "markdown",
   "metadata": {},
   "source": [
    "#### Periode mana yang benar-benar diwakili oleh data yang kamu miliki? <a id='442'></a>"
   ]
  },
  {
   "cell_type": "code",
   "execution_count": 15,
   "metadata": {},
   "outputs": [
    {
     "data": {
      "text/html": [
       "<div>\n",
       "<style scoped>\n",
       "    .dataframe tbody tr th:only-of-type {\n",
       "        vertical-align: middle;\n",
       "    }\n",
       "\n",
       "    .dataframe tbody tr th {\n",
       "        vertical-align: top;\n",
       "    }\n",
       "\n",
       "    .dataframe thead th {\n",
       "        text-align: right;\n",
       "    }\n",
       "</style>\n",
       "<table border=\"1\" class=\"dataframe\">\n",
       "  <thead>\n",
       "    <tr style=\"text-align: right;\">\n",
       "      <th></th>\n",
       "      <th>event</th>\n",
       "      <th>user</th>\n",
       "      <th>timestamp</th>\n",
       "      <th>exp_id</th>\n",
       "      <th>date_time</th>\n",
       "      <th>date</th>\n",
       "    </tr>\n",
       "  </thead>\n",
       "  <tbody>\n",
       "    <tr>\n",
       "      <th>244125</th>\n",
       "      <td>OffersScreenAppear</td>\n",
       "      <td>5746969938801999050</td>\n",
       "      <td>1565212517</td>\n",
       "      <td>246</td>\n",
       "      <td>2019-08-07 21:15:17</td>\n",
       "      <td>2019-08-07</td>\n",
       "    </tr>\n",
       "    <tr>\n",
       "      <th>223377</th>\n",
       "      <td>MainScreenAppear</td>\n",
       "      <td>8557624836103102171</td>\n",
       "      <td>1565172881</td>\n",
       "      <td>246</td>\n",
       "      <td>2019-08-07 10:14:41</td>\n",
       "      <td>2019-08-07</td>\n",
       "    </tr>\n",
       "    <tr>\n",
       "      <th>223349</th>\n",
       "      <td>MainScreenAppear</td>\n",
       "      <td>6713384618608633696</td>\n",
       "      <td>1565172824</td>\n",
       "      <td>247</td>\n",
       "      <td>2019-08-07 10:13:44</td>\n",
       "      <td>2019-08-07</td>\n",
       "    </tr>\n",
       "    <tr>\n",
       "      <th>223350</th>\n",
       "      <td>MainScreenAppear</td>\n",
       "      <td>1599641448679221409</td>\n",
       "      <td>1565172826</td>\n",
       "      <td>247</td>\n",
       "      <td>2019-08-07 10:13:46</td>\n",
       "      <td>2019-08-07</td>\n",
       "    </tr>\n",
       "    <tr>\n",
       "      <th>223351</th>\n",
       "      <td>CartScreenAppear</td>\n",
       "      <td>6086359942961042433</td>\n",
       "      <td>1565172827</td>\n",
       "      <td>247</td>\n",
       "      <td>2019-08-07 10:13:47</td>\n",
       "      <td>2019-08-07</td>\n",
       "    </tr>\n",
       "  </tbody>\n",
       "</table>\n",
       "</div>"
      ],
      "text/plain": [
       "                     event                 user   timestamp  exp_id  \\\n",
       "244125  OffersScreenAppear  5746969938801999050  1565212517     246   \n",
       "223377    MainScreenAppear  8557624836103102171  1565172881     246   \n",
       "223349    MainScreenAppear  6713384618608633696  1565172824     247   \n",
       "223350    MainScreenAppear  1599641448679221409  1565172826     247   \n",
       "223351    CartScreenAppear  6086359942961042433  1565172827     247   \n",
       "\n",
       "                 date_time       date  \n",
       "244125 2019-08-07 21:15:17 2019-08-07  \n",
       "223377 2019-08-07 10:14:41 2019-08-07  \n",
       "223349 2019-08-07 10:13:44 2019-08-07  \n",
       "223350 2019-08-07 10:13:46 2019-08-07  \n",
       "223351 2019-08-07 10:13:47 2019-08-07  "
      ]
     },
     "execution_count": 15,
     "metadata": {},
     "output_type": "execute_result"
    }
   ],
   "source": [
    "# membuang data sebelum tanggal 2019-07-31\n",
    "data.query('date > \"2019-07-31\"' , inplace = True)\n",
    "data.sort_values(by='date', ascending= False).head()\n"
   ]
  },
  {
   "cell_type": "code",
   "execution_count": 16,
   "metadata": {},
   "outputs": [
    {
     "data": {
      "text/plain": [
       "240887"
      ]
     },
     "execution_count": 16,
     "metadata": {},
     "output_type": "execute_result"
    }
   ],
   "source": [
    "len(data)"
   ]
  },
  {
   "cell_type": "markdown",
   "metadata": {},
   "source": [
    "setelah datanya diiris terisa 240887 data dari 243713 data"
   ]
  },
  {
   "cell_type": "code",
   "execution_count": 17,
   "metadata": {},
   "outputs": [
    {
     "data": {
      "text/plain": [
       "<Axes: >"
      ]
     },
     "execution_count": 17,
     "metadata": {},
     "output_type": "execute_result"
    },
    {
     "data": {
      "image/png": "[encoded data removed]",
      "text/plain": [
       "<Figure size 1400x500 with 1 Axes>"
      ]
     },
     "metadata": {},
     "output_type": "display_data"
    }
   ],
   "source": [
    "#histogram setelah data diiris\n",
    "from pandas.plotting import register_matplotlib_converters\n",
    "register_matplotlib_converters()\n",
    "data['date_time'].hist(bins = 100, figsize=(14,5))"
   ]
  },
  {
   "cell_type": "markdown",
   "metadata": {},
   "source": [
    "### Apakah kamu kehilangan banyak peristiwa dan pengguna saat menyingkirkan data lama? <a id='45'></a>"
   ]
  },
  {
   "cell_type": "code",
   "execution_count": 18,
   "metadata": {},
   "outputs": [
    {
     "data": {
      "text/plain": [
       "1.0117316418071545"
      ]
     },
     "execution_count": 18,
     "metadata": {},
     "output_type": "execute_result"
    }
   ],
   "source": [
    "#data awal berjumlah 243713 data dan data sesudah diiris berjumlah 240887 data\n",
    "243713 / 240887"
   ]
  },
  {
   "cell_type": "markdown",
   "metadata": {},
   "source": [
    "setelah datanya diiris, kita hanya kehilangan 1% data dari keseluruhan data yang dipunya"
   ]
  },
  {
   "cell_type": "markdown",
   "metadata": {},
   "source": [
    "### Pastikan kamu memiliki pengguna dari ketiga kelompok eksperimen. <a id='46'></a>\n"
   ]
  },
  {
   "cell_type": "code",
   "execution_count": 19,
   "metadata": {},
   "outputs": [
    {
     "data": {
      "text/plain": [
       "exp_id\n",
       "248    84563\n",
       "246    79302\n",
       "247    77022\n",
       "Name: count, dtype: int64"
      ]
     },
     "execution_count": 19,
     "metadata": {},
     "output_type": "execute_result"
    }
   ],
   "source": [
    "data.exp_id.value_counts()"
   ]
  },
  {
   "cell_type": "markdown",
   "metadata": {},
   "source": [
    "## Pelajari funnel peristiwanya <a id='5'></a>"
   ]
  },
  {
   "cell_type": "markdown",
   "metadata": {},
   "source": [
    "### Peristiwa apa saja yang ada dalam log dan berapa banyak frekuensi kemunculannya <a id='51'></a>"
   ]
  },
  {
   "cell_type": "code",
   "execution_count": 20,
   "metadata": {
    "scrolled": true
   },
   "outputs": [
    {
     "data": {
      "text/html": [
       "<div>\n",
       "<style scoped>\n",
       "    .dataframe tbody tr th:only-of-type {\n",
       "        vertical-align: middle;\n",
       "    }\n",
       "\n",
       "    .dataframe tbody tr th {\n",
       "        vertical-align: top;\n",
       "    }\n",
       "\n",
       "    .dataframe thead th {\n",
       "        text-align: right;\n",
       "    }\n",
       "</style>\n",
       "<table border=\"1\" class=\"dataframe\">\n",
       "  <thead>\n",
       "    <tr style=\"text-align: right;\">\n",
       "      <th></th>\n",
       "      <th>event</th>\n",
       "      <th>user</th>\n",
       "      <th>timestamp</th>\n",
       "      <th>exp_id</th>\n",
       "      <th>date_time</th>\n",
       "      <th>date</th>\n",
       "    </tr>\n",
       "  </thead>\n",
       "  <tbody>\n",
       "    <tr>\n",
       "      <th>2828</th>\n",
       "      <td>Tutorial</td>\n",
       "      <td>3737462046622621720</td>\n",
       "      <td>1564618048</td>\n",
       "      <td>246</td>\n",
       "      <td>2019-08-01 00:07:28</td>\n",
       "      <td>2019-08-01</td>\n",
       "    </tr>\n",
       "    <tr>\n",
       "      <th>2829</th>\n",
       "      <td>MainScreenAppear</td>\n",
       "      <td>3737462046622621720</td>\n",
       "      <td>1564618080</td>\n",
       "      <td>246</td>\n",
       "      <td>2019-08-01 00:08:00</td>\n",
       "      <td>2019-08-01</td>\n",
       "    </tr>\n",
       "    <tr>\n",
       "      <th>2830</th>\n",
       "      <td>MainScreenAppear</td>\n",
       "      <td>3737462046622621720</td>\n",
       "      <td>1564618135</td>\n",
       "      <td>246</td>\n",
       "      <td>2019-08-01 00:08:55</td>\n",
       "      <td>2019-08-01</td>\n",
       "    </tr>\n",
       "    <tr>\n",
       "      <th>2831</th>\n",
       "      <td>OffersScreenAppear</td>\n",
       "      <td>3737462046622621720</td>\n",
       "      <td>1564618138</td>\n",
       "      <td>246</td>\n",
       "      <td>2019-08-01 00:08:58</td>\n",
       "      <td>2019-08-01</td>\n",
       "    </tr>\n",
       "    <tr>\n",
       "      <th>2832</th>\n",
       "      <td>MainScreenAppear</td>\n",
       "      <td>1433840883824088890</td>\n",
       "      <td>1564618139</td>\n",
       "      <td>247</td>\n",
       "      <td>2019-08-01 00:08:59</td>\n",
       "      <td>2019-08-01</td>\n",
       "    </tr>\n",
       "  </tbody>\n",
       "</table>\n",
       "</div>"
      ],
      "text/plain": [
       "                   event                 user   timestamp  exp_id  \\\n",
       "2828            Tutorial  3737462046622621720  1564618048     246   \n",
       "2829    MainScreenAppear  3737462046622621720  1564618080     246   \n",
       "2830    MainScreenAppear  3737462046622621720  1564618135     246   \n",
       "2831  OffersScreenAppear  3737462046622621720  1564618138     246   \n",
       "2832    MainScreenAppear  1433840883824088890  1564618139     247   \n",
       "\n",
       "               date_time       date  \n",
       "2828 2019-08-01 00:07:28 2019-08-01  \n",
       "2829 2019-08-01 00:08:00 2019-08-01  \n",
       "2830 2019-08-01 00:08:55 2019-08-01  \n",
       "2831 2019-08-01 00:08:58 2019-08-01  \n",
       "2832 2019-08-01 00:08:59 2019-08-01  "
      ]
     },
     "execution_count": 20,
     "metadata": {},
     "output_type": "execute_result"
    }
   ],
   "source": [
    "data.head()"
   ]
  },
  {
   "cell_type": "code",
   "execution_count": 22,
   "metadata": {},
   "outputs": [
    {
     "data": {
      "text/html": [
       "<div>\n",
       "<style scoped>\n",
       "    .dataframe tbody tr th:only-of-type {\n",
       "        vertical-align: middle;\n",
       "    }\n",
       "\n",
       "    .dataframe tbody tr th {\n",
       "        vertical-align: top;\n",
       "    }\n",
       "\n",
       "    .dataframe thead th {\n",
       "        text-align: right;\n",
       "    }\n",
       "</style>\n",
       "<table border=\"1\" class=\"dataframe\">\n",
       "  <thead>\n",
       "    <tr style=\"text-align: right;\">\n",
       "      <th>exp_id</th>\n",
       "      <th>246</th>\n",
       "      <th>247</th>\n",
       "      <th>248</th>\n",
       "    </tr>\n",
       "    <tr>\n",
       "      <th>event</th>\n",
       "      <th></th>\n",
       "      <th></th>\n",
       "      <th></th>\n",
       "    </tr>\n",
       "  </thead>\n",
       "  <tbody>\n",
       "    <tr>\n",
       "      <th>CartScreenAppear</th>\n",
       "      <td>14690</td>\n",
       "      <td>12434</td>\n",
       "      <td>15179</td>\n",
       "    </tr>\n",
       "    <tr>\n",
       "      <th>MainScreenAppear</th>\n",
       "      <td>37676</td>\n",
       "      <td>39090</td>\n",
       "      <td>40562</td>\n",
       "    </tr>\n",
       "    <tr>\n",
       "      <th>OffersScreenAppear</th>\n",
       "      <td>14767</td>\n",
       "      <td>15179</td>\n",
       "      <td>16387</td>\n",
       "    </tr>\n",
       "    <tr>\n",
       "      <th>PaymentScreenSuccessful</th>\n",
       "      <td>11852</td>\n",
       "      <td>9981</td>\n",
       "      <td>12085</td>\n",
       "    </tr>\n",
       "    <tr>\n",
       "      <th>Tutorial</th>\n",
       "      <td>317</td>\n",
       "      <td>338</td>\n",
       "      <td>350</td>\n",
       "    </tr>\n",
       "  </tbody>\n",
       "</table>\n",
       "</div>"
      ],
      "text/plain": [
       "exp_id                     246    247    248\n",
       "event                                       \n",
       "CartScreenAppear         14690  12434  15179\n",
       "MainScreenAppear         37676  39090  40562\n",
       "OffersScreenAppear       14767  15179  16387\n",
       "PaymentScreenSuccessful  11852   9981  12085\n",
       "Tutorial                   317    338    350"
      ]
     },
     "execution_count": 22,
     "metadata": {},
     "output_type": "execute_result"
    }
   ],
   "source": [
    "data.pivot_table(\n",
    "    index= 'event',\n",
    "    values= 'user',\n",
    "    columns='exp_id',\n",
    "    aggfunc= 'count')"
   ]
  },
  {
   "cell_type": "code",
   "execution_count": 26,
   "metadata": {},
   "outputs": [
    {
     "data": {
      "text/html": [
       "<div>\n",
       "<style scoped>\n",
       "    .dataframe tbody tr th:only-of-type {\n",
       "        vertical-align: middle;\n",
       "    }\n",
       "\n",
       "    .dataframe tbody tr th {\n",
       "        vertical-align: top;\n",
       "    }\n",
       "\n",
       "    .dataframe thead th {\n",
       "        text-align: right;\n",
       "    }\n",
       "</style>\n",
       "<table border=\"1\" class=\"dataframe\">\n",
       "  <thead>\n",
       "    <tr style=\"text-align: right;\">\n",
       "      <th></th>\n",
       "      <th>user</th>\n",
       "    </tr>\n",
       "    <tr>\n",
       "      <th>event</th>\n",
       "      <th></th>\n",
       "    </tr>\n",
       "  </thead>\n",
       "  <tbody>\n",
       "    <tr>\n",
       "      <th>MainScreenAppear</th>\n",
       "      <td>117328</td>\n",
       "    </tr>\n",
       "    <tr>\n",
       "      <th>OffersScreenAppear</th>\n",
       "      <td>46333</td>\n",
       "    </tr>\n",
       "    <tr>\n",
       "      <th>CartScreenAppear</th>\n",
       "      <td>42303</td>\n",
       "    </tr>\n",
       "    <tr>\n",
       "      <th>PaymentScreenSuccessful</th>\n",
       "      <td>33918</td>\n",
       "    </tr>\n",
       "    <tr>\n",
       "      <th>Tutorial</th>\n",
       "      <td>1005</td>\n",
       "    </tr>\n",
       "  </tbody>\n",
       "</table>\n",
       "</div>"
      ],
      "text/plain": [
       "                           user\n",
       "event                          \n",
       "MainScreenAppear         117328\n",
       "OffersScreenAppear        46333\n",
       "CartScreenAppear          42303\n",
       "PaymentScreenSuccessful   33918\n",
       "Tutorial                   1005"
      ]
     },
     "execution_count": 26,
     "metadata": {},
     "output_type": "execute_result"
    }
   ],
   "source": [
    "data.pivot_table(\n",
    "    index= 'event',\n",
    "    values= 'user',\n",
    "    aggfunc= 'count').sort_values(by='user', ascending=False)"
   ]
  },
  {
   "cell_type": "markdown",
   "metadata": {},
   "source": [
    "terdapat 5 event/peristiwa pada aplikasi yang kita punya, dan bagian tutorial sedikit sekali yang melihat. mungkin pengguna sudah familiar dengan aplikasi sejenis dengan yang kita punya jadi tidak perlu banyak adaptasi"
   ]
  },
  {
   "cell_type": "markdown",
   "metadata": {},
   "source": [
    "### Temukan jumlah pengguna yang melakukan setiap tindakan. Urutkan peristiwa berdasarkan jumlah pengguna. Hitung proporsi pengguna yang melakukan tindakan setidaknya satu kali. <a id='52'></a>"
   ]
  },
  {
   "cell_type": "code",
   "execution_count": 27,
   "metadata": {},
   "outputs": [
    {
     "data": {
      "text/html": [
       "<div>\n",
       "<style scoped>\n",
       "    .dataframe tbody tr th:only-of-type {\n",
       "        vertical-align: middle;\n",
       "    }\n",
       "\n",
       "    .dataframe tbody tr th {\n",
       "        vertical-align: top;\n",
       "    }\n",
       "\n",
       "    .dataframe thead th {\n",
       "        text-align: right;\n",
       "    }\n",
       "</style>\n",
       "<table border=\"1\" class=\"dataframe\">\n",
       "  <thead>\n",
       "    <tr style=\"text-align: right;\">\n",
       "      <th></th>\n",
       "      <th>user</th>\n",
       "    </tr>\n",
       "    <tr>\n",
       "      <th>event</th>\n",
       "      <th></th>\n",
       "    </tr>\n",
       "  </thead>\n",
       "  <tbody>\n",
       "    <tr>\n",
       "      <th>MainScreenAppear</th>\n",
       "      <td>7419</td>\n",
       "    </tr>\n",
       "    <tr>\n",
       "      <th>OffersScreenAppear</th>\n",
       "      <td>4593</td>\n",
       "    </tr>\n",
       "    <tr>\n",
       "      <th>CartScreenAppear</th>\n",
       "      <td>3734</td>\n",
       "    </tr>\n",
       "    <tr>\n",
       "      <th>PaymentScreenSuccessful</th>\n",
       "      <td>3539</td>\n",
       "    </tr>\n",
       "    <tr>\n",
       "      <th>Tutorial</th>\n",
       "      <td>840</td>\n",
       "    </tr>\n",
       "  </tbody>\n",
       "</table>\n",
       "</div>"
      ],
      "text/plain": [
       "                         user\n",
       "event                        \n",
       "MainScreenAppear         7419\n",
       "OffersScreenAppear       4593\n",
       "CartScreenAppear         3734\n",
       "PaymentScreenSuccessful  3539\n",
       "Tutorial                  840"
      ]
     },
     "execution_count": 27,
     "metadata": {},
     "output_type": "execute_result"
    }
   ],
   "source": [
    "users_per_event = data.pivot_table(\n",
    "    index= 'event',\n",
    "    values= 'user',\n",
    "    aggfunc= lambda x: x.nunique()).sort_values(by='user', ascending=False)\n",
    "users_per_event"
   ]
  },
  {
   "cell_type": "code",
   "execution_count": 28,
   "metadata": {},
   "outputs": [
    {
     "data": {
      "text/html": [
       "<div>\n",
       "<style scoped>\n",
       "    .dataframe tbody tr th:only-of-type {\n",
       "        vertical-align: middle;\n",
       "    }\n",
       "\n",
       "    .dataframe tbody tr th {\n",
       "        vertical-align: top;\n",
       "    }\n",
       "\n",
       "    .dataframe thead th {\n",
       "        text-align: right;\n",
       "    }\n",
       "</style>\n",
       "<table border=\"1\" class=\"dataframe\">\n",
       "  <thead>\n",
       "    <tr style=\"text-align: right;\">\n",
       "      <th></th>\n",
       "      <th>user</th>\n",
       "    </tr>\n",
       "    <tr>\n",
       "      <th>event</th>\n",
       "      <th></th>\n",
       "    </tr>\n",
       "  </thead>\n",
       "  <tbody>\n",
       "    <tr>\n",
       "      <th>MainScreenAppear</th>\n",
       "      <td>0.984736</td>\n",
       "    </tr>\n",
       "    <tr>\n",
       "      <th>OffersScreenAppear</th>\n",
       "      <td>0.609636</td>\n",
       "    </tr>\n",
       "    <tr>\n",
       "      <th>CartScreenAppear</th>\n",
       "      <td>0.495620</td>\n",
       "    </tr>\n",
       "    <tr>\n",
       "      <th>PaymentScreenSuccessful</th>\n",
       "      <td>0.469737</td>\n",
       "    </tr>\n",
       "    <tr>\n",
       "      <th>Tutorial</th>\n",
       "      <td>0.111495</td>\n",
       "    </tr>\n",
       "  </tbody>\n",
       "</table>\n",
       "</div>"
      ],
      "text/plain": [
       "                             user\n",
       "event                            \n",
       "MainScreenAppear         0.984736\n",
       "OffersScreenAppear       0.609636\n",
       "CartScreenAppear         0.495620\n",
       "PaymentScreenSuccessful  0.469737\n",
       "Tutorial                 0.111495"
      ]
     },
     "execution_count": 28,
     "metadata": {},
     "output_type": "execute_result"
    }
   ],
   "source": [
    "#konversi setiap event dari total pengguna\n",
    "users_per_event / len(data['user'].unique())"
   ]
  },
  {
   "cell_type": "markdown",
   "metadata": {},
   "source": [
    "pada tahap selanjutnya event tutorial tidak akan dihitung sebagai funnel utama dikarenakan tidak masuk akal jikalau sudah melakukan pembayaran baru melihat tutorial"
   ]
  },
  {
   "cell_type": "markdown",
   "metadata": {},
   "source": [
    "### Gunakan funnel peristiwa untuk menemukan persentase pengguna yang terus berlanjut dari satu tahap ke tahap berikutnya <a id='53'></a>"
   ]
  },
  {
   "cell_type": "code",
   "execution_count": 52,
   "metadata": {},
   "outputs": [
    {
     "data": {
      "text/html": [
       "<div>\n",
       "<style scoped>\n",
       "    .dataframe tbody tr th:only-of-type {\n",
       "        vertical-align: middle;\n",
       "    }\n",
       "\n",
       "    .dataframe tbody tr th {\n",
       "        vertical-align: top;\n",
       "    }\n",
       "\n",
       "    .dataframe thead th {\n",
       "        text-align: right;\n",
       "    }\n",
       "</style>\n",
       "<table border=\"1\" class=\"dataframe\">\n",
       "  <thead>\n",
       "    <tr style=\"text-align: right;\">\n",
       "      <th></th>\n",
       "      <th>user</th>\n",
       "    </tr>\n",
       "    <tr>\n",
       "      <th>event</th>\n",
       "      <th></th>\n",
       "    </tr>\n",
       "  </thead>\n",
       "  <tbody>\n",
       "    <tr>\n",
       "      <th>OffersScreenAppear</th>\n",
       "      <td>0.619086</td>\n",
       "    </tr>\n",
       "    <tr>\n",
       "      <th>CartScreenAppear</th>\n",
       "      <td>0.812976</td>\n",
       "    </tr>\n",
       "    <tr>\n",
       "      <th>PaymentScreenSuccessful</th>\n",
       "      <td>0.947777</td>\n",
       "    </tr>\n",
       "  </tbody>\n",
       "</table>\n",
       "</div>"
      ],
      "text/plain": [
       "                             user\n",
       "event                            \n",
       "OffersScreenAppear       0.619086\n",
       "CartScreenAppear         0.812976\n",
       "PaymentScreenSuccessful  0.947777"
      ]
     },
     "execution_count": 52,
     "metadata": {},
     "output_type": "execute_result"
    }
   ],
   "source": [
    "#konversi event sesudah dengan event sebelumnya\n",
    "users_funnel = users_per_event[:-1]\n",
    "users_funnel = (users_funnel / users_funnel.shift())[1:]\n",
    "users_funnel"
   ]
  },
  {
   "cell_type": "markdown",
   "metadata": {},
   "source": [
    "terdapat penurunan drastis dari main screen ke offers screen, sepertinya kita perlu membenahi main screen yang kita miliki agar pengguna tertarik melanjutkan ke offers screen"
   ]
  },
  {
   "cell_type": "markdown",
   "metadata": {},
   "source": [
    "### Berapa banyak persentase pengguna yang berhasil menyelesaikan seluruh tahapan yang ada, dari peristiwa pertama hingga pembayaran? <a id='54'></a>"
   ]
  },
  {
   "cell_type": "code",
   "execution_count": 30,
   "metadata": {
    "scrolled": true
   },
   "outputs": [
    {
     "name": "stdout",
     "output_type": "stream",
     "text": [
      "Persentase yang berhasil menyelesaikan seluruh tahapan adalah sebesar 47.7%\n"
     ]
    }
   ],
   "source": [
    "x= (users_per_event.loc['PaymentScreenSuccessful'] / users_per_event.loc['MainScreenAppear'] * 100)['user']\n",
    "x\n",
    "print(f\"Persentase yang berhasil menyelesaikan seluruh tahapan adalah sebesar {x:.1f}%\") "
   ]
  },
  {
   "cell_type": "markdown",
   "metadata": {},
   "source": [
    "## Pelajari hasil eksperimenmu <a id='6'></a>"
   ]
  },
  {
   "cell_type": "markdown",
   "metadata": {},
   "source": [
    "### Berapa banyak pengguna yang ada di setiap kelompok? <a id='61'></a>\n"
   ]
  },
  {
   "cell_type": "code",
   "execution_count": 31,
   "metadata": {
    "scrolled": true
   },
   "outputs": [
    {
     "data": {
      "text/plain": [
       "exp_id\n",
       "246    2484\n",
       "247    2513\n",
       "248    2537\n",
       "Name: user, dtype: int64"
      ]
     },
     "execution_count": 31,
     "metadata": {},
     "output_type": "execute_result"
    }
   ],
   "source": [
    "users_per_group = data.pivot_table(\n",
    "    index= 'exp_id',\n",
    "    values= 'user',\n",
    "    aggfunc= lambda x: x.nunique())['user']\n",
    "users_per_group"
   ]
  },
  {
   "cell_type": "markdown",
   "metadata": {},
   "source": [
    "### Pilih peristiwa yang paling populer. Pada setiap kelompok kontrol, temukan jumlah pengguna yang melakukan tindakan tersebut <a id='62'></a>"
   ]
  },
  {
   "cell_type": "code",
   "execution_count": 32,
   "metadata": {},
   "outputs": [
    {
     "data": {
      "text/html": [
       "<div>\n",
       "<style scoped>\n",
       "    .dataframe tbody tr th:only-of-type {\n",
       "        vertical-align: middle;\n",
       "    }\n",
       "\n",
       "    .dataframe tbody tr th {\n",
       "        vertical-align: top;\n",
       "    }\n",
       "\n",
       "    .dataframe thead th {\n",
       "        text-align: right;\n",
       "    }\n",
       "</style>\n",
       "<table border=\"1\" class=\"dataframe\">\n",
       "  <thead>\n",
       "    <tr style=\"text-align: right;\">\n",
       "      <th>exp_id</th>\n",
       "      <th>246</th>\n",
       "      <th>247</th>\n",
       "      <th>248</th>\n",
       "    </tr>\n",
       "    <tr>\n",
       "      <th>event</th>\n",
       "      <th></th>\n",
       "      <th></th>\n",
       "      <th></th>\n",
       "    </tr>\n",
       "  </thead>\n",
       "  <tbody>\n",
       "    <tr>\n",
       "      <th>CartScreenAppear</th>\n",
       "      <td>1266</td>\n",
       "      <td>1238</td>\n",
       "      <td>1230</td>\n",
       "    </tr>\n",
       "    <tr>\n",
       "      <th>MainScreenAppear</th>\n",
       "      <td>2450</td>\n",
       "      <td>2476</td>\n",
       "      <td>2493</td>\n",
       "    </tr>\n",
       "    <tr>\n",
       "      <th>OffersScreenAppear</th>\n",
       "      <td>1542</td>\n",
       "      <td>1520</td>\n",
       "      <td>1531</td>\n",
       "    </tr>\n",
       "    <tr>\n",
       "      <th>PaymentScreenSuccessful</th>\n",
       "      <td>1200</td>\n",
       "      <td>1158</td>\n",
       "      <td>1181</td>\n",
       "    </tr>\n",
       "    <tr>\n",
       "      <th>Tutorial</th>\n",
       "      <td>278</td>\n",
       "      <td>283</td>\n",
       "      <td>279</td>\n",
       "    </tr>\n",
       "  </tbody>\n",
       "</table>\n",
       "</div>"
      ],
      "text/plain": [
       "exp_id                    246   247   248\n",
       "event                                    \n",
       "CartScreenAppear         1266  1238  1230\n",
       "MainScreenAppear         2450  2476  2493\n",
       "OffersScreenAppear       1542  1520  1531\n",
       "PaymentScreenSuccessful  1200  1158  1181\n",
       "Tutorial                  278   283   279"
      ]
     },
     "execution_count": 32,
     "metadata": {},
     "output_type": "execute_result"
    }
   ],
   "source": [
    "users_event_per_group = data.pivot_table(\n",
    "    index= 'event',\n",
    "    values= 'user',\n",
    "    columns= 'exp_id',\n",
    "    aggfunc= lambda x: x.nunique())\n",
    "users_event_per_group"
   ]
  },
  {
   "cell_type": "markdown",
   "metadata": {},
   "source": [
    "event yang paling populer pada aplikasi ini adalah main screen appear, maka event ini akan digunakan pada pengecekan hipotesis selanjutnya"
   ]
  },
  {
   "cell_type": "markdown",
   "metadata": {},
   "source": [
    "#### Periksa apakah perbedaan antar kelompok signifikan secara statistik. Ulangi prosedur ini untuk semua peristiwa lainnya <a id='621'></a>"
   ]
  },
  {
   "cell_type": "code",
   "execution_count": 33,
   "metadata": {},
   "outputs": [],
   "source": [
    "# fungsi cek hipotesis 1event 2 kelompok\n",
    "def check_hypothesis(succeses1, succeses2, trials1, trials2, alpha=0.05):\n",
    "    #proporsi sukses di grup pertama\n",
    "    p1 = succeses1 / trials1\n",
    "    \n",
    "    #proporsi sukses di grup kedua\n",
    "    p2 = succeses2 / trials2\n",
    "    \n",
    "    #proporsi kombinasi\n",
    "    p_combined = (succeses1 + succeses2) / (trials1 + trials2)\n",
    "    \n",
    "    #perbedaan proporsi\n",
    "    difference= p1-p2\n",
    "    \n",
    "    #perhitungan statistik dengan normal deviasi di distribusi normal\n",
    "    z_value= difference / math.sqrt(p_combined * (1 - p_combined) * (1/trials1 + 1/trials2))\n",
    "    \n",
    "    #setting normal distribusi \n",
    "    distr = stats.norm(0,1)\n",
    "    \n",
    "    #perhitungan statistik dengan normal deviasi di distribusi normal\n",
    "    z_value= difference / math.sqrt(p_combined * (1 - p_combined) * (1/trials1 + 1/trials2))\n",
    "    \n",
    "    p_value = (1 - distr.cdf(abs(z_value))) *2\n",
    "    \n",
    "    print('pvalue: ',p_value)\n",
    "    \n",
    "    if (p_value < alpha):\n",
    "        print(\"Menolak Hipotesis 0, terdapat perbedaan signifikan diantara proporsi\")\n",
    "    else:\n",
    "        print(\"Gagal Menolak Hipotesis 0, tidak terdapat perbedaan yang signifikan antara proporsi\")\n",
    "        \n",
    "    "
   ]
  },
  {
   "cell_type": "code",
   "execution_count": 34,
   "metadata": {},
   "outputs": [
    {
     "name": "stdout",
     "output_type": "stream",
     "text": [
      "pvalue:  0.7570597232046099\n",
      "Gagal Menolak Hipotesis 0, tidak terdapat perbedaan yang signifikan antara proporsi\n"
     ]
    }
   ],
   "source": [
    "check_hypothesis(users_event_per_group.loc['MainScreenAppear', 246],\n",
    "                 users_event_per_group.loc['MainScreenAppear', 247],\n",
    "                 users_per_group.loc[246],\n",
    "                 users_per_group.loc[247],\n",
    "                )"
   ]
  },
  {
   "cell_type": "markdown",
   "metadata": {},
   "source": [
    "tidak terdapat perbedaan yang signifikan diantara event main screen kelompok 246 dengan main screen kelompok 247"
   ]
  },
  {
   "cell_type": "code",
   "execution_count": 35,
   "metadata": {},
   "outputs": [],
   "source": [
    "# fungsi cek hipotesis semua event di 2 kelompok\n",
    "def check_event_hypothesis(users_event_per_group, users_per_group, event, exp1, exp2):\n",
    "    frac1= users_event_per_group.loc[event, exp1] / users_per_group.loc[exp1]\n",
    "    frac2= users_event_per_group.loc[event, exp2] / users_per_group.loc[exp2]    \n",
    "    \n",
    "    print(f' {frac1} dengan event {event} di grup {exp1}')\n",
    "    print(f' {frac2} dengan event {event} di grup {exp2}')\n",
    "    \n",
    "    check_hypothesis(users_event_per_group.loc[event, exp1],\n",
    "                 users_event_per_group.loc[event, exp2],\n",
    "                 users_per_group.loc[exp1],\n",
    "                 users_per_group.loc[exp2],\n",
    "                )"
   ]
  },
  {
   "cell_type": "code",
   "execution_count": 36,
   "metadata": {},
   "outputs": [
    {
     "name": "stdout",
     "output_type": "stream",
     "text": [
      " 0.5096618357487923 dengan event CartScreenAppear di grup 246\n",
      " 0.4926382809391166 dengan event CartScreenAppear di grup 247\n",
      "pvalue:  0.22883372237997213\n",
      "Gagal Menolak Hipotesis 0, tidak terdapat perbedaan yang signifikan antara proporsi\n",
      "\n",
      " 0.9863123993558777 dengan event MainScreenAppear di grup 246\n",
      " 0.9852765618782332 dengan event MainScreenAppear di grup 247\n",
      "pvalue:  0.7570597232046099\n",
      "Gagal Menolak Hipotesis 0, tidak terdapat perbedaan yang signifikan antara proporsi\n",
      "\n",
      " 0.6207729468599034 dengan event OffersScreenAppear di grup 246\n",
      " 0.6048547552725826 dengan event OffersScreenAppear di grup 247\n",
      "pvalue:  0.2480954578522181\n",
      "Gagal Menolak Hipotesis 0, tidak terdapat perbedaan yang signifikan antara proporsi\n",
      "\n",
      " 0.4830917874396135 dengan event PaymentScreenSuccessful di grup 246\n",
      " 0.46080382013529647 dengan event PaymentScreenSuccessful di grup 247\n",
      "pvalue:  0.11456679313141849\n",
      "Gagal Menolak Hipotesis 0, tidak terdapat perbedaan yang signifikan antara proporsi\n",
      "\n",
      " 0.11191626409017713 dengan event Tutorial di grup 246\n",
      " 0.11261440509351373 dengan event Tutorial di grup 247\n",
      "pvalue:  0.9376996189257114\n",
      "Gagal Menolak Hipotesis 0, tidak terdapat perbedaan yang signifikan antara proporsi\n",
      "\n"
     ]
    }
   ],
   "source": [
    "# menguji hipotesis seluruh event pada kelompok kontrol (246,247)\n",
    "for event in users_event_per_group.index:\n",
    "        check_event_hypothesis(users_event_per_group, users_per_group, event, 246,247)\n",
    "        print()\n"
   ]
  },
  {
   "cell_type": "markdown",
   "metadata": {},
   "source": [
    "begitu juga dengan event lainnya, tidak terdapat perbedaan yang signifikan antara kelompok 246 dengan kelompok 247"
   ]
  },
  {
   "cell_type": "markdown",
   "metadata": {},
   "source": [
    "### Lakukan hal yang sama untuk kelompok pengguna yang diperlihatkan versi font terbaru. Bandingkan hasilnya dengan masing-masing kelompok kontrol untuk setiap peristiwa secara terpisah. <a id='63'></a>"
   ]
  },
  {
   "cell_type": "code",
   "execution_count": 37,
   "metadata": {},
   "outputs": [
    {
     "name": "stdout",
     "output_type": "stream",
     "text": [
      " 0.5096618357487923 dengan event CartScreenAppear di grup 246\n",
      " 0.48482459597950334 dengan event CartScreenAppear di grup 248\n",
      "pvalue:  0.07842923237520116\n",
      "Gagal Menolak Hipotesis 0, tidak terdapat perbedaan yang signifikan antara proporsi\n",
      "\n",
      " 0.9863123993558777 dengan event MainScreenAppear di grup 246\n",
      " 0.9826566811194324 dengan event MainScreenAppear di grup 248\n",
      "pvalue:  0.2949721933554552\n",
      "Gagal Menolak Hipotesis 0, tidak terdapat perbedaan yang signifikan antara proporsi\n",
      "\n",
      " 0.6207729468599034 dengan event OffersScreenAppear di grup 246\n",
      " 0.6034686637761135 dengan event OffersScreenAppear di grup 248\n",
      "pvalue:  0.20836205402738917\n",
      "Gagal Menolak Hipotesis 0, tidak terdapat perbedaan yang signifikan antara proporsi\n",
      "\n",
      " 0.4830917874396135 dengan event PaymentScreenSuccessful di grup 246\n",
      " 0.46551044540796216 dengan event PaymentScreenSuccessful di grup 248\n",
      "pvalue:  0.2122553275697796\n",
      "Gagal Menolak Hipotesis 0, tidak terdapat perbedaan yang signifikan antara proporsi\n",
      "\n",
      " 0.11191626409017713 dengan event Tutorial di grup 246\n",
      " 0.10997240835632636 dengan event Tutorial di grup 248\n",
      "pvalue:  0.8264294010087645\n",
      "Gagal Menolak Hipotesis 0, tidak terdapat perbedaan yang signifikan antara proporsi\n",
      "\n"
     ]
    }
   ],
   "source": [
    "# menguji hipotesis seluruh event pada kelompok 246 dengan 248\n",
    "for event in users_event_per_group.index:\n",
    "        check_event_hypothesis(users_event_per_group, users_per_group, event, 246,248)\n",
    "        print()"
   ]
  },
  {
   "cell_type": "code",
   "execution_count": 38,
   "metadata": {},
   "outputs": [
    {
     "name": "stdout",
     "output_type": "stream",
     "text": [
      " 0.4926382809391166 dengan event CartScreenAppear di grup 247\n",
      " 0.48482459597950334 dengan event CartScreenAppear di grup 248\n",
      "pvalue:  0.5786197879539783\n",
      "Gagal Menolak Hipotesis 0, tidak terdapat perbedaan yang signifikan antara proporsi\n",
      "\n",
      " 0.9852765618782332 dengan event MainScreenAppear di grup 247\n",
      " 0.9826566811194324 dengan event MainScreenAppear di grup 248\n",
      "pvalue:  0.4587053616621515\n",
      "Gagal Menolak Hipotesis 0, tidak terdapat perbedaan yang signifikan antara proporsi\n",
      "\n",
      " 0.6048547552725826 dengan event OffersScreenAppear di grup 247\n",
      " 0.6034686637761135 dengan event OffersScreenAppear di grup 248\n",
      "pvalue:  0.9197817830592261\n",
      "Gagal Menolak Hipotesis 0, tidak terdapat perbedaan yang signifikan antara proporsi\n",
      "\n",
      " 0.46080382013529647 dengan event PaymentScreenSuccessful di grup 247\n",
      " 0.46551044540796216 dengan event PaymentScreenSuccessful di grup 248\n",
      "pvalue:  0.7373415053803964\n",
      "Gagal Menolak Hipotesis 0, tidak terdapat perbedaan yang signifikan antara proporsi\n",
      "\n",
      " 0.11261440509351373 dengan event Tutorial di grup 247\n",
      " 0.10997240835632636 dengan event Tutorial di grup 248\n",
      "pvalue:  0.765323922474501\n",
      "Gagal Menolak Hipotesis 0, tidak terdapat perbedaan yang signifikan antara proporsi\n",
      "\n"
     ]
    }
   ],
   "source": [
    "# menguji hipotesis seluruh event pada kelompok 247 dengan 248\n",
    "for event in users_event_per_group.index:\n",
    "        check_event_hypothesis(users_event_per_group, users_per_group, event, 247,248)\n",
    "        print()"
   ]
  },
  {
   "cell_type": "markdown",
   "metadata": {},
   "source": [
    "#### Bandingkan hasilnya dengan hasil gabungan untuk kelompok kontrol <a id='631'></a>"
   ]
  },
  {
   "cell_type": "code",
   "execution_count": 39,
   "metadata": {},
   "outputs": [
    {
     "data": {
      "text/html": [
       "<div>\n",
       "<style scoped>\n",
       "    .dataframe tbody tr th:only-of-type {\n",
       "        vertical-align: middle;\n",
       "    }\n",
       "\n",
       "    .dataframe tbody tr th {\n",
       "        vertical-align: top;\n",
       "    }\n",
       "\n",
       "    .dataframe thead th {\n",
       "        text-align: right;\n",
       "    }\n",
       "</style>\n",
       "<table border=\"1\" class=\"dataframe\">\n",
       "  <thead>\n",
       "    <tr style=\"text-align: right;\">\n",
       "      <th>exp_id</th>\n",
       "      <th>247</th>\n",
       "      <th>248</th>\n",
       "    </tr>\n",
       "    <tr>\n",
       "      <th>event</th>\n",
       "      <th></th>\n",
       "      <th></th>\n",
       "    </tr>\n",
       "  </thead>\n",
       "  <tbody>\n",
       "    <tr>\n",
       "      <th>CartScreenAppear</th>\n",
       "      <td>2504</td>\n",
       "      <td>1230</td>\n",
       "    </tr>\n",
       "    <tr>\n",
       "      <th>MainScreenAppear</th>\n",
       "      <td>4926</td>\n",
       "      <td>2493</td>\n",
       "    </tr>\n",
       "    <tr>\n",
       "      <th>OffersScreenAppear</th>\n",
       "      <td>3062</td>\n",
       "      <td>1531</td>\n",
       "    </tr>\n",
       "    <tr>\n",
       "      <th>PaymentScreenSuccessful</th>\n",
       "      <td>2358</td>\n",
       "      <td>1181</td>\n",
       "    </tr>\n",
       "    <tr>\n",
       "      <th>Tutorial</th>\n",
       "      <td>561</td>\n",
       "      <td>279</td>\n",
       "    </tr>\n",
       "  </tbody>\n",
       "</table>\n",
       "</div>"
      ],
      "text/plain": [
       "exp_id                    247   248\n",
       "event                              \n",
       "CartScreenAppear         2504  1230\n",
       "MainScreenAppear         4926  2493\n",
       "OffersScreenAppear       3062  1531\n",
       "PaymentScreenSuccessful  2358  1181\n",
       "Tutorial                  561   279"
      ]
     },
     "execution_count": 39,
     "metadata": {},
     "output_type": "execute_result"
    }
   ],
   "source": [
    "#menggabungkan jumlah orang yang melakukan setiap event pada kelompok 246 dan 247\n",
    "users_event_per_group_control = users_event_per_group.copy()\n",
    "users_event_per_group_control.loc[:, 247] += users_event_per_group_control.loc[:, 246]\n",
    "users_event_per_group_control.drop(columns=246, inplace= True)\n",
    "users_event_per_group_control"
   ]
  },
  {
   "cell_type": "code",
   "execution_count": 40,
   "metadata": {},
   "outputs": [
    {
     "data": {
      "text/plain": [
       "exp_id\n",
       "247    4997\n",
       "248    2537\n",
       "Name: user, dtype: int64"
      ]
     },
     "execution_count": 40,
     "metadata": {},
     "output_type": "execute_result"
    }
   ],
   "source": [
    "#menggabungkan jumlah orang pada kleompok 246 dan 247\n",
    "users_per_group_control = users_per_group.copy()\n",
    "users_per_group_control.loc[247] += users_per_group_control.loc[246]\n",
    "users_per_group_control.drop(index=246, inplace= True)\n",
    "users_per_group_control"
   ]
  },
  {
   "cell_type": "code",
   "execution_count": 41,
   "metadata": {},
   "outputs": [
    {
     "name": "stdout",
     "output_type": "stream",
     "text": [
      " 0.5011006603962378 dengan event CartScreenAppear di grup 247\n",
      " 0.48482459597950334 dengan event CartScreenAppear di grup 248\n",
      "pvalue:  0.18175875284404386\n",
      "Gagal Menolak Hipotesis 0, tidak terdapat perbedaan yang signifikan antara proporsi\n",
      "\n",
      " 0.9857914748849309 dengan event MainScreenAppear di grup 247\n",
      " 0.9826566811194324 dengan event MainScreenAppear di grup 248\n",
      "pvalue:  0.29424526837179577\n",
      "Gagal Menolak Hipotesis 0, tidak terdapat perbedaan yang signifikan antara proporsi\n",
      "\n",
      " 0.6127676605963578 dengan event OffersScreenAppear di grup 247\n",
      " 0.6034686637761135 dengan event OffersScreenAppear di grup 248\n",
      "pvalue:  0.43425549655188256\n",
      "Gagal Menolak Hipotesis 0, tidak terdapat perbedaan yang signifikan antara proporsi\n",
      "\n",
      " 0.47188312987792674 dengan event PaymentScreenSuccessful di grup 247\n",
      " 0.46551044540796216 dengan event PaymentScreenSuccessful di grup 248\n",
      "pvalue:  0.6004294282308704\n",
      "Gagal Menolak Hipotesis 0, tidak terdapat perbedaan yang signifikan antara proporsi\n",
      "\n",
      " 0.11226736041624975 dengan event Tutorial di grup 247\n",
      " 0.10997240835632636 dengan event Tutorial di grup 248\n",
      "pvalue:  0.764862472531507\n",
      "Gagal Menolak Hipotesis 0, tidak terdapat perbedaan yang signifikan antara proporsi\n",
      "\n"
     ]
    }
   ],
   "source": [
    "for event in users_event_per_group_control.index:\n",
    "        check_event_hypothesis(users_event_per_group_control, users_per_group_control, event, 247,248)\n",
    "        print()"
   ]
  },
  {
   "cell_type": "markdown",
   "metadata": {},
   "source": [
    "# Kesimpulan <a id='end'></a>"
   ]
  },
  {
   "cell_type": "markdown",
   "metadata": {},
   "source": [
    "Setelah dilakukan analisis terhadap data yang kita punya, kita bisa menyimpulkan bahwa aplikasi yang dimiliki memiliki funnel penjualan yaitu event MainScreenAppear, OffersScreenAppear, CartScreenAppear, PaymentScreenSuccessful. Sedangkan event Tutorial tidak masuk ke funnel penjualan, bahkan pengguna yang mengunjungi event ini sangat sedikit sekali, bisa diartikan bahwa aplikasi penjualan ini terbilang familiar dengan para pengguna.\n",
    "\n",
    "Tetapi pada aplikasi ini kita kehilangan banyak pengguna pada saat peralihan antara MainScreen dengan OffersScreen, hanya sekitar 61,9% pengguna yang melanjutkan ke OffersScreen, Tim web designer harus mencari tahu ada masalah apa di MainScreen aplikasi ini, apakah terdapat adanya bug atau tampilan dari MainScreen ini kurang menarik perhatian pengguna sehingga tidak melanjutkan ke tahapan selanjutnya. Alhasil kita hanya mendapatkan persentase sebesar 47.7% pelanggan yang sampai ke PaymentScreenSuccessful dari pelanggan yang ada di event pertama (MainScreen)\n",
    "\n",
    "Beralih ke hasil pengujian A/A/B Testing, didapat hasil bahwa merubah keseluruhan font pada aplikasi tidak begitu berpengaruh terhadap konversi dari pengujian antara kelompok uji dengan kelompok kontrol. Dengan adanya penemuan ini product manager seharusnya tidak perlu khawatir terhadap pelanggan yang justru merasa terganggu jikalau font dari aplikasi ini diubah."
   ]
  }
 ],
 "metadata": {
  "kernelspec": {
   "display_name": "Python 3 (ipykernel)",
   "language": "python",
   "name": "python3"
  },
  "language_info": {
   "codemirror_mode": {
    "name": "ipython",
    "version": 3
   },
   "file_extension": ".py",
   "mimetype": "text/x-python",
   "name": "python",
   "nbconvert_exporter": "python",
   "pygments_lexer": "ipython3",
   "version": "3.11.5"
  },
  "toc": {
   "base_numbering": 1,
   "nav_menu": {},
   "number_sections": true,
   "sideBar": true,
   "skip_h1_title": true,
   "title_cell": "Table of Contents",
   "title_sidebar": "Contents",
   "toc_cell": false,
   "toc_position": {
    "height": "calc(100% - 180px)",
    "left": "10px",
    "top": "150px",
    "width": "169px"
   },
   "toc_section_display": true,
   "toc_window_display": true
  }
 },
 "nbformat": 4,
 "nbformat_minor": 2
}
