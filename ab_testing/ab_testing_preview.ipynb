{
 "cells": [
  {
   "cell_type": "markdown",
   "id": "920370bb",
   "metadata": {},
   "source": [
    "Pada project ini saya sebagai junior data analyst akan melanjutkan A/B testing terhadap data yang didapat dari international online store, yang mana data analyst sebelumnya sudah resign dengan meninggalkan A/B testing yang belum diselesaikan.\n",
    "\n",
    "Tujuan dilakukan A/B test ini adalah untuk meningkatkan setidaknya ada peningkatan 10% dari masing-masing funnel dan setidaknya ada 6000 partisipan untuk A/B test ini. \n",
    "\n",
    "Pada tahapan awal saya akan mengimpor semua dataset yang ada, di project ini berjumlah 4 datasets yang disediakan, antara lain:\n",
    "1. ab_project_marketing_events_us.csv yang berisikan kalender marketing event untuk tahun 2020\n",
    "2. final_ab_events_upd_us.csv yang berisikan kegiatan pengguna baru dari December 7, 2020 sampai January 1, 2021\n",
    "3. final_ab_new_users_upd_us.csv yang berisikan pengguna baru dari December 7-21, 2020\n",
    "4. final_ab_participants_upd_us.csv yang berisikan partisipan dari test\n",
    "\n",
    "dataset diatas tidak terdapat informasi tentang kualitas datanya, maka dari itu tahapan selanjutnya adalah melakukan prapemrosesan data untuk melihat bagaimana kualitas data tersebut\n",
    "\n",
    "setelah dilakukan prapemrosesan data saya akan melakukan penggabungan dataset untuk mendapatkan dataset terkait partisipan tes ini, setelah mendapatkan dataset yang dibutuhkan saya akan mengecek apakah syarat yang dibutuhkan a/b testing sudah terpenuhi seperti ada perwakilan dari masing-masing kelompok, apakah ada partisipan yang berada di kedua grup dan sebaginya.\n",
    "setelah itu melihat bagaimana grafik partisipan tes antar grup dan melakukan A/B test menggunakan metode ztest"
   ]
  },
  {
   "cell_type": "code",
   "execution_count": 155,
   "id": "8c94b4d6-bd65-4794-b8a6-1b6dccb0ff21",
   "metadata": {},
   "outputs": [],
   "source": [
    "# Mengimport library\n",
    "import pandas as pd\n",
    "import numpy as np\n",
    "import seaborn as sns\n",
    "import matplotlib.pyplot as plt\n",
    "import math\n",
    "from scipy import stats"
   ]
  },
  {
   "cell_type": "markdown",
   "id": "f4e0b26d",
   "metadata": {},
   "source": [
    "## Pra Pemrosesan Data"
   ]
  },
  {
   "cell_type": "code",
   "execution_count": 156,
   "id": "385847c7",
   "metadata": {},
   "outputs": [],
   "source": [
    "try: \n",
    "    df_marketing = pd.read_csv('ab_project_marketing_events_us.csv')\n",
    "    df_event = pd.read_csv('final_ab_events_upd_us.csv')\n",
    "    df_users = pd.read_csv('final_ab_new_users_upd_us.csv')\n",
    "    df_group = pd.read_csv('final_ab_participants_upd_us.csv')\n",
    "    \n",
    "except:\n",
    "    df_marketing = pd.read_csv('/datasets/ab_project_marketing_events_us.csv')\n",
    "    df_event = pd.read_csv('/datasets/final_ab_events_upd_us.csv')\n",
    "    df_users = pd.read_csv('/datasets/final_ab_new_users_upd_us.csv')\n",
    "    df_group = pd.read_csv('/datasets/final_ab_participants_upd_us.csv')"
   ]
  },
  {
   "cell_type": "markdown",
   "id": "428d1321",
   "metadata": {},
   "source": [
    "### Dataframe Marketing"
   ]
  },
  {
   "cell_type": "code",
   "execution_count": 157,
   "id": "834971f0-9c86-46b6-9b9f-e66196480f9f",
   "metadata": {},
   "outputs": [
    {
     "data": {
      "text/html": [
       "<div>\n",
       "<style scoped>\n",
       "    .dataframe tbody tr th:only-of-type {\n",
       "        vertical-align: middle;\n",
       "    }\n",
       "\n",
       "    .dataframe tbody tr th {\n",
       "        vertical-align: top;\n",
       "    }\n",
       "\n",
       "    .dataframe thead th {\n",
       "        text-align: right;\n",
       "    }\n",
       "</style>\n",
       "<table border=\"1\" class=\"dataframe\">\n",
       "  <thead>\n",
       "    <tr style=\"text-align: right;\">\n",
       "      <th></th>\n",
       "      <th>name</th>\n",
       "      <th>regions</th>\n",
       "      <th>start_dt</th>\n",
       "      <th>finish_dt</th>\n",
       "    </tr>\n",
       "  </thead>\n",
       "  <tbody>\n",
       "    <tr>\n",
       "      <th>0</th>\n",
       "      <td>Christmas&amp;New Year Promo</td>\n",
       "      <td>EU, N.America</td>\n",
       "      <td>2020-12-25</td>\n",
       "      <td>2021-01-03</td>\n",
       "    </tr>\n",
       "    <tr>\n",
       "      <th>1</th>\n",
       "      <td>St. Valentine's Day Giveaway</td>\n",
       "      <td>EU, CIS, APAC, N.America</td>\n",
       "      <td>2020-02-14</td>\n",
       "      <td>2020-02-16</td>\n",
       "    </tr>\n",
       "    <tr>\n",
       "      <th>2</th>\n",
       "      <td>St. Patric's Day Promo</td>\n",
       "      <td>EU, N.America</td>\n",
       "      <td>2020-03-17</td>\n",
       "      <td>2020-03-19</td>\n",
       "    </tr>\n",
       "    <tr>\n",
       "      <th>3</th>\n",
       "      <td>Easter Promo</td>\n",
       "      <td>EU, CIS, APAC, N.America</td>\n",
       "      <td>2020-04-12</td>\n",
       "      <td>2020-04-19</td>\n",
       "    </tr>\n",
       "    <tr>\n",
       "      <th>4</th>\n",
       "      <td>4th of July Promo</td>\n",
       "      <td>N.America</td>\n",
       "      <td>2020-07-04</td>\n",
       "      <td>2020-07-11</td>\n",
       "    </tr>\n",
       "    <tr>\n",
       "      <th>5</th>\n",
       "      <td>Black Friday Ads Campaign</td>\n",
       "      <td>EU, CIS, APAC, N.America</td>\n",
       "      <td>2020-11-26</td>\n",
       "      <td>2020-12-01</td>\n",
       "    </tr>\n",
       "    <tr>\n",
       "      <th>6</th>\n",
       "      <td>Chinese New Year Promo</td>\n",
       "      <td>APAC</td>\n",
       "      <td>2020-01-25</td>\n",
       "      <td>2020-02-07</td>\n",
       "    </tr>\n",
       "    <tr>\n",
       "      <th>7</th>\n",
       "      <td>Labor day (May 1st) Ads Campaign</td>\n",
       "      <td>EU, CIS, APAC</td>\n",
       "      <td>2020-05-01</td>\n",
       "      <td>2020-05-03</td>\n",
       "    </tr>\n",
       "    <tr>\n",
       "      <th>8</th>\n",
       "      <td>International Women's Day Promo</td>\n",
       "      <td>EU, CIS, APAC</td>\n",
       "      <td>2020-03-08</td>\n",
       "      <td>2020-03-10</td>\n",
       "    </tr>\n",
       "    <tr>\n",
       "      <th>9</th>\n",
       "      <td>Victory Day CIS (May 9th) Event</td>\n",
       "      <td>CIS</td>\n",
       "      <td>2020-05-09</td>\n",
       "      <td>2020-05-11</td>\n",
       "    </tr>\n",
       "    <tr>\n",
       "      <th>10</th>\n",
       "      <td>CIS New Year Gift Lottery</td>\n",
       "      <td>CIS</td>\n",
       "      <td>2020-12-30</td>\n",
       "      <td>2021-01-07</td>\n",
       "    </tr>\n",
       "    <tr>\n",
       "      <th>11</th>\n",
       "      <td>Dragon Boat Festival Giveaway</td>\n",
       "      <td>APAC</td>\n",
       "      <td>2020-06-25</td>\n",
       "      <td>2020-07-01</td>\n",
       "    </tr>\n",
       "    <tr>\n",
       "      <th>12</th>\n",
       "      <td>Single's Day Gift Promo</td>\n",
       "      <td>APAC</td>\n",
       "      <td>2020-11-11</td>\n",
       "      <td>2020-11-12</td>\n",
       "    </tr>\n",
       "    <tr>\n",
       "      <th>13</th>\n",
       "      <td>Chinese Moon Festival</td>\n",
       "      <td>APAC</td>\n",
       "      <td>2020-10-01</td>\n",
       "      <td>2020-10-07</td>\n",
       "    </tr>\n",
       "  </tbody>\n",
       "</table>\n",
       "</div>"
      ],
      "text/plain": [
       "                                name                   regions    start_dt  \\\n",
       "0           Christmas&New Year Promo             EU, N.America  2020-12-25   \n",
       "1       St. Valentine's Day Giveaway  EU, CIS, APAC, N.America  2020-02-14   \n",
       "2             St. Patric's Day Promo             EU, N.America  2020-03-17   \n",
       "3                       Easter Promo  EU, CIS, APAC, N.America  2020-04-12   \n",
       "4                  4th of July Promo                 N.America  2020-07-04   \n",
       "5          Black Friday Ads Campaign  EU, CIS, APAC, N.America  2020-11-26   \n",
       "6             Chinese New Year Promo                      APAC  2020-01-25   \n",
       "7   Labor day (May 1st) Ads Campaign             EU, CIS, APAC  2020-05-01   \n",
       "8    International Women's Day Promo             EU, CIS, APAC  2020-03-08   \n",
       "9    Victory Day CIS (May 9th) Event                       CIS  2020-05-09   \n",
       "10         CIS New Year Gift Lottery                       CIS  2020-12-30   \n",
       "11     Dragon Boat Festival Giveaway                      APAC  2020-06-25   \n",
       "12           Single's Day Gift Promo                      APAC  2020-11-11   \n",
       "13             Chinese Moon Festival                      APAC  2020-10-01   \n",
       "\n",
       "     finish_dt  \n",
       "0   2021-01-03  \n",
       "1   2020-02-16  \n",
       "2   2020-03-19  \n",
       "3   2020-04-19  \n",
       "4   2020-07-11  \n",
       "5   2020-12-01  \n",
       "6   2020-02-07  \n",
       "7   2020-05-03  \n",
       "8   2020-03-10  \n",
       "9   2020-05-11  \n",
       "10  2021-01-07  \n",
       "11  2020-07-01  \n",
       "12  2020-11-12  \n",
       "13  2020-10-07  "
      ]
     },
     "execution_count": 157,
     "metadata": {},
     "output_type": "execute_result"
    }
   ],
   "source": [
    "df_marketing"
   ]
  },
  {
   "cell_type": "code",
   "execution_count": 158,
   "id": "e0a3f5a5",
   "metadata": {},
   "outputs": [
    {
     "name": "stdout",
     "output_type": "stream",
     "text": [
      "<class 'pandas.core.frame.DataFrame'>\n",
      "RangeIndex: 14 entries, 0 to 13\n",
      "Data columns (total 4 columns):\n",
      " #   Column     Non-Null Count  Dtype \n",
      "---  ------     --------------  ----- \n",
      " 0   name       14 non-null     object\n",
      " 1   regions    14 non-null     object\n",
      " 2   start_dt   14 non-null     object\n",
      " 3   finish_dt  14 non-null     object\n",
      "dtypes: object(4)\n",
      "memory usage: 580.0+ bytes\n"
     ]
    }
   ],
   "source": [
    "df_marketing.info()"
   ]
  },
  {
   "cell_type": "markdown",
   "id": "af7d3253",
   "metadata": {},
   "source": [
    "terdapat kesalah tipe data pada objek datetime"
   ]
  },
  {
   "cell_type": "code",
   "execution_count": 159,
   "id": "d4ecab8a",
   "metadata": {
    "scrolled": true
   },
   "outputs": [
    {
     "name": "stdout",
     "output_type": "stream",
     "text": [
      "<class 'pandas.core.frame.DataFrame'>\n",
      "RangeIndex: 14 entries, 0 to 13\n",
      "Data columns (total 4 columns):\n",
      " #   Column     Non-Null Count  Dtype         \n",
      "---  ------     --------------  -----         \n",
      " 0   name       14 non-null     object        \n",
      " 1   regions    14 non-null     object        \n",
      " 2   start_dt   14 non-null     datetime64[ns]\n",
      " 3   finish_dt  14 non-null     datetime64[ns]\n",
      "dtypes: datetime64[ns](2), object(2)\n",
      "memory usage: 580.0+ bytes\n"
     ]
    }
   ],
   "source": [
    "# Membenarkan tipe data\n",
    "df_marketing['start_dt'] = pd.to_datetime(df_marketing['start_dt'])\n",
    "df_marketing['finish_dt'] = pd.to_datetime(df_marketing['finish_dt'])\n",
    "df_marketing.info()"
   ]
  },
  {
   "cell_type": "markdown",
   "id": "432b3982",
   "metadata": {},
   "source": [
    "### Dataframe event"
   ]
  },
  {
   "cell_type": "code",
   "execution_count": 160,
   "id": "710a405e-6e8d-4cef-bc62-e05f482fe8ea",
   "metadata": {},
   "outputs": [
    {
     "data": {
      "text/html": [
       "<div>\n",
       "<style scoped>\n",
       "    .dataframe tbody tr th:only-of-type {\n",
       "        vertical-align: middle;\n",
       "    }\n",
       "\n",
       "    .dataframe tbody tr th {\n",
       "        vertical-align: top;\n",
       "    }\n",
       "\n",
       "    .dataframe thead th {\n",
       "        text-align: right;\n",
       "    }\n",
       "</style>\n",
       "<table border=\"1\" class=\"dataframe\">\n",
       "  <thead>\n",
       "    <tr style=\"text-align: right;\">\n",
       "      <th></th>\n",
       "      <th>user_id</th>\n",
       "      <th>event_dt</th>\n",
       "      <th>event_name</th>\n",
       "      <th>details</th>\n",
       "    </tr>\n",
       "  </thead>\n",
       "  <tbody>\n",
       "    <tr>\n",
       "      <th>0</th>\n",
       "      <td>E1BDDCE0DAFA2679</td>\n",
       "      <td>2020-12-07 20:22:03</td>\n",
       "      <td>purchase</td>\n",
       "      <td>99.99</td>\n",
       "    </tr>\n",
       "    <tr>\n",
       "      <th>1</th>\n",
       "      <td>7B6452F081F49504</td>\n",
       "      <td>2020-12-07 09:22:53</td>\n",
       "      <td>purchase</td>\n",
       "      <td>9.99</td>\n",
       "    </tr>\n",
       "    <tr>\n",
       "      <th>2</th>\n",
       "      <td>9CD9F34546DF254C</td>\n",
       "      <td>2020-12-07 12:59:29</td>\n",
       "      <td>purchase</td>\n",
       "      <td>4.99</td>\n",
       "    </tr>\n",
       "    <tr>\n",
       "      <th>3</th>\n",
       "      <td>96F27A054B191457</td>\n",
       "      <td>2020-12-07 04:02:40</td>\n",
       "      <td>purchase</td>\n",
       "      <td>4.99</td>\n",
       "    </tr>\n",
       "    <tr>\n",
       "      <th>4</th>\n",
       "      <td>1FD7660FDF94CA1F</td>\n",
       "      <td>2020-12-07 10:15:09</td>\n",
       "      <td>purchase</td>\n",
       "      <td>4.99</td>\n",
       "    </tr>\n",
       "    <tr>\n",
       "      <th>...</th>\n",
       "      <td>...</td>\n",
       "      <td>...</td>\n",
       "      <td>...</td>\n",
       "      <td>...</td>\n",
       "    </tr>\n",
       "    <tr>\n",
       "      <th>423756</th>\n",
       "      <td>245E85F65C358E08</td>\n",
       "      <td>2020-12-30 19:35:55</td>\n",
       "      <td>login</td>\n",
       "      <td>NaN</td>\n",
       "    </tr>\n",
       "    <tr>\n",
       "      <th>423757</th>\n",
       "      <td>9385A108F5A0A7A7</td>\n",
       "      <td>2020-12-30 10:54:15</td>\n",
       "      <td>login</td>\n",
       "      <td>NaN</td>\n",
       "    </tr>\n",
       "    <tr>\n",
       "      <th>423758</th>\n",
       "      <td>DB650B7559AC6EAC</td>\n",
       "      <td>2020-12-30 10:59:09</td>\n",
       "      <td>login</td>\n",
       "      <td>NaN</td>\n",
       "    </tr>\n",
       "    <tr>\n",
       "      <th>423759</th>\n",
       "      <td>F80C9BDDEA02E53C</td>\n",
       "      <td>2020-12-30 09:53:39</td>\n",
       "      <td>login</td>\n",
       "      <td>NaN</td>\n",
       "    </tr>\n",
       "    <tr>\n",
       "      <th>423760</th>\n",
       "      <td>7AEC61159B672CC5</td>\n",
       "      <td>2020-12-30 11:36:13</td>\n",
       "      <td>login</td>\n",
       "      <td>NaN</td>\n",
       "    </tr>\n",
       "  </tbody>\n",
       "</table>\n",
       "<p>423761 rows × 4 columns</p>\n",
       "</div>"
      ],
      "text/plain": [
       "                 user_id             event_dt event_name  details\n",
       "0       E1BDDCE0DAFA2679  2020-12-07 20:22:03   purchase    99.99\n",
       "1       7B6452F081F49504  2020-12-07 09:22:53   purchase     9.99\n",
       "2       9CD9F34546DF254C  2020-12-07 12:59:29   purchase     4.99\n",
       "3       96F27A054B191457  2020-12-07 04:02:40   purchase     4.99\n",
       "4       1FD7660FDF94CA1F  2020-12-07 10:15:09   purchase     4.99\n",
       "...                  ...                  ...        ...      ...\n",
       "423756  245E85F65C358E08  2020-12-30 19:35:55      login      NaN\n",
       "423757  9385A108F5A0A7A7  2020-12-30 10:54:15      login      NaN\n",
       "423758  DB650B7559AC6EAC  2020-12-30 10:59:09      login      NaN\n",
       "423759  F80C9BDDEA02E53C  2020-12-30 09:53:39      login      NaN\n",
       "423760  7AEC61159B672CC5  2020-12-30 11:36:13      login      NaN\n",
       "\n",
       "[423761 rows x 4 columns]"
      ]
     },
     "execution_count": 160,
     "metadata": {},
     "output_type": "execute_result"
    }
   ],
   "source": [
    "df_event"
   ]
  },
  {
   "cell_type": "code",
   "execution_count": 161,
   "id": "18a1de18",
   "metadata": {},
   "outputs": [
    {
     "data": {
      "text/html": [
       "<div>\n",
       "<style scoped>\n",
       "    .dataframe tbody tr th:only-of-type {\n",
       "        vertical-align: middle;\n",
       "    }\n",
       "\n",
       "    .dataframe tbody tr th {\n",
       "        vertical-align: top;\n",
       "    }\n",
       "\n",
       "    .dataframe thead th {\n",
       "        text-align: right;\n",
       "    }\n",
       "</style>\n",
       "<table border=\"1\" class=\"dataframe\">\n",
       "  <thead>\n",
       "    <tr style=\"text-align: right;\">\n",
       "      <th></th>\n",
       "      <th>details</th>\n",
       "    </tr>\n",
       "  </thead>\n",
       "  <tbody>\n",
       "    <tr>\n",
       "      <th>count</th>\n",
       "      <td>60314.000000</td>\n",
       "    </tr>\n",
       "    <tr>\n",
       "      <th>mean</th>\n",
       "      <td>23.881219</td>\n",
       "    </tr>\n",
       "    <tr>\n",
       "      <th>std</th>\n",
       "      <td>72.228884</td>\n",
       "    </tr>\n",
       "    <tr>\n",
       "      <th>min</th>\n",
       "      <td>4.990000</td>\n",
       "    </tr>\n",
       "    <tr>\n",
       "      <th>25%</th>\n",
       "      <td>4.990000</td>\n",
       "    </tr>\n",
       "    <tr>\n",
       "      <th>50%</th>\n",
       "      <td>4.990000</td>\n",
       "    </tr>\n",
       "    <tr>\n",
       "      <th>75%</th>\n",
       "      <td>9.990000</td>\n",
       "    </tr>\n",
       "    <tr>\n",
       "      <th>max</th>\n",
       "      <td>499.990000</td>\n",
       "    </tr>\n",
       "  </tbody>\n",
       "</table>\n",
       "</div>"
      ],
      "text/plain": [
       "            details\n",
       "count  60314.000000\n",
       "mean      23.881219\n",
       "std       72.228884\n",
       "min        4.990000\n",
       "25%        4.990000\n",
       "50%        4.990000\n",
       "75%        9.990000\n",
       "max      499.990000"
      ]
     },
     "execution_count": 161,
     "metadata": {},
     "output_type": "execute_result"
    }
   ],
   "source": [
    "df_event.describe()"
   ]
  },
  {
   "cell_type": "code",
   "execution_count": 162,
   "id": "58e5b5ca",
   "metadata": {},
   "outputs": [
    {
     "name": "stdout",
     "output_type": "stream",
     "text": [
      "<class 'pandas.core.frame.DataFrame'>\n",
      "RangeIndex: 423761 entries, 0 to 423760\n",
      "Data columns (total 4 columns):\n",
      " #   Column      Non-Null Count   Dtype  \n",
      "---  ------      --------------   -----  \n",
      " 0   user_id     423761 non-null  object \n",
      " 1   event_dt    423761 non-null  object \n",
      " 2   event_name  423761 non-null  object \n",
      " 3   details     60314 non-null   float64\n",
      "dtypes: float64(1), object(3)\n",
      "memory usage: 12.9+ MB\n"
     ]
    }
   ],
   "source": [
    "df_event.info()"
   ]
  },
  {
   "cell_type": "markdown",
   "id": "f146ae27",
   "metadata": {},
   "source": [
    "sekilas yang terlihat, terdapat kesalahan pada datetime"
   ]
  },
  {
   "cell_type": "code",
   "execution_count": 163,
   "id": "337797f3",
   "metadata": {},
   "outputs": [],
   "source": [
    "# Membenarkan datetime\n",
    "df_event['event_dt'] = pd.to_datetime(df_event['event_dt'])\n",
    "df_event['datetime'] = df_event['event_dt'].dt.date\n",
    "df_event['datetime'] = pd.to_datetime(df_event['datetime'])"
   ]
  },
  {
   "cell_type": "code",
   "execution_count": 164,
   "id": "a7d433b0",
   "metadata": {},
   "outputs": [
    {
     "data": {
      "text/plain": [
       "event_name\n",
       "login           182465\n",
       "product_page    120862\n",
       "purchase         60314\n",
       "product_cart     60120\n",
       "Name: count, dtype: int64"
      ]
     },
     "execution_count": 164,
     "metadata": {},
     "output_type": "execute_result"
    }
   ],
   "source": [
    "## Mendalami nilai null\n",
    "df_event['event_name'].value_counts()"
   ]
  },
  {
   "cell_type": "code",
   "execution_count": 165,
   "id": "4c35c6fc",
   "metadata": {},
   "outputs": [
    {
     "data": {
      "text/plain": [
       "user_id            0\n",
       "event_dt           0\n",
       "event_name         0\n",
       "details       363447\n",
       "datetime           0\n",
       "dtype: int64"
      ]
     },
     "execution_count": 165,
     "metadata": {},
     "output_type": "execute_result"
    }
   ],
   "source": [
    "df_event.isna().sum()"
   ]
  },
  {
   "cell_type": "code",
   "execution_count": 166,
   "id": "96942db6",
   "metadata": {},
   "outputs": [
    {
     "data": {
      "text/plain": [
       "event_name\n",
       "login           182465\n",
       "product_page    120862\n",
       "product_cart     60120\n",
       "Name: count, dtype: int64"
      ]
     },
     "execution_count": 166,
     "metadata": {},
     "output_type": "execute_result"
    }
   ],
   "source": [
    "#melihat distribusi nilai kosong pada kolom details\n",
    "df_event[df_event['details'].isna()]['event_name'].value_counts()"
   ]
  },
  {
   "cell_type": "markdown",
   "id": "c6f1d188",
   "metadata": {},
   "source": [
    "jika dilihat dari persebaran nilai null nya, memang benar jika kolom tersebut bernilai null. maka dengan penemuan tersebut nilai null yang ada akan dibiarkan"
   ]
  },
  {
   "cell_type": "code",
   "execution_count": 167,
   "id": "ab64bfda",
   "metadata": {},
   "outputs": [
    {
     "data": {
      "text/plain": [
       "0"
      ]
     },
     "execution_count": 167,
     "metadata": {},
     "output_type": "execute_result"
    }
   ],
   "source": [
    "# Pemeriksaan nilai duplikat\n",
    "df_event.duplicated().sum()"
   ]
  },
  {
   "cell_type": "markdown",
   "id": "5ce17f35",
   "metadata": {},
   "source": [
    "tidak terdapat nilai duplikat data dataframe event"
   ]
  },
  {
   "cell_type": "markdown",
   "id": "d1a5aee4",
   "metadata": {},
   "source": [
    "### Dataframe users"
   ]
  },
  {
   "cell_type": "code",
   "execution_count": 168,
   "id": "d3a433e9-8f78-47f0-ba02-02cf2de06a19",
   "metadata": {},
   "outputs": [
    {
     "data": {
      "text/html": [
       "<div>\n",
       "<style scoped>\n",
       "    .dataframe tbody tr th:only-of-type {\n",
       "        vertical-align: middle;\n",
       "    }\n",
       "\n",
       "    .dataframe tbody tr th {\n",
       "        vertical-align: top;\n",
       "    }\n",
       "\n",
       "    .dataframe thead th {\n",
       "        text-align: right;\n",
       "    }\n",
       "</style>\n",
       "<table border=\"1\" class=\"dataframe\">\n",
       "  <thead>\n",
       "    <tr style=\"text-align: right;\">\n",
       "      <th></th>\n",
       "      <th>user_id</th>\n",
       "      <th>first_date</th>\n",
       "      <th>region</th>\n",
       "      <th>device</th>\n",
       "    </tr>\n",
       "  </thead>\n",
       "  <tbody>\n",
       "    <tr>\n",
       "      <th>0</th>\n",
       "      <td>D72A72121175D8BE</td>\n",
       "      <td>2020-12-07</td>\n",
       "      <td>EU</td>\n",
       "      <td>PC</td>\n",
       "    </tr>\n",
       "    <tr>\n",
       "      <th>1</th>\n",
       "      <td>F1C668619DFE6E65</td>\n",
       "      <td>2020-12-07</td>\n",
       "      <td>N.America</td>\n",
       "      <td>Android</td>\n",
       "    </tr>\n",
       "    <tr>\n",
       "      <th>2</th>\n",
       "      <td>2E1BF1D4C37EA01F</td>\n",
       "      <td>2020-12-07</td>\n",
       "      <td>EU</td>\n",
       "      <td>PC</td>\n",
       "    </tr>\n",
       "    <tr>\n",
       "      <th>3</th>\n",
       "      <td>50734A22C0C63768</td>\n",
       "      <td>2020-12-07</td>\n",
       "      <td>EU</td>\n",
       "      <td>iPhone</td>\n",
       "    </tr>\n",
       "    <tr>\n",
       "      <th>4</th>\n",
       "      <td>E1BDDCE0DAFA2679</td>\n",
       "      <td>2020-12-07</td>\n",
       "      <td>N.America</td>\n",
       "      <td>iPhone</td>\n",
       "    </tr>\n",
       "    <tr>\n",
       "      <th>...</th>\n",
       "      <td>...</td>\n",
       "      <td>...</td>\n",
       "      <td>...</td>\n",
       "      <td>...</td>\n",
       "    </tr>\n",
       "    <tr>\n",
       "      <th>58698</th>\n",
       "      <td>1DB53B933257165D</td>\n",
       "      <td>2020-12-20</td>\n",
       "      <td>EU</td>\n",
       "      <td>Android</td>\n",
       "    </tr>\n",
       "    <tr>\n",
       "      <th>58699</th>\n",
       "      <td>538643EB4527ED03</td>\n",
       "      <td>2020-12-20</td>\n",
       "      <td>EU</td>\n",
       "      <td>Mac</td>\n",
       "    </tr>\n",
       "    <tr>\n",
       "      <th>58700</th>\n",
       "      <td>7ADEE837D5D8CBBD</td>\n",
       "      <td>2020-12-20</td>\n",
       "      <td>EU</td>\n",
       "      <td>PC</td>\n",
       "    </tr>\n",
       "    <tr>\n",
       "      <th>58701</th>\n",
       "      <td>1C7D23927835213F</td>\n",
       "      <td>2020-12-20</td>\n",
       "      <td>EU</td>\n",
       "      <td>iPhone</td>\n",
       "    </tr>\n",
       "    <tr>\n",
       "      <th>58702</th>\n",
       "      <td>8F04273BB2860229</td>\n",
       "      <td>2020-12-20</td>\n",
       "      <td>EU</td>\n",
       "      <td>Android</td>\n",
       "    </tr>\n",
       "  </tbody>\n",
       "</table>\n",
       "<p>58703 rows × 4 columns</p>\n",
       "</div>"
      ],
      "text/plain": [
       "                user_id  first_date     region   device\n",
       "0      D72A72121175D8BE  2020-12-07         EU       PC\n",
       "1      F1C668619DFE6E65  2020-12-07  N.America  Android\n",
       "2      2E1BF1D4C37EA01F  2020-12-07         EU       PC\n",
       "3      50734A22C0C63768  2020-12-07         EU   iPhone\n",
       "4      E1BDDCE0DAFA2679  2020-12-07  N.America   iPhone\n",
       "...                 ...         ...        ...      ...\n",
       "58698  1DB53B933257165D  2020-12-20         EU  Android\n",
       "58699  538643EB4527ED03  2020-12-20         EU      Mac\n",
       "58700  7ADEE837D5D8CBBD  2020-12-20         EU       PC\n",
       "58701  1C7D23927835213F  2020-12-20         EU   iPhone\n",
       "58702  8F04273BB2860229  2020-12-20         EU  Android\n",
       "\n",
       "[58703 rows x 4 columns]"
      ]
     },
     "execution_count": 168,
     "metadata": {},
     "output_type": "execute_result"
    }
   ],
   "source": [
    "df_users"
   ]
  },
  {
   "cell_type": "code",
   "execution_count": 169,
   "id": "fddad0d8",
   "metadata": {},
   "outputs": [
    {
     "name": "stdout",
     "output_type": "stream",
     "text": [
      "<class 'pandas.core.frame.DataFrame'>\n",
      "RangeIndex: 58703 entries, 0 to 58702\n",
      "Data columns (total 4 columns):\n",
      " #   Column      Non-Null Count  Dtype \n",
      "---  ------      --------------  ----- \n",
      " 0   user_id     58703 non-null  object\n",
      " 1   first_date  58703 non-null  object\n",
      " 2   region      58703 non-null  object\n",
      " 3   device      58703 non-null  object\n",
      "dtypes: object(4)\n",
      "memory usage: 1.8+ MB\n"
     ]
    }
   ],
   "source": [
    "df_users.info()"
   ]
  },
  {
   "cell_type": "markdown",
   "id": "26ee0566",
   "metadata": {},
   "source": [
    "terdapat kesalahan tipe data pada kolom first_date"
   ]
  },
  {
   "cell_type": "code",
   "execution_count": 170,
   "id": "1b3ed36d",
   "metadata": {},
   "outputs": [],
   "source": [
    "# Membenarkan kolom fristdate\n",
    "df_users['first_date'] = pd.to_datetime(df_users['first_date'])"
   ]
  },
  {
   "cell_type": "code",
   "execution_count": 171,
   "id": "43e91d70",
   "metadata": {},
   "outputs": [
    {
     "data": {
      "text/plain": [
       "region\n",
       "EU           43396\n",
       "N.America     9051\n",
       "CIS           3130\n",
       "APAC          3126\n",
       "Name: count, dtype: int64"
      ]
     },
     "execution_count": 171,
     "metadata": {},
     "output_type": "execute_result"
    }
   ],
   "source": [
    "df_users['region'].value_counts()"
   ]
  },
  {
   "cell_type": "code",
   "execution_count": 172,
   "id": "744d8ddc",
   "metadata": {},
   "outputs": [
    {
     "data": {
      "text/plain": [
       "device\n",
       "Android    26159\n",
       "PC         14845\n",
       "iPhone     11902\n",
       "Mac         5797\n",
       "Name: count, dtype: int64"
      ]
     },
     "execution_count": 172,
     "metadata": {},
     "output_type": "execute_result"
    }
   ],
   "source": [
    "df_users['device'].value_counts()"
   ]
  },
  {
   "cell_type": "code",
   "execution_count": 173,
   "id": "863afbb3",
   "metadata": {},
   "outputs": [
    {
     "data": {
      "text/plain": [
       "0"
      ]
     },
     "execution_count": 173,
     "metadata": {},
     "output_type": "execute_result"
    }
   ],
   "source": [
    "df_users.duplicated().sum()"
   ]
  },
  {
   "cell_type": "markdown",
   "id": "2447a2d1",
   "metadata": {},
   "source": [
    "### Dataframe Group"
   ]
  },
  {
   "cell_type": "code",
   "execution_count": 174,
   "id": "8e8ee294-c4c4-4a55-9d15-bce0785cb38b",
   "metadata": {},
   "outputs": [
    {
     "data": {
      "text/html": [
       "<div>\n",
       "<style scoped>\n",
       "    .dataframe tbody tr th:only-of-type {\n",
       "        vertical-align: middle;\n",
       "    }\n",
       "\n",
       "    .dataframe tbody tr th {\n",
       "        vertical-align: top;\n",
       "    }\n",
       "\n",
       "    .dataframe thead th {\n",
       "        text-align: right;\n",
       "    }\n",
       "</style>\n",
       "<table border=\"1\" class=\"dataframe\">\n",
       "  <thead>\n",
       "    <tr style=\"text-align: right;\">\n",
       "      <th></th>\n",
       "      <th>user_id</th>\n",
       "      <th>group</th>\n",
       "      <th>ab_test</th>\n",
       "    </tr>\n",
       "  </thead>\n",
       "  <tbody>\n",
       "    <tr>\n",
       "      <th>0</th>\n",
       "      <td>D1ABA3E2887B6A73</td>\n",
       "      <td>A</td>\n",
       "      <td>recommender_system_test</td>\n",
       "    </tr>\n",
       "    <tr>\n",
       "      <th>1</th>\n",
       "      <td>A7A3664BD6242119</td>\n",
       "      <td>A</td>\n",
       "      <td>recommender_system_test</td>\n",
       "    </tr>\n",
       "    <tr>\n",
       "      <th>2</th>\n",
       "      <td>DABC14FDDFADD29E</td>\n",
       "      <td>A</td>\n",
       "      <td>recommender_system_test</td>\n",
       "    </tr>\n",
       "    <tr>\n",
       "      <th>3</th>\n",
       "      <td>04988C5DF189632E</td>\n",
       "      <td>A</td>\n",
       "      <td>recommender_system_test</td>\n",
       "    </tr>\n",
       "    <tr>\n",
       "      <th>4</th>\n",
       "      <td>4FF2998A348C484F</td>\n",
       "      <td>A</td>\n",
       "      <td>recommender_system_test</td>\n",
       "    </tr>\n",
       "    <tr>\n",
       "      <th>...</th>\n",
       "      <td>...</td>\n",
       "      <td>...</td>\n",
       "      <td>...</td>\n",
       "    </tr>\n",
       "    <tr>\n",
       "      <th>14520</th>\n",
       "      <td>1D302F8688B91781</td>\n",
       "      <td>B</td>\n",
       "      <td>interface_eu_test</td>\n",
       "    </tr>\n",
       "    <tr>\n",
       "      <th>14521</th>\n",
       "      <td>3DE51B726983B657</td>\n",
       "      <td>A</td>\n",
       "      <td>interface_eu_test</td>\n",
       "    </tr>\n",
       "    <tr>\n",
       "      <th>14522</th>\n",
       "      <td>F501F79D332BE86C</td>\n",
       "      <td>A</td>\n",
       "      <td>interface_eu_test</td>\n",
       "    </tr>\n",
       "    <tr>\n",
       "      <th>14523</th>\n",
       "      <td>63FBE257B05F2245</td>\n",
       "      <td>A</td>\n",
       "      <td>interface_eu_test</td>\n",
       "    </tr>\n",
       "    <tr>\n",
       "      <th>14524</th>\n",
       "      <td>79F9ABFB029CF724</td>\n",
       "      <td>B</td>\n",
       "      <td>interface_eu_test</td>\n",
       "    </tr>\n",
       "  </tbody>\n",
       "</table>\n",
       "<p>14525 rows × 3 columns</p>\n",
       "</div>"
      ],
      "text/plain": [
       "                user_id group                  ab_test\n",
       "0      D1ABA3E2887B6A73     A  recommender_system_test\n",
       "1      A7A3664BD6242119     A  recommender_system_test\n",
       "2      DABC14FDDFADD29E     A  recommender_system_test\n",
       "3      04988C5DF189632E     A  recommender_system_test\n",
       "4      4FF2998A348C484F     A  recommender_system_test\n",
       "...                 ...   ...                      ...\n",
       "14520  1D302F8688B91781     B        interface_eu_test\n",
       "14521  3DE51B726983B657     A        interface_eu_test\n",
       "14522  F501F79D332BE86C     A        interface_eu_test\n",
       "14523  63FBE257B05F2245     A        interface_eu_test\n",
       "14524  79F9ABFB029CF724     B        interface_eu_test\n",
       "\n",
       "[14525 rows x 3 columns]"
      ]
     },
     "execution_count": 174,
     "metadata": {},
     "output_type": "execute_result"
    }
   ],
   "source": [
    "df_group"
   ]
  },
  {
   "cell_type": "code",
   "execution_count": 175,
   "id": "4fad6903",
   "metadata": {},
   "outputs": [
    {
     "name": "stdout",
     "output_type": "stream",
     "text": [
      "<class 'pandas.core.frame.DataFrame'>\n",
      "RangeIndex: 14525 entries, 0 to 14524\n",
      "Data columns (total 3 columns):\n",
      " #   Column   Non-Null Count  Dtype \n",
      "---  ------   --------------  ----- \n",
      " 0   user_id  14525 non-null  object\n",
      " 1   group    14525 non-null  object\n",
      " 2   ab_test  14525 non-null  object\n",
      "dtypes: object(3)\n",
      "memory usage: 340.6+ KB\n"
     ]
    }
   ],
   "source": [
    "df_group.info()"
   ]
  },
  {
   "cell_type": "code",
   "execution_count": 176,
   "id": "9103d5fe-557a-4b80-bb69-89678d7360b4",
   "metadata": {},
   "outputs": [
    {
     "data": {
      "text/plain": [
       "group\n",
       "A    8214\n",
       "B    6311\n",
       "Name: count, dtype: int64"
      ]
     },
     "execution_count": 176,
     "metadata": {},
     "output_type": "execute_result"
    }
   ],
   "source": [
    "df_group['group'].value_counts()"
   ]
  },
  {
   "cell_type": "code",
   "execution_count": 177,
   "id": "f510c680-3293-48a6-9d06-e81f89d4f2d4",
   "metadata": {},
   "outputs": [
    {
     "data": {
      "text/plain": [
       "ab_test\n",
       "interface_eu_test          10850\n",
       "recommender_system_test     3675\n",
       "Name: count, dtype: int64"
      ]
     },
     "execution_count": 177,
     "metadata": {},
     "output_type": "execute_result"
    }
   ],
   "source": [
    "df_group['ab_test'].value_counts()"
   ]
  },
  {
   "cell_type": "code",
   "execution_count": 178,
   "id": "a9e101df",
   "metadata": {},
   "outputs": [
    {
     "data": {
      "text/plain": [
       "13638"
      ]
     },
     "execution_count": 178,
     "metadata": {},
     "output_type": "execute_result"
    }
   ],
   "source": [
    "df_group['user_id'].nunique()"
   ]
  },
  {
   "cell_type": "markdown",
   "id": "f004bae8",
   "metadata": {},
   "source": [
    "jikalau melihat technical description, partisipan tes sebanyak 6000 terpenuhi. dikarenakan kita memiliki sekitar 13000 partisipan untuk tes"
   ]
  },
  {
   "cell_type": "code",
   "execution_count": 179,
   "id": "79365d6b",
   "metadata": {},
   "outputs": [
    {
     "data": {
      "text/plain": [
       "group  ab_test                \n",
       "A      interface_eu_test          5467\n",
       "       recommender_system_test    2747\n",
       "B      interface_eu_test          5383\n",
       "       recommender_system_test     928\n",
       "Name: user_id, dtype: int64"
      ]
     },
     "execution_count": 179,
     "metadata": {},
     "output_type": "execute_result"
    }
   ],
   "source": [
    "df_group.groupby(['group', 'ab_test'])['user_id'].nunique()"
   ]
  },
  {
   "cell_type": "markdown",
   "id": "d5b2836a",
   "metadata": {},
   "source": [
    "terdapat perbedaan jumlah data yang signifikan di bagian \"recommender_system_test\" dimana pada grup B perbedaannya sangat jauh sekali dengan group A"
   ]
  },
  {
   "cell_type": "code",
   "execution_count": 180,
   "id": "12f6f69a",
   "metadata": {},
   "outputs": [
    {
     "data": {
      "text/plain": [
       "0"
      ]
     },
     "execution_count": 180,
     "metadata": {},
     "output_type": "execute_result"
    }
   ],
   "source": [
    "df_group.duplicated().sum()"
   ]
  },
  {
   "cell_type": "markdown",
   "id": "305ea092",
   "metadata": {},
   "source": [
    "## Analisis Data"
   ]
  },
  {
   "cell_type": "code",
   "execution_count": 181,
   "id": "3eb6b414",
   "metadata": {
    "scrolled": false
   },
   "outputs": [
    {
     "data": {
      "text/html": [
       "<div>\n",
       "<style scoped>\n",
       "    .dataframe tbody tr th:only-of-type {\n",
       "        vertical-align: middle;\n",
       "    }\n",
       "\n",
       "    .dataframe tbody tr th {\n",
       "        vertical-align: top;\n",
       "    }\n",
       "\n",
       "    .dataframe thead th {\n",
       "        text-align: right;\n",
       "    }\n",
       "</style>\n",
       "<table border=\"1\" class=\"dataframe\">\n",
       "  <thead>\n",
       "    <tr style=\"text-align: right;\">\n",
       "      <th></th>\n",
       "      <th>user_id</th>\n",
       "      <th>event_dt</th>\n",
       "      <th>event_name</th>\n",
       "      <th>details</th>\n",
       "      <th>datetime</th>\n",
       "      <th>group</th>\n",
       "      <th>ab_test</th>\n",
       "      <th>first_date</th>\n",
       "      <th>region</th>\n",
       "      <th>device</th>\n",
       "      <th>day</th>\n",
       "    </tr>\n",
       "  </thead>\n",
       "  <tbody>\n",
       "    <tr>\n",
       "      <th>0</th>\n",
       "      <td>96F27A054B191457</td>\n",
       "      <td>2020-12-07 04:02:40</td>\n",
       "      <td>purchase</td>\n",
       "      <td>4.99</td>\n",
       "      <td>2020-12-07</td>\n",
       "      <td>B</td>\n",
       "      <td>interface_eu_test</td>\n",
       "      <td>2020-12-07</td>\n",
       "      <td>EU</td>\n",
       "      <td>iPhone</td>\n",
       "      <td>0</td>\n",
       "    </tr>\n",
       "    <tr>\n",
       "      <th>1</th>\n",
       "      <td>96F27A054B191457</td>\n",
       "      <td>2020-12-08 09:43:14</td>\n",
       "      <td>purchase</td>\n",
       "      <td>4.99</td>\n",
       "      <td>2020-12-08</td>\n",
       "      <td>B</td>\n",
       "      <td>interface_eu_test</td>\n",
       "      <td>2020-12-07</td>\n",
       "      <td>EU</td>\n",
       "      <td>iPhone</td>\n",
       "      <td>1</td>\n",
       "    </tr>\n",
       "    <tr>\n",
       "      <th>2</th>\n",
       "      <td>96F27A054B191457</td>\n",
       "      <td>2020-12-09 00:44:10</td>\n",
       "      <td>purchase</td>\n",
       "      <td>4.99</td>\n",
       "      <td>2020-12-09</td>\n",
       "      <td>B</td>\n",
       "      <td>interface_eu_test</td>\n",
       "      <td>2020-12-07</td>\n",
       "      <td>EU</td>\n",
       "      <td>iPhone</td>\n",
       "      <td>2</td>\n",
       "    </tr>\n",
       "    <tr>\n",
       "      <th>3</th>\n",
       "      <td>96F27A054B191457</td>\n",
       "      <td>2020-12-26 00:33:57</td>\n",
       "      <td>purchase</td>\n",
       "      <td>9.99</td>\n",
       "      <td>2020-12-26</td>\n",
       "      <td>B</td>\n",
       "      <td>interface_eu_test</td>\n",
       "      <td>2020-12-07</td>\n",
       "      <td>EU</td>\n",
       "      <td>iPhone</td>\n",
       "      <td>5</td>\n",
       "    </tr>\n",
       "    <tr>\n",
       "      <th>4</th>\n",
       "      <td>96F27A054B191457</td>\n",
       "      <td>2020-12-07 04:02:41</td>\n",
       "      <td>product_page</td>\n",
       "      <td>NaN</td>\n",
       "      <td>2020-12-07</td>\n",
       "      <td>B</td>\n",
       "      <td>interface_eu_test</td>\n",
       "      <td>2020-12-07</td>\n",
       "      <td>EU</td>\n",
       "      <td>iPhone</td>\n",
       "      <td>0</td>\n",
       "    </tr>\n",
       "    <tr>\n",
       "      <th>...</th>\n",
       "      <td>...</td>\n",
       "      <td>...</td>\n",
       "      <td>...</td>\n",
       "      <td>...</td>\n",
       "      <td>...</td>\n",
       "      <td>...</td>\n",
       "      <td>...</td>\n",
       "      <td>...</td>\n",
       "      <td>...</td>\n",
       "      <td>...</td>\n",
       "      <td>...</td>\n",
       "    </tr>\n",
       "    <tr>\n",
       "      <th>102833</th>\n",
       "      <td>40076B77CFC12421</td>\n",
       "      <td>2020-12-23 03:43:28</td>\n",
       "      <td>login</td>\n",
       "      <td>NaN</td>\n",
       "      <td>2020-12-23</td>\n",
       "      <td>B</td>\n",
       "      <td>interface_eu_test</td>\n",
       "      <td>2020-12-23</td>\n",
       "      <td>EU</td>\n",
       "      <td>iPhone</td>\n",
       "      <td>2</td>\n",
       "    </tr>\n",
       "    <tr>\n",
       "      <th>102834</th>\n",
       "      <td>40076B77CFC12421</td>\n",
       "      <td>2020-12-24 04:21:53</td>\n",
       "      <td>login</td>\n",
       "      <td>NaN</td>\n",
       "      <td>2020-12-24</td>\n",
       "      <td>B</td>\n",
       "      <td>interface_eu_test</td>\n",
       "      <td>2020-12-23</td>\n",
       "      <td>EU</td>\n",
       "      <td>iPhone</td>\n",
       "      <td>3</td>\n",
       "    </tr>\n",
       "    <tr>\n",
       "      <th>102835</th>\n",
       "      <td>40076B77CFC12421</td>\n",
       "      <td>2020-12-26 03:50:17</td>\n",
       "      <td>login</td>\n",
       "      <td>NaN</td>\n",
       "      <td>2020-12-26</td>\n",
       "      <td>B</td>\n",
       "      <td>interface_eu_test</td>\n",
       "      <td>2020-12-23</td>\n",
       "      <td>EU</td>\n",
       "      <td>iPhone</td>\n",
       "      <td>5</td>\n",
       "    </tr>\n",
       "    <tr>\n",
       "      <th>102836</th>\n",
       "      <td>301C602AF78BABAD</td>\n",
       "      <td>2020-12-23 10:39:25</td>\n",
       "      <td>login</td>\n",
       "      <td>NaN</td>\n",
       "      <td>2020-12-23</td>\n",
       "      <td>B</td>\n",
       "      <td>interface_eu_test</td>\n",
       "      <td>2020-12-23</td>\n",
       "      <td>EU</td>\n",
       "      <td>Android</td>\n",
       "      <td>2</td>\n",
       "    </tr>\n",
       "    <tr>\n",
       "      <th>102837</th>\n",
       "      <td>85500F5DD194ADBA</td>\n",
       "      <td>2020-12-23 09:33:24</td>\n",
       "      <td>login</td>\n",
       "      <td>NaN</td>\n",
       "      <td>2020-12-23</td>\n",
       "      <td>B</td>\n",
       "      <td>interface_eu_test</td>\n",
       "      <td>2020-12-23</td>\n",
       "      <td>EU</td>\n",
       "      <td>Android</td>\n",
       "      <td>2</td>\n",
       "    </tr>\n",
       "  </tbody>\n",
       "</table>\n",
       "<p>102838 rows × 11 columns</p>\n",
       "</div>"
      ],
      "text/plain": [
       "                 user_id            event_dt    event_name  details  \\\n",
       "0       96F27A054B191457 2020-12-07 04:02:40      purchase     4.99   \n",
       "1       96F27A054B191457 2020-12-08 09:43:14      purchase     4.99   \n",
       "2       96F27A054B191457 2020-12-09 00:44:10      purchase     4.99   \n",
       "3       96F27A054B191457 2020-12-26 00:33:57      purchase     9.99   \n",
       "4       96F27A054B191457 2020-12-07 04:02:41  product_page      NaN   \n",
       "...                  ...                 ...           ...      ...   \n",
       "102833  40076B77CFC12421 2020-12-23 03:43:28         login      NaN   \n",
       "102834  40076B77CFC12421 2020-12-24 04:21:53         login      NaN   \n",
       "102835  40076B77CFC12421 2020-12-26 03:50:17         login      NaN   \n",
       "102836  301C602AF78BABAD 2020-12-23 10:39:25         login      NaN   \n",
       "102837  85500F5DD194ADBA 2020-12-23 09:33:24         login      NaN   \n",
       "\n",
       "         datetime group            ab_test first_date region   device  day  \n",
       "0      2020-12-07     B  interface_eu_test 2020-12-07     EU   iPhone    0  \n",
       "1      2020-12-08     B  interface_eu_test 2020-12-07     EU   iPhone    1  \n",
       "2      2020-12-09     B  interface_eu_test 2020-12-07     EU   iPhone    2  \n",
       "3      2020-12-26     B  interface_eu_test 2020-12-07     EU   iPhone    5  \n",
       "4      2020-12-07     B  interface_eu_test 2020-12-07     EU   iPhone    0  \n",
       "...           ...   ...                ...        ...    ...      ...  ...  \n",
       "102833 2020-12-23     B  interface_eu_test 2020-12-23     EU   iPhone    2  \n",
       "102834 2020-12-24     B  interface_eu_test 2020-12-23     EU   iPhone    3  \n",
       "102835 2020-12-26     B  interface_eu_test 2020-12-23     EU   iPhone    5  \n",
       "102836 2020-12-23     B  interface_eu_test 2020-12-23     EU  Android    2  \n",
       "102837 2020-12-23     B  interface_eu_test 2020-12-23     EU  Android    2  \n",
       "\n",
       "[102838 rows x 11 columns]"
      ]
     },
     "execution_count": 181,
     "metadata": {},
     "output_type": "execute_result"
    }
   ],
   "source": [
    "# Menggabungkan semua dataframe\n",
    "\n",
    "df_merge_all = df_event.merge(df_group, how= 'inner', on='user_id')\n",
    "df_merge_all = df_merge_all.merge(df_users, how='inner', on='user_id')\n",
    "df_merge_all['datetime'] = df_merge_all['event_dt'].dt.date\n",
    "df_merge_all['datetime'] = pd.to_datetime(df_merge_all['datetime'])\n",
    "df_merge_all['day'] = df_merge_all['datetime'].dt.dayofweek\n",
    "df_merge_all"
   ]
  },
  {
   "cell_type": "code",
   "execution_count": 211,
   "id": "6c84207a",
   "metadata": {},
   "outputs": [
    {
     "data": {
      "text/plain": [
       "0"
      ]
     },
     "execution_count": 211,
     "metadata": {},
     "output_type": "execute_result"
    }
   ],
   "source": [
    "df_merge_all.duplicated().sum()"
   ]
  },
  {
   "cell_type": "code",
   "execution_count": 182,
   "id": "3baa2deb",
   "metadata": {},
   "outputs": [
    {
     "data": {
      "text/plain": [
       "Timestamp('2020-12-07 00:00:00')"
      ]
     },
     "execution_count": 182,
     "metadata": {},
     "output_type": "execute_result"
    }
   ],
   "source": [
    "# waktu awal dimulainya ab testing\n",
    "df_merge_all['first_date'].min()"
   ]
  },
  {
   "cell_type": "code",
   "execution_count": 183,
   "id": "480521c8",
   "metadata": {
    "scrolled": true
   },
   "outputs": [
    {
     "data": {
      "text/html": [
       "<div>\n",
       "<style scoped>\n",
       "    .dataframe tbody tr th:only-of-type {\n",
       "        vertical-align: middle;\n",
       "    }\n",
       "\n",
       "    .dataframe tbody tr th {\n",
       "        vertical-align: top;\n",
       "    }\n",
       "\n",
       "    .dataframe thead th {\n",
       "        text-align: right;\n",
       "    }\n",
       "</style>\n",
       "<table border=\"1\" class=\"dataframe\">\n",
       "  <thead>\n",
       "    <tr style=\"text-align: right;\">\n",
       "      <th></th>\n",
       "      <th>name</th>\n",
       "      <th>regions</th>\n",
       "      <th>start_dt</th>\n",
       "      <th>finish_dt</th>\n",
       "    </tr>\n",
       "  </thead>\n",
       "  <tbody>\n",
       "    <tr>\n",
       "      <th>0</th>\n",
       "      <td>Christmas&amp;New Year Promo</td>\n",
       "      <td>EU, N.America</td>\n",
       "      <td>2020-12-25</td>\n",
       "      <td>2021-01-03</td>\n",
       "    </tr>\n",
       "    <tr>\n",
       "      <th>10</th>\n",
       "      <td>CIS New Year Gift Lottery</td>\n",
       "      <td>CIS</td>\n",
       "      <td>2020-12-30</td>\n",
       "      <td>2021-01-07</td>\n",
       "    </tr>\n",
       "  </tbody>\n",
       "</table>\n",
       "</div>"
      ],
      "text/plain": [
       "                         name        regions   start_dt  finish_dt\n",
       "0    Christmas&New Year Promo  EU, N.America 2020-12-25 2021-01-03\n",
       "10  CIS New Year Gift Lottery            CIS 2020-12-30 2021-01-07"
      ]
     },
     "execution_count": 183,
     "metadata": {},
     "output_type": "execute_result"
    }
   ],
   "source": [
    "# Mencari hari-hari yang terdapat event promosi pada saat ab testing berlangsung\n",
    "df_marketing[df_marketing['start_dt'] >= '2020-12-07']"
   ]
  },
  {
   "cell_type": "markdown",
   "id": "2e9b05a1",
   "metadata": {},
   "source": [
    "terdapat 2 promosi saat ab testing berlangsung"
   ]
  },
  {
   "cell_type": "code",
   "execution_count": 184,
   "id": "d0d67af5",
   "metadata": {
    "scrolled": true
   },
   "outputs": [
    {
     "data": {
      "text/plain": [
       "3954"
      ]
     },
     "execution_count": 184,
     "metadata": {},
     "output_type": "execute_result"
    }
   ],
   "source": [
    "# Region EU ketika event Christmas&New Year Promo berlangsung\n",
    "df_merge_all[(df_merge_all['region'] == 'EU')\\\n",
    "             & (df_merge_all['datetime'] >= '2020-12-25') & (df_merge_all['datetime'] <= '2021-01-03')\n",
    "            ]['user_id'].nunique()"
   ]
  },
  {
   "cell_type": "code",
   "execution_count": 185,
   "id": "b6027712",
   "metadata": {},
   "outputs": [
    {
     "data": {
      "text/plain": [
       "29"
      ]
     },
     "execution_count": 185,
     "metadata": {},
     "output_type": "execute_result"
    }
   ],
   "source": [
    "# Region N.America ketika event Christmas&New Year Promo berlangsung\n",
    "df_merge_all[(df_merge_all['region'] == 'N.America')\\\n",
    "             & (df_merge_all['datetime'] >= '2020-12-25') & (df_merge_all['datetime'] <= '2021-01-03')\n",
    "            ]['user_id'].nunique()"
   ]
  },
  {
   "cell_type": "code",
   "execution_count": 186,
   "id": "20c277eb",
   "metadata": {},
   "outputs": [
    {
     "data": {
      "text/plain": [
       "0"
      ]
     },
     "execution_count": 186,
     "metadata": {},
     "output_type": "execute_result"
    }
   ],
   "source": [
    "# Region CIS ketika event CIS New Year Gift Lottery berlangsung\n",
    "df_merge_all[(df_merge_all['region'] == 'CIS')\\\n",
    "             & (df_merge_all['datetime'] >= '2020-12-30') & (df_merge_all['datetime'] <= '2021-01-07')\n",
    "            ]['user_id'].nunique()"
   ]
  },
  {
   "cell_type": "markdown",
   "id": "a33669c5",
   "metadata": {},
   "source": [
    "Terdapat 3954 user asal EU dan 29 user asal N.America yang melakukan interaksi pada saat marketing event berlangsung, yang mana ini tidak sesuai dengan dasar ab testing yang waktu analisa mengharuskan saat hari normal seperti biasanya (tidak ada event tertentu yang memicu kenaikan pada data)"
   ]
  },
  {
   "cell_type": "markdown",
   "id": "19388208",
   "metadata": {},
   "source": [
    "### Study conversion at different stages of the funnel"
   ]
  },
  {
   "cell_type": "code",
   "execution_count": 187,
   "id": "c345fb4a",
   "metadata": {},
   "outputs": [
    {
     "data": {
      "text/html": [
       "<div>\n",
       "<style scoped>\n",
       "    .dataframe tbody tr th:only-of-type {\n",
       "        vertical-align: middle;\n",
       "    }\n",
       "\n",
       "    .dataframe tbody tr th {\n",
       "        vertical-align: top;\n",
       "    }\n",
       "\n",
       "    .dataframe thead th {\n",
       "        text-align: right;\n",
       "    }\n",
       "</style>\n",
       "<table border=\"1\" class=\"dataframe\">\n",
       "  <thead>\n",
       "    <tr style=\"text-align: right;\">\n",
       "      <th></th>\n",
       "      <th>user_id</th>\n",
       "      <th>event_dt</th>\n",
       "      <th>event_name</th>\n",
       "      <th>details</th>\n",
       "      <th>datetime</th>\n",
       "      <th>group</th>\n",
       "      <th>ab_test</th>\n",
       "      <th>first_date</th>\n",
       "      <th>region</th>\n",
       "      <th>device</th>\n",
       "      <th>day</th>\n",
       "    </tr>\n",
       "  </thead>\n",
       "  <tbody>\n",
       "    <tr>\n",
       "      <th>0</th>\n",
       "      <td>96F27A054B191457</td>\n",
       "      <td>2020-12-07 04:02:40</td>\n",
       "      <td>purchase</td>\n",
       "      <td>4.99</td>\n",
       "      <td>2020-12-07</td>\n",
       "      <td>B</td>\n",
       "      <td>interface_eu_test</td>\n",
       "      <td>2020-12-07</td>\n",
       "      <td>EU</td>\n",
       "      <td>iPhone</td>\n",
       "      <td>0</td>\n",
       "    </tr>\n",
       "    <tr>\n",
       "      <th>1</th>\n",
       "      <td>96F27A054B191457</td>\n",
       "      <td>2020-12-08 09:43:14</td>\n",
       "      <td>purchase</td>\n",
       "      <td>4.99</td>\n",
       "      <td>2020-12-08</td>\n",
       "      <td>B</td>\n",
       "      <td>interface_eu_test</td>\n",
       "      <td>2020-12-07</td>\n",
       "      <td>EU</td>\n",
       "      <td>iPhone</td>\n",
       "      <td>1</td>\n",
       "    </tr>\n",
       "    <tr>\n",
       "      <th>2</th>\n",
       "      <td>96F27A054B191457</td>\n",
       "      <td>2020-12-09 00:44:10</td>\n",
       "      <td>purchase</td>\n",
       "      <td>4.99</td>\n",
       "      <td>2020-12-09</td>\n",
       "      <td>B</td>\n",
       "      <td>interface_eu_test</td>\n",
       "      <td>2020-12-07</td>\n",
       "      <td>EU</td>\n",
       "      <td>iPhone</td>\n",
       "      <td>2</td>\n",
       "    </tr>\n",
       "    <tr>\n",
       "      <th>3</th>\n",
       "      <td>96F27A054B191457</td>\n",
       "      <td>2020-12-26 00:33:57</td>\n",
       "      <td>purchase</td>\n",
       "      <td>9.99</td>\n",
       "      <td>2020-12-26</td>\n",
       "      <td>B</td>\n",
       "      <td>interface_eu_test</td>\n",
       "      <td>2020-12-07</td>\n",
       "      <td>EU</td>\n",
       "      <td>iPhone</td>\n",
       "      <td>5</td>\n",
       "    </tr>\n",
       "    <tr>\n",
       "      <th>4</th>\n",
       "      <td>96F27A054B191457</td>\n",
       "      <td>2020-12-07 04:02:41</td>\n",
       "      <td>product_page</td>\n",
       "      <td>NaN</td>\n",
       "      <td>2020-12-07</td>\n",
       "      <td>B</td>\n",
       "      <td>interface_eu_test</td>\n",
       "      <td>2020-12-07</td>\n",
       "      <td>EU</td>\n",
       "      <td>iPhone</td>\n",
       "      <td>0</td>\n",
       "    </tr>\n",
       "  </tbody>\n",
       "</table>\n",
       "</div>"
      ],
      "text/plain": [
       "            user_id            event_dt    event_name  details   datetime  \\\n",
       "0  96F27A054B191457 2020-12-07 04:02:40      purchase     4.99 2020-12-07   \n",
       "1  96F27A054B191457 2020-12-08 09:43:14      purchase     4.99 2020-12-08   \n",
       "2  96F27A054B191457 2020-12-09 00:44:10      purchase     4.99 2020-12-09   \n",
       "3  96F27A054B191457 2020-12-26 00:33:57      purchase     9.99 2020-12-26   \n",
       "4  96F27A054B191457 2020-12-07 04:02:41  product_page      NaN 2020-12-07   \n",
       "\n",
       "  group            ab_test first_date region  device  day  \n",
       "0     B  interface_eu_test 2020-12-07     EU  iPhone    0  \n",
       "1     B  interface_eu_test 2020-12-07     EU  iPhone    1  \n",
       "2     B  interface_eu_test 2020-12-07     EU  iPhone    2  \n",
       "3     B  interface_eu_test 2020-12-07     EU  iPhone    5  \n",
       "4     B  interface_eu_test 2020-12-07     EU  iPhone    0  "
      ]
     },
     "execution_count": 187,
     "metadata": {},
     "output_type": "execute_result"
    }
   ],
   "source": [
    "df_merge_all.head()"
   ]
  },
  {
   "cell_type": "code",
   "execution_count": 188,
   "id": "9afacf39",
   "metadata": {},
   "outputs": [
    {
     "data": {
      "text/html": [
       "<div>\n",
       "<style scoped>\n",
       "    .dataframe tbody tr th:only-of-type {\n",
       "        vertical-align: middle;\n",
       "    }\n",
       "\n",
       "    .dataframe tbody tr th {\n",
       "        vertical-align: top;\n",
       "    }\n",
       "\n",
       "    .dataframe thead th {\n",
       "        text-align: right;\n",
       "    }\n",
       "</style>\n",
       "<table border=\"1\" class=\"dataframe\">\n",
       "  <thead>\n",
       "    <tr style=\"text-align: right;\">\n",
       "      <th></th>\n",
       "      <th>event_name</th>\n",
       "      <th>group</th>\n",
       "      <th>ab_test</th>\n",
       "      <th>user</th>\n",
       "    </tr>\n",
       "  </thead>\n",
       "  <tbody>\n",
       "    <tr>\n",
       "      <th>0</th>\n",
       "      <td>login</td>\n",
       "      <td>A</td>\n",
       "      <td>interface_eu_test</td>\n",
       "      <td>5466</td>\n",
       "    </tr>\n",
       "    <tr>\n",
       "      <th>1</th>\n",
       "      <td>login</td>\n",
       "      <td>A</td>\n",
       "      <td>recommender_system_test</td>\n",
       "      <td>2747</td>\n",
       "    </tr>\n",
       "    <tr>\n",
       "      <th>2</th>\n",
       "      <td>login</td>\n",
       "      <td>B</td>\n",
       "      <td>interface_eu_test</td>\n",
       "      <td>5383</td>\n",
       "    </tr>\n",
       "    <tr>\n",
       "      <th>3</th>\n",
       "      <td>login</td>\n",
       "      <td>B</td>\n",
       "      <td>recommender_system_test</td>\n",
       "      <td>927</td>\n",
       "    </tr>\n",
       "    <tr>\n",
       "      <th>4</th>\n",
       "      <td>product_cart</td>\n",
       "      <td>A</td>\n",
       "      <td>interface_eu_test</td>\n",
       "      <td>1756</td>\n",
       "    </tr>\n",
       "    <tr>\n",
       "      <th>5</th>\n",
       "      <td>product_cart</td>\n",
       "      <td>A</td>\n",
       "      <td>recommender_system_test</td>\n",
       "      <td>824</td>\n",
       "    </tr>\n",
       "    <tr>\n",
       "      <th>6</th>\n",
       "      <td>product_cart</td>\n",
       "      <td>B</td>\n",
       "      <td>interface_eu_test</td>\n",
       "      <td>1812</td>\n",
       "    </tr>\n",
       "    <tr>\n",
       "      <th>7</th>\n",
       "      <td>product_cart</td>\n",
       "      <td>B</td>\n",
       "      <td>recommender_system_test</td>\n",
       "      <td>255</td>\n",
       "    </tr>\n",
       "    <tr>\n",
       "      <th>8</th>\n",
       "      <td>product_page</td>\n",
       "      <td>A</td>\n",
       "      <td>interface_eu_test</td>\n",
       "      <td>3639</td>\n",
       "    </tr>\n",
       "    <tr>\n",
       "      <th>9</th>\n",
       "      <td>product_page</td>\n",
       "      <td>A</td>\n",
       "      <td>recommender_system_test</td>\n",
       "      <td>1780</td>\n",
       "    </tr>\n",
       "    <tr>\n",
       "      <th>10</th>\n",
       "      <td>product_page</td>\n",
       "      <td>B</td>\n",
       "      <td>interface_eu_test</td>\n",
       "      <td>3527</td>\n",
       "    </tr>\n",
       "    <tr>\n",
       "      <th>11</th>\n",
       "      <td>product_page</td>\n",
       "      <td>B</td>\n",
       "      <td>recommender_system_test</td>\n",
       "      <td>523</td>\n",
       "    </tr>\n",
       "    <tr>\n",
       "      <th>12</th>\n",
       "      <td>purchase</td>\n",
       "      <td>A</td>\n",
       "      <td>interface_eu_test</td>\n",
       "      <td>1931</td>\n",
       "    </tr>\n",
       "    <tr>\n",
       "      <th>13</th>\n",
       "      <td>purchase</td>\n",
       "      <td>A</td>\n",
       "      <td>recommender_system_test</td>\n",
       "      <td>872</td>\n",
       "    </tr>\n",
       "    <tr>\n",
       "      <th>14</th>\n",
       "      <td>purchase</td>\n",
       "      <td>B</td>\n",
       "      <td>interface_eu_test</td>\n",
       "      <td>1782</td>\n",
       "    </tr>\n",
       "    <tr>\n",
       "      <th>15</th>\n",
       "      <td>purchase</td>\n",
       "      <td>B</td>\n",
       "      <td>recommender_system_test</td>\n",
       "      <td>256</td>\n",
       "    </tr>\n",
       "  </tbody>\n",
       "</table>\n",
       "</div>"
      ],
      "text/plain": [
       "      event_name group                  ab_test  user\n",
       "0          login     A        interface_eu_test  5466\n",
       "1          login     A  recommender_system_test  2747\n",
       "2          login     B        interface_eu_test  5383\n",
       "3          login     B  recommender_system_test   927\n",
       "4   product_cart     A        interface_eu_test  1756\n",
       "5   product_cart     A  recommender_system_test   824\n",
       "6   product_cart     B        interface_eu_test  1812\n",
       "7   product_cart     B  recommender_system_test   255\n",
       "8   product_page     A        interface_eu_test  3639\n",
       "9   product_page     A  recommender_system_test  1780\n",
       "10  product_page     B        interface_eu_test  3527\n",
       "11  product_page     B  recommender_system_test   523\n",
       "12      purchase     A        interface_eu_test  1931\n",
       "13      purchase     A  recommender_system_test   872\n",
       "14      purchase     B        interface_eu_test  1782\n",
       "15      purchase     B  recommender_system_test   256"
      ]
     },
     "execution_count": 188,
     "metadata": {},
     "output_type": "execute_result"
    }
   ],
   "source": [
    "# membuat berapa banyak user di event tertentu berdasarkan group dan testing name nya\n",
    "data_new3 = (\n",
    "    df_merge_all.drop(['event_dt'], axis=1)\n",
    "    .groupby(['event_name','group','ab_test'], as_index =False)\n",
    "    .agg({'user_id': 'nunique'})\n",
    ")\n",
    "data_new3 = data_new3.rename(columns={'user_id':'user'})\n",
    "data_new3"
   ]
  },
  {
   "cell_type": "code",
   "execution_count": 189,
   "id": "1bb1bd4c",
   "metadata": {},
   "outputs": [],
   "source": [
    "# memecah menjadi beberapa dataframe\n",
    "df_a_interface = data_new3.query('group == \"A\" & ab_test == \"interface_eu_test\"')\n",
    "df_a_recommender = data_new3.query('group == \"A\" & ab_test == \"recommender_system_test\"')\n",
    "\n",
    "df_b_interface = data_new3.query('group == \"B\" & ab_test == \"interface_eu_test\"')\n",
    "df_b_recommender = data_new3.query('group == \"B\" & ab_test == \"recommender_system_test\"')"
   ]
  },
  {
   "cell_type": "code",
   "execution_count": 190,
   "id": "6034c1e8",
   "metadata": {},
   "outputs": [
    {
     "name": "stderr",
     "output_type": "stream",
     "text": [
      "C:\\Users\\Bayuu\\AppData\\Local\\Temp\\ipykernel_980\\2526609963.py:2: SettingWithCopyWarning: \n",
      "A value is trying to be set on a copy of a slice from a DataFrame.\n",
      "Try using .loc[row_indexer,col_indexer] = value instead\n",
      "\n",
      "See the caveats in the documentation: https://pandas.pydata.org/pandas-docs/stable/user_guide/indexing.html#returning-a-view-versus-a-copy\n",
      "  df_a_interface['ratio'] = df_a_interface['user']/(df_a_interface['user'].max())\n",
      "C:\\Users\\Bayuu\\AppData\\Local\\Temp\\ipykernel_980\\2526609963.py:3: SettingWithCopyWarning: \n",
      "A value is trying to be set on a copy of a slice from a DataFrame.\n",
      "Try using .loc[row_indexer,col_indexer] = value instead\n",
      "\n",
      "See the caveats in the documentation: https://pandas.pydata.org/pandas-docs/stable/user_guide/indexing.html#returning-a-view-versus-a-copy\n",
      "  df_a_recommender['ratio'] = df_a_recommender['user']/(df_a_recommender['user'].max())\n",
      "C:\\Users\\Bayuu\\AppData\\Local\\Temp\\ipykernel_980\\2526609963.py:4: SettingWithCopyWarning: \n",
      "A value is trying to be set on a copy of a slice from a DataFrame.\n",
      "Try using .loc[row_indexer,col_indexer] = value instead\n",
      "\n",
      "See the caveats in the documentation: https://pandas.pydata.org/pandas-docs/stable/user_guide/indexing.html#returning-a-view-versus-a-copy\n",
      "  df_b_interface['ratio'] = df_b_interface['user']/(df_b_interface['user'].max())\n",
      "C:\\Users\\Bayuu\\AppData\\Local\\Temp\\ipykernel_980\\2526609963.py:5: SettingWithCopyWarning: \n",
      "A value is trying to be set on a copy of a slice from a DataFrame.\n",
      "Try using .loc[row_indexer,col_indexer] = value instead\n",
      "\n",
      "See the caveats in the documentation: https://pandas.pydata.org/pandas-docs/stable/user_guide/indexing.html#returning-a-view-versus-a-copy\n",
      "  df_b_recommender['ratio'] = df_b_recommender['user']/(df_b_recommender['user'].max())\n"
     ]
    }
   ],
   "source": [
    "#membuat kolom ratio pada masing-masing dataframe\n",
    "df_a_interface['ratio'] = df_a_interface['user']/(df_a_interface['user'].max())\n",
    "df_a_recommender['ratio'] = df_a_recommender['user']/(df_a_recommender['user'].max())\n",
    "df_b_interface['ratio'] = df_b_interface['user']/(df_b_interface['user'].max())\n",
    "df_b_recommender['ratio'] = df_b_recommender['user']/(df_b_recommender['user'].max())"
   ]
  },
  {
   "cell_type": "markdown",
   "id": "be83b60a",
   "metadata": {},
   "source": [
    "#### Testname interface"
   ]
  },
  {
   "cell_type": "code",
   "execution_count": 191,
   "id": "582a5ef8",
   "metadata": {
    "scrolled": false
   },
   "outputs": [
    {
     "data": {
      "text/html": [
       "<div>\n",
       "<style scoped>\n",
       "    .dataframe tbody tr th:only-of-type {\n",
       "        vertical-align: middle;\n",
       "    }\n",
       "\n",
       "    .dataframe tbody tr th {\n",
       "        vertical-align: top;\n",
       "    }\n",
       "\n",
       "    .dataframe thead th {\n",
       "        text-align: right;\n",
       "    }\n",
       "</style>\n",
       "<table border=\"1\" class=\"dataframe\">\n",
       "  <thead>\n",
       "    <tr style=\"text-align: right;\">\n",
       "      <th></th>\n",
       "      <th>event_name</th>\n",
       "      <th>group</th>\n",
       "      <th>ab_test</th>\n",
       "      <th>user</th>\n",
       "      <th>ratio</th>\n",
       "    </tr>\n",
       "  </thead>\n",
       "  <tbody>\n",
       "    <tr>\n",
       "      <th>0</th>\n",
       "      <td>login</td>\n",
       "      <td>A</td>\n",
       "      <td>interface_eu_test</td>\n",
       "      <td>5466</td>\n",
       "      <td>1.000000</td>\n",
       "    </tr>\n",
       "    <tr>\n",
       "      <th>4</th>\n",
       "      <td>product_cart</td>\n",
       "      <td>A</td>\n",
       "      <td>interface_eu_test</td>\n",
       "      <td>1756</td>\n",
       "      <td>0.321259</td>\n",
       "    </tr>\n",
       "    <tr>\n",
       "      <th>8</th>\n",
       "      <td>product_page</td>\n",
       "      <td>A</td>\n",
       "      <td>interface_eu_test</td>\n",
       "      <td>3639</td>\n",
       "      <td>0.665752</td>\n",
       "    </tr>\n",
       "    <tr>\n",
       "      <th>12</th>\n",
       "      <td>purchase</td>\n",
       "      <td>A</td>\n",
       "      <td>interface_eu_test</td>\n",
       "      <td>1931</td>\n",
       "      <td>0.353275</td>\n",
       "    </tr>\n",
       "  </tbody>\n",
       "</table>\n",
       "</div>"
      ],
      "text/plain": [
       "      event_name group            ab_test  user     ratio\n",
       "0          login     A  interface_eu_test  5466  1.000000\n",
       "4   product_cart     A  interface_eu_test  1756  0.321259\n",
       "8   product_page     A  interface_eu_test  3639  0.665752\n",
       "12      purchase     A  interface_eu_test  1931  0.353275"
      ]
     },
     "execution_count": 191,
     "metadata": {},
     "output_type": "execute_result"
    }
   ],
   "source": [
    "#group A (kontrol)\n",
    "df_a_interface"
   ]
  },
  {
   "cell_type": "code",
   "execution_count": 192,
   "id": "bc9044c5",
   "metadata": {},
   "outputs": [
    {
     "data": {
      "text/html": [
       "<div>\n",
       "<style scoped>\n",
       "    .dataframe tbody tr th:only-of-type {\n",
       "        vertical-align: middle;\n",
       "    }\n",
       "\n",
       "    .dataframe tbody tr th {\n",
       "        vertical-align: top;\n",
       "    }\n",
       "\n",
       "    .dataframe thead th {\n",
       "        text-align: right;\n",
       "    }\n",
       "</style>\n",
       "<table border=\"1\" class=\"dataframe\">\n",
       "  <thead>\n",
       "    <tr style=\"text-align: right;\">\n",
       "      <th></th>\n",
       "      <th>event_name</th>\n",
       "      <th>group</th>\n",
       "      <th>ab_test</th>\n",
       "      <th>user</th>\n",
       "      <th>ratio</th>\n",
       "    </tr>\n",
       "  </thead>\n",
       "  <tbody>\n",
       "    <tr>\n",
       "      <th>2</th>\n",
       "      <td>login</td>\n",
       "      <td>B</td>\n",
       "      <td>interface_eu_test</td>\n",
       "      <td>5383</td>\n",
       "      <td>1.000000</td>\n",
       "    </tr>\n",
       "    <tr>\n",
       "      <th>6</th>\n",
       "      <td>product_cart</td>\n",
       "      <td>B</td>\n",
       "      <td>interface_eu_test</td>\n",
       "      <td>1812</td>\n",
       "      <td>0.336615</td>\n",
       "    </tr>\n",
       "    <tr>\n",
       "      <th>10</th>\n",
       "      <td>product_page</td>\n",
       "      <td>B</td>\n",
       "      <td>interface_eu_test</td>\n",
       "      <td>3527</td>\n",
       "      <td>0.655211</td>\n",
       "    </tr>\n",
       "    <tr>\n",
       "      <th>14</th>\n",
       "      <td>purchase</td>\n",
       "      <td>B</td>\n",
       "      <td>interface_eu_test</td>\n",
       "      <td>1782</td>\n",
       "      <td>0.331042</td>\n",
       "    </tr>\n",
       "  </tbody>\n",
       "</table>\n",
       "</div>"
      ],
      "text/plain": [
       "      event_name group            ab_test  user     ratio\n",
       "2          login     B  interface_eu_test  5383  1.000000\n",
       "6   product_cart     B  interface_eu_test  1812  0.336615\n",
       "10  product_page     B  interface_eu_test  3527  0.655211\n",
       "14      purchase     B  interface_eu_test  1782  0.331042"
      ]
     },
     "execution_count": 192,
     "metadata": {},
     "output_type": "execute_result"
    }
   ],
   "source": [
    "#group B (uji)\n",
    "df_b_interface"
   ]
  },
  {
   "cell_type": "markdown",
   "id": "7081d438",
   "metadata": {},
   "source": [
    "pada test name interface_eu_test tidak terdapat perbedaan yang signifikan, hanya berbeda 1-2% antara kedua grup dengan ratio purchase lebih rendah di grup B"
   ]
  },
  {
   "cell_type": "markdown",
   "id": "e573a934",
   "metadata": {},
   "source": [
    "#### testname recommender"
   ]
  },
  {
   "cell_type": "code",
   "execution_count": 193,
   "id": "cf79e4d1",
   "metadata": {
    "scrolled": true
   },
   "outputs": [
    {
     "data": {
      "text/html": [
       "<div>\n",
       "<style scoped>\n",
       "    .dataframe tbody tr th:only-of-type {\n",
       "        vertical-align: middle;\n",
       "    }\n",
       "\n",
       "    .dataframe tbody tr th {\n",
       "        vertical-align: top;\n",
       "    }\n",
       "\n",
       "    .dataframe thead th {\n",
       "        text-align: right;\n",
       "    }\n",
       "</style>\n",
       "<table border=\"1\" class=\"dataframe\">\n",
       "  <thead>\n",
       "    <tr style=\"text-align: right;\">\n",
       "      <th></th>\n",
       "      <th>event_name</th>\n",
       "      <th>group</th>\n",
       "      <th>ab_test</th>\n",
       "      <th>user</th>\n",
       "      <th>ratio</th>\n",
       "    </tr>\n",
       "  </thead>\n",
       "  <tbody>\n",
       "    <tr>\n",
       "      <th>1</th>\n",
       "      <td>login</td>\n",
       "      <td>A</td>\n",
       "      <td>recommender_system_test</td>\n",
       "      <td>2747</td>\n",
       "      <td>1.000000</td>\n",
       "    </tr>\n",
       "    <tr>\n",
       "      <th>5</th>\n",
       "      <td>product_cart</td>\n",
       "      <td>A</td>\n",
       "      <td>recommender_system_test</td>\n",
       "      <td>824</td>\n",
       "      <td>0.299964</td>\n",
       "    </tr>\n",
       "    <tr>\n",
       "      <th>9</th>\n",
       "      <td>product_page</td>\n",
       "      <td>A</td>\n",
       "      <td>recommender_system_test</td>\n",
       "      <td>1780</td>\n",
       "      <td>0.647980</td>\n",
       "    </tr>\n",
       "    <tr>\n",
       "      <th>13</th>\n",
       "      <td>purchase</td>\n",
       "      <td>A</td>\n",
       "      <td>recommender_system_test</td>\n",
       "      <td>872</td>\n",
       "      <td>0.317437</td>\n",
       "    </tr>\n",
       "  </tbody>\n",
       "</table>\n",
       "</div>"
      ],
      "text/plain": [
       "      event_name group                  ab_test  user     ratio\n",
       "1          login     A  recommender_system_test  2747  1.000000\n",
       "5   product_cart     A  recommender_system_test   824  0.299964\n",
       "9   product_page     A  recommender_system_test  1780  0.647980\n",
       "13      purchase     A  recommender_system_test   872  0.317437"
      ]
     },
     "execution_count": 193,
     "metadata": {},
     "output_type": "execute_result"
    }
   ],
   "source": [
    "df_a_recommender"
   ]
  },
  {
   "cell_type": "code",
   "execution_count": 194,
   "id": "edabbf55",
   "metadata": {},
   "outputs": [
    {
     "data": {
      "text/html": [
       "<div>\n",
       "<style scoped>\n",
       "    .dataframe tbody tr th:only-of-type {\n",
       "        vertical-align: middle;\n",
       "    }\n",
       "\n",
       "    .dataframe tbody tr th {\n",
       "        vertical-align: top;\n",
       "    }\n",
       "\n",
       "    .dataframe thead th {\n",
       "        text-align: right;\n",
       "    }\n",
       "</style>\n",
       "<table border=\"1\" class=\"dataframe\">\n",
       "  <thead>\n",
       "    <tr style=\"text-align: right;\">\n",
       "      <th></th>\n",
       "      <th>event_name</th>\n",
       "      <th>group</th>\n",
       "      <th>ab_test</th>\n",
       "      <th>user</th>\n",
       "      <th>ratio</th>\n",
       "    </tr>\n",
       "  </thead>\n",
       "  <tbody>\n",
       "    <tr>\n",
       "      <th>3</th>\n",
       "      <td>login</td>\n",
       "      <td>B</td>\n",
       "      <td>recommender_system_test</td>\n",
       "      <td>927</td>\n",
       "      <td>1.000000</td>\n",
       "    </tr>\n",
       "    <tr>\n",
       "      <th>7</th>\n",
       "      <td>product_cart</td>\n",
       "      <td>B</td>\n",
       "      <td>recommender_system_test</td>\n",
       "      <td>255</td>\n",
       "      <td>0.275081</td>\n",
       "    </tr>\n",
       "    <tr>\n",
       "      <th>11</th>\n",
       "      <td>product_page</td>\n",
       "      <td>B</td>\n",
       "      <td>recommender_system_test</td>\n",
       "      <td>523</td>\n",
       "      <td>0.564186</td>\n",
       "    </tr>\n",
       "    <tr>\n",
       "      <th>15</th>\n",
       "      <td>purchase</td>\n",
       "      <td>B</td>\n",
       "      <td>recommender_system_test</td>\n",
       "      <td>256</td>\n",
       "      <td>0.276160</td>\n",
       "    </tr>\n",
       "  </tbody>\n",
       "</table>\n",
       "</div>"
      ],
      "text/plain": [
       "      event_name group                  ab_test  user     ratio\n",
       "3          login     B  recommender_system_test   927  1.000000\n",
       "7   product_cart     B  recommender_system_test   255  0.275081\n",
       "11  product_page     B  recommender_system_test   523  0.564186\n",
       "15      purchase     B  recommender_system_test   256  0.276160"
      ]
     },
     "execution_count": 194,
     "metadata": {},
     "output_type": "execute_result"
    }
   ],
   "source": [
    "df_b_recommender"
   ]
  },
  {
   "cell_type": "markdown",
   "id": "bc52ab18",
   "metadata": {},
   "source": [
    "pada testname recommender_system_test setelah ditelusuri bahwa kelompok B memiliki ratio lebih rendah daripada kelompok A. Kelompok B mengalamani penurunan 2-8% dibandingkan dengan kelompok A"
   ]
  },
  {
   "cell_type": "markdown",
   "id": "67ab492b",
   "metadata": {},
   "source": [
    "### Is the number of events per user distributed equally among the samples?"
   ]
  },
  {
   "cell_type": "code",
   "execution_count": 195,
   "id": "4e8411a2",
   "metadata": {},
   "outputs": [
    {
     "data": {
      "text/html": [
       "<div>\n",
       "<style scoped>\n",
       "    .dataframe tbody tr th:only-of-type {\n",
       "        vertical-align: middle;\n",
       "    }\n",
       "\n",
       "    .dataframe tbody tr th {\n",
       "        vertical-align: top;\n",
       "    }\n",
       "\n",
       "    .dataframe thead th {\n",
       "        text-align: right;\n",
       "    }\n",
       "</style>\n",
       "<table border=\"1\" class=\"dataframe\">\n",
       "  <thead>\n",
       "    <tr style=\"text-align: right;\">\n",
       "      <th></th>\n",
       "      <th>user_id</th>\n",
       "      <th>event_dt</th>\n",
       "      <th>event_name</th>\n",
       "      <th>details</th>\n",
       "      <th>datetime</th>\n",
       "      <th>group</th>\n",
       "      <th>ab_test</th>\n",
       "      <th>first_date</th>\n",
       "      <th>region</th>\n",
       "      <th>device</th>\n",
       "      <th>day</th>\n",
       "    </tr>\n",
       "  </thead>\n",
       "  <tbody>\n",
       "    <tr>\n",
       "      <th>0</th>\n",
       "      <td>96F27A054B191457</td>\n",
       "      <td>2020-12-07 04:02:40</td>\n",
       "      <td>purchase</td>\n",
       "      <td>4.99</td>\n",
       "      <td>2020-12-07</td>\n",
       "      <td>B</td>\n",
       "      <td>interface_eu_test</td>\n",
       "      <td>2020-12-07</td>\n",
       "      <td>EU</td>\n",
       "      <td>iPhone</td>\n",
       "      <td>0</td>\n",
       "    </tr>\n",
       "    <tr>\n",
       "      <th>1</th>\n",
       "      <td>96F27A054B191457</td>\n",
       "      <td>2020-12-08 09:43:14</td>\n",
       "      <td>purchase</td>\n",
       "      <td>4.99</td>\n",
       "      <td>2020-12-08</td>\n",
       "      <td>B</td>\n",
       "      <td>interface_eu_test</td>\n",
       "      <td>2020-12-07</td>\n",
       "      <td>EU</td>\n",
       "      <td>iPhone</td>\n",
       "      <td>1</td>\n",
       "    </tr>\n",
       "    <tr>\n",
       "      <th>2</th>\n",
       "      <td>96F27A054B191457</td>\n",
       "      <td>2020-12-09 00:44:10</td>\n",
       "      <td>purchase</td>\n",
       "      <td>4.99</td>\n",
       "      <td>2020-12-09</td>\n",
       "      <td>B</td>\n",
       "      <td>interface_eu_test</td>\n",
       "      <td>2020-12-07</td>\n",
       "      <td>EU</td>\n",
       "      <td>iPhone</td>\n",
       "      <td>2</td>\n",
       "    </tr>\n",
       "    <tr>\n",
       "      <th>3</th>\n",
       "      <td>96F27A054B191457</td>\n",
       "      <td>2020-12-26 00:33:57</td>\n",
       "      <td>purchase</td>\n",
       "      <td>9.99</td>\n",
       "      <td>2020-12-26</td>\n",
       "      <td>B</td>\n",
       "      <td>interface_eu_test</td>\n",
       "      <td>2020-12-07</td>\n",
       "      <td>EU</td>\n",
       "      <td>iPhone</td>\n",
       "      <td>5</td>\n",
       "    </tr>\n",
       "    <tr>\n",
       "      <th>4</th>\n",
       "      <td>96F27A054B191457</td>\n",
       "      <td>2020-12-07 04:02:41</td>\n",
       "      <td>product_page</td>\n",
       "      <td>NaN</td>\n",
       "      <td>2020-12-07</td>\n",
       "      <td>B</td>\n",
       "      <td>interface_eu_test</td>\n",
       "      <td>2020-12-07</td>\n",
       "      <td>EU</td>\n",
       "      <td>iPhone</td>\n",
       "      <td>0</td>\n",
       "    </tr>\n",
       "  </tbody>\n",
       "</table>\n",
       "</div>"
      ],
      "text/plain": [
       "            user_id            event_dt    event_name  details   datetime  \\\n",
       "0  96F27A054B191457 2020-12-07 04:02:40      purchase     4.99 2020-12-07   \n",
       "1  96F27A054B191457 2020-12-08 09:43:14      purchase     4.99 2020-12-08   \n",
       "2  96F27A054B191457 2020-12-09 00:44:10      purchase     4.99 2020-12-09   \n",
       "3  96F27A054B191457 2020-12-26 00:33:57      purchase     9.99 2020-12-26   \n",
       "4  96F27A054B191457 2020-12-07 04:02:41  product_page      NaN 2020-12-07   \n",
       "\n",
       "  group            ab_test first_date region  device  day  \n",
       "0     B  interface_eu_test 2020-12-07     EU  iPhone    0  \n",
       "1     B  interface_eu_test 2020-12-07     EU  iPhone    1  \n",
       "2     B  interface_eu_test 2020-12-07     EU  iPhone    2  \n",
       "3     B  interface_eu_test 2020-12-07     EU  iPhone    5  \n",
       "4     B  interface_eu_test 2020-12-07     EU  iPhone    0  "
      ]
     },
     "execution_count": 195,
     "metadata": {},
     "output_type": "execute_result"
    }
   ],
   "source": [
    "df_merge_all.head()"
   ]
  },
  {
   "cell_type": "code",
   "execution_count": 196,
   "id": "63a9a203",
   "metadata": {},
   "outputs": [
    {
     "data": {
      "text/html": [
       "<div>\n",
       "<style scoped>\n",
       "    .dataframe tbody tr th:only-of-type {\n",
       "        vertical-align: middle;\n",
       "    }\n",
       "\n",
       "    .dataframe tbody tr th {\n",
       "        vertical-align: top;\n",
       "    }\n",
       "\n",
       "    .dataframe thead th {\n",
       "        text-align: right;\n",
       "    }\n",
       "</style>\n",
       "<table border=\"1\" class=\"dataframe\">\n",
       "  <thead>\n",
       "    <tr style=\"text-align: right;\">\n",
       "      <th>event_name</th>\n",
       "      <th>login</th>\n",
       "      <th>product_cart</th>\n",
       "      <th>product_page</th>\n",
       "      <th>purchase</th>\n",
       "    </tr>\n",
       "    <tr>\n",
       "      <th>user_id</th>\n",
       "      <th></th>\n",
       "      <th></th>\n",
       "      <th></th>\n",
       "      <th></th>\n",
       "    </tr>\n",
       "  </thead>\n",
       "  <tbody>\n",
       "    <tr>\n",
       "      <th>0002CE61FF2C4011</th>\n",
       "      <td>4.0</td>\n",
       "      <td>4.0</td>\n",
       "      <td>4.0</td>\n",
       "      <td>NaN</td>\n",
       "    </tr>\n",
       "    <tr>\n",
       "      <th>001064FEAAB631A1</th>\n",
       "      <td>6.0</td>\n",
       "      <td>NaN</td>\n",
       "      <td>6.0</td>\n",
       "      <td>NaN</td>\n",
       "    </tr>\n",
       "    <tr>\n",
       "      <th>0010A1C096941592</th>\n",
       "      <td>4.0</td>\n",
       "      <td>NaN</td>\n",
       "      <td>4.0</td>\n",
       "      <td>4.0</td>\n",
       "    </tr>\n",
       "    <tr>\n",
       "      <th>001E72F50D1C48FA</th>\n",
       "      <td>3.0</td>\n",
       "      <td>NaN</td>\n",
       "      <td>3.0</td>\n",
       "      <td>NaN</td>\n",
       "    </tr>\n",
       "    <tr>\n",
       "      <th>002412F1EB3F6E38</th>\n",
       "      <td>3.0</td>\n",
       "      <td>NaN</td>\n",
       "      <td>3.0</td>\n",
       "      <td>NaN</td>\n",
       "    </tr>\n",
       "    <tr>\n",
       "      <th>002540BE89C930FB</th>\n",
       "      <td>3.0</td>\n",
       "      <td>3.0</td>\n",
       "      <td>3.0</td>\n",
       "      <td>NaN</td>\n",
       "    </tr>\n",
       "    <tr>\n",
       "      <th>0031F1B5E9FBF708</th>\n",
       "      <td>2.0</td>\n",
       "      <td>NaN</td>\n",
       "      <td>NaN</td>\n",
       "      <td>2.0</td>\n",
       "    </tr>\n",
       "    <tr>\n",
       "      <th>003346BB64227D0C</th>\n",
       "      <td>3.0</td>\n",
       "      <td>NaN</td>\n",
       "      <td>NaN</td>\n",
       "      <td>NaN</td>\n",
       "    </tr>\n",
       "    <tr>\n",
       "      <th>00341D8401F0F665</th>\n",
       "      <td>4.0</td>\n",
       "      <td>NaN</td>\n",
       "      <td>NaN</td>\n",
       "      <td>NaN</td>\n",
       "    </tr>\n",
       "    <tr>\n",
       "      <th>0036BE15EE4D319D</th>\n",
       "      <td>2.0</td>\n",
       "      <td>NaN</td>\n",
       "      <td>NaN</td>\n",
       "      <td>NaN</td>\n",
       "    </tr>\n",
       "    <tr>\n",
       "      <th>003DF44D7589BBD4</th>\n",
       "      <td>5.0</td>\n",
       "      <td>5.0</td>\n",
       "      <td>5.0</td>\n",
       "      <td>NaN</td>\n",
       "    </tr>\n",
       "    <tr>\n",
       "      <th>003F86A34B575D27</th>\n",
       "      <td>2.0</td>\n",
       "      <td>2.0</td>\n",
       "      <td>NaN</td>\n",
       "      <td>NaN</td>\n",
       "    </tr>\n",
       "    <tr>\n",
       "      <th>004C58ADE7CA8C4A</th>\n",
       "      <td>2.0</td>\n",
       "      <td>NaN</td>\n",
       "      <td>2.0</td>\n",
       "      <td>2.0</td>\n",
       "    </tr>\n",
       "    <tr>\n",
       "      <th>00505E15A9D81546</th>\n",
       "      <td>5.0</td>\n",
       "      <td>NaN</td>\n",
       "      <td>NaN</td>\n",
       "      <td>NaN</td>\n",
       "    </tr>\n",
       "    <tr>\n",
       "      <th>0050F43F34C955F4</th>\n",
       "      <td>1.0</td>\n",
       "      <td>1.0</td>\n",
       "      <td>1.0</td>\n",
       "      <td>1.0</td>\n",
       "    </tr>\n",
       "    <tr>\n",
       "      <th>0053DD654C9513D6</th>\n",
       "      <td>3.0</td>\n",
       "      <td>NaN</td>\n",
       "      <td>3.0</td>\n",
       "      <td>3.0</td>\n",
       "    </tr>\n",
       "    <tr>\n",
       "      <th>005881C49580D705</th>\n",
       "      <td>2.0</td>\n",
       "      <td>2.0</td>\n",
       "      <td>NaN</td>\n",
       "      <td>NaN</td>\n",
       "    </tr>\n",
       "    <tr>\n",
       "      <th>005E096DBD379BCF</th>\n",
       "      <td>2.0</td>\n",
       "      <td>NaN</td>\n",
       "      <td>NaN</td>\n",
       "      <td>2.0</td>\n",
       "    </tr>\n",
       "    <tr>\n",
       "      <th>0069105CBE9CA8DC</th>\n",
       "      <td>4.0</td>\n",
       "      <td>NaN</td>\n",
       "      <td>4.0</td>\n",
       "      <td>NaN</td>\n",
       "    </tr>\n",
       "    <tr>\n",
       "      <th>006E3E4E232CE760</th>\n",
       "      <td>3.0</td>\n",
       "      <td>NaN</td>\n",
       "      <td>3.0</td>\n",
       "      <td>NaN</td>\n",
       "    </tr>\n",
       "  </tbody>\n",
       "</table>\n",
       "</div>"
      ],
      "text/plain": [
       "event_name        login  product_cart  product_page  purchase\n",
       "user_id                                                      \n",
       "0002CE61FF2C4011    4.0           4.0           4.0       NaN\n",
       "001064FEAAB631A1    6.0           NaN           6.0       NaN\n",
       "0010A1C096941592    4.0           NaN           4.0       4.0\n",
       "001E72F50D1C48FA    3.0           NaN           3.0       NaN\n",
       "002412F1EB3F6E38    3.0           NaN           3.0       NaN\n",
       "002540BE89C930FB    3.0           3.0           3.0       NaN\n",
       "0031F1B5E9FBF708    2.0           NaN           NaN       2.0\n",
       "003346BB64227D0C    3.0           NaN           NaN       NaN\n",
       "00341D8401F0F665    4.0           NaN           NaN       NaN\n",
       "0036BE15EE4D319D    2.0           NaN           NaN       NaN\n",
       "003DF44D7589BBD4    5.0           5.0           5.0       NaN\n",
       "003F86A34B575D27    2.0           2.0           NaN       NaN\n",
       "004C58ADE7CA8C4A    2.0           NaN           2.0       2.0\n",
       "00505E15A9D81546    5.0           NaN           NaN       NaN\n",
       "0050F43F34C955F4    1.0           1.0           1.0       1.0\n",
       "0053DD654C9513D6    3.0           NaN           3.0       3.0\n",
       "005881C49580D705    2.0           2.0           NaN       NaN\n",
       "005E096DBD379BCF    2.0           NaN           NaN       2.0\n",
       "0069105CBE9CA8DC    4.0           NaN           4.0       NaN\n",
       "006E3E4E232CE760    3.0           NaN           3.0       NaN"
      ]
     },
     "execution_count": 196,
     "metadata": {},
     "output_type": "execute_result"
    }
   ],
   "source": [
    "df_merge_all.pivot_table(\n",
    "index='user_id',\n",
    "columns='event_name',\n",
    "values='event_dt',\n",
    "aggfunc='count').head(20)"
   ]
  },
  {
   "cell_type": "markdown",
   "id": "5a3b078f",
   "metadata": {},
   "source": [
    "jika dilihat dari sample data tersebut jumlah event per pengguna tidak terdistribusi secara merata. banyak user_id yang hanya melakukan 1 atau 2 event"
   ]
  },
  {
   "cell_type": "markdown",
   "id": "7ce7aa8d",
   "metadata": {},
   "source": [
    "### Are there users who are present in both samples?"
   ]
  },
  {
   "cell_type": "code",
   "execution_count": 197,
   "id": "6d9d72e7",
   "metadata": {},
   "outputs": [
    {
     "data": {
      "text/html": [
       "<div>\n",
       "<style scoped>\n",
       "    .dataframe tbody tr th:only-of-type {\n",
       "        vertical-align: middle;\n",
       "    }\n",
       "\n",
       "    .dataframe tbody tr th {\n",
       "        vertical-align: top;\n",
       "    }\n",
       "\n",
       "    .dataframe thead th {\n",
       "        text-align: right;\n",
       "    }\n",
       "</style>\n",
       "<table border=\"1\" class=\"dataframe\">\n",
       "  <thead>\n",
       "    <tr style=\"text-align: right;\">\n",
       "      <th></th>\n",
       "      <th>user_id</th>\n",
       "      <th>group</th>\n",
       "    </tr>\n",
       "  </thead>\n",
       "  <tbody>\n",
       "    <tr>\n",
       "      <th>9416</th>\n",
       "      <td>B06B45B7C3E5E721</td>\n",
       "      <td>2</td>\n",
       "    </tr>\n",
       "    <tr>\n",
       "      <th>12224</th>\n",
       "      <td>E594B711ADD81DD8</td>\n",
       "      <td>2</td>\n",
       "    </tr>\n",
       "    <tr>\n",
       "      <th>9004</th>\n",
       "      <td>A8C25A605F613665</td>\n",
       "      <td>2</td>\n",
       "    </tr>\n",
       "    <tr>\n",
       "      <th>3070</th>\n",
       "      <td>3A6D88AB973BD99D</td>\n",
       "      <td>2</td>\n",
       "    </tr>\n",
       "    <tr>\n",
       "      <th>564</th>\n",
       "      <td>0ADFFFE9C0D60092</td>\n",
       "      <td>2</td>\n",
       "    </tr>\n",
       "  </tbody>\n",
       "</table>\n",
       "</div>"
      ],
      "text/plain": [
       "                user_id  group\n",
       "9416   B06B45B7C3E5E721      2\n",
       "12224  E594B711ADD81DD8      2\n",
       "9004   A8C25A605F613665      2\n",
       "3070   3A6D88AB973BD99D      2\n",
       "564    0ADFFFE9C0D60092      2"
      ]
     },
     "execution_count": 197,
     "metadata": {},
     "output_type": "execute_result"
    }
   ],
   "source": [
    "df_double_group = df_merge_all.groupby('user_id')['group'].nunique().reset_index().sort_values(by='group', ascending= False)\n",
    "df_double_group.head()"
   ]
  },
  {
   "cell_type": "code",
   "execution_count": 198,
   "id": "8272838d",
   "metadata": {},
   "outputs": [
    {
     "data": {
      "text/plain": [
       "(441, 2)"
      ]
     },
     "execution_count": 198,
     "metadata": {},
     "output_type": "execute_result"
    }
   ],
   "source": [
    "df_double_group.query('group == 2').shape"
   ]
  },
  {
   "cell_type": "markdown",
   "id": "e8797188",
   "metadata": {},
   "source": [
    "terdapat 441 user yang berada di kedua group (A dan B)"
   ]
  },
  {
   "cell_type": "markdown",
   "id": "bd646441",
   "metadata": {},
   "source": [
    "### How is the number of events distributed among days?"
   ]
  },
  {
   "cell_type": "code",
   "execution_count": 199,
   "id": "913c5b27",
   "metadata": {},
   "outputs": [
    {
     "data": {
      "text/html": [
       "<div>\n",
       "<style scoped>\n",
       "    .dataframe tbody tr th:only-of-type {\n",
       "        vertical-align: middle;\n",
       "    }\n",
       "\n",
       "    .dataframe tbody tr th {\n",
       "        vertical-align: top;\n",
       "    }\n",
       "\n",
       "    .dataframe thead th {\n",
       "        text-align: right;\n",
       "    }\n",
       "</style>\n",
       "<table border=\"1\" class=\"dataframe\">\n",
       "  <thead>\n",
       "    <tr style=\"text-align: right;\">\n",
       "      <th></th>\n",
       "      <th>user_id</th>\n",
       "      <th>event_dt</th>\n",
       "      <th>event_name</th>\n",
       "      <th>details</th>\n",
       "      <th>datetime</th>\n",
       "      <th>group</th>\n",
       "      <th>ab_test</th>\n",
       "      <th>first_date</th>\n",
       "      <th>region</th>\n",
       "      <th>device</th>\n",
       "      <th>day</th>\n",
       "    </tr>\n",
       "  </thead>\n",
       "  <tbody>\n",
       "    <tr>\n",
       "      <th>0</th>\n",
       "      <td>96F27A054B191457</td>\n",
       "      <td>2020-12-07 04:02:40</td>\n",
       "      <td>purchase</td>\n",
       "      <td>4.99</td>\n",
       "      <td>2020-12-07</td>\n",
       "      <td>B</td>\n",
       "      <td>interface_eu_test</td>\n",
       "      <td>2020-12-07</td>\n",
       "      <td>EU</td>\n",
       "      <td>iPhone</td>\n",
       "      <td>0</td>\n",
       "    </tr>\n",
       "    <tr>\n",
       "      <th>1</th>\n",
       "      <td>96F27A054B191457</td>\n",
       "      <td>2020-12-08 09:43:14</td>\n",
       "      <td>purchase</td>\n",
       "      <td>4.99</td>\n",
       "      <td>2020-12-08</td>\n",
       "      <td>B</td>\n",
       "      <td>interface_eu_test</td>\n",
       "      <td>2020-12-07</td>\n",
       "      <td>EU</td>\n",
       "      <td>iPhone</td>\n",
       "      <td>1</td>\n",
       "    </tr>\n",
       "    <tr>\n",
       "      <th>2</th>\n",
       "      <td>96F27A054B191457</td>\n",
       "      <td>2020-12-09 00:44:10</td>\n",
       "      <td>purchase</td>\n",
       "      <td>4.99</td>\n",
       "      <td>2020-12-09</td>\n",
       "      <td>B</td>\n",
       "      <td>interface_eu_test</td>\n",
       "      <td>2020-12-07</td>\n",
       "      <td>EU</td>\n",
       "      <td>iPhone</td>\n",
       "      <td>2</td>\n",
       "    </tr>\n",
       "    <tr>\n",
       "      <th>3</th>\n",
       "      <td>96F27A054B191457</td>\n",
       "      <td>2020-12-26 00:33:57</td>\n",
       "      <td>purchase</td>\n",
       "      <td>9.99</td>\n",
       "      <td>2020-12-26</td>\n",
       "      <td>B</td>\n",
       "      <td>interface_eu_test</td>\n",
       "      <td>2020-12-07</td>\n",
       "      <td>EU</td>\n",
       "      <td>iPhone</td>\n",
       "      <td>5</td>\n",
       "    </tr>\n",
       "    <tr>\n",
       "      <th>4</th>\n",
       "      <td>96F27A054B191457</td>\n",
       "      <td>2020-12-07 04:02:41</td>\n",
       "      <td>product_page</td>\n",
       "      <td>NaN</td>\n",
       "      <td>2020-12-07</td>\n",
       "      <td>B</td>\n",
       "      <td>interface_eu_test</td>\n",
       "      <td>2020-12-07</td>\n",
       "      <td>EU</td>\n",
       "      <td>iPhone</td>\n",
       "      <td>0</td>\n",
       "    </tr>\n",
       "    <tr>\n",
       "      <th>...</th>\n",
       "      <td>...</td>\n",
       "      <td>...</td>\n",
       "      <td>...</td>\n",
       "      <td>...</td>\n",
       "      <td>...</td>\n",
       "      <td>...</td>\n",
       "      <td>...</td>\n",
       "      <td>...</td>\n",
       "      <td>...</td>\n",
       "      <td>...</td>\n",
       "      <td>...</td>\n",
       "    </tr>\n",
       "    <tr>\n",
       "      <th>102833</th>\n",
       "      <td>40076B77CFC12421</td>\n",
       "      <td>2020-12-23 03:43:28</td>\n",
       "      <td>login</td>\n",
       "      <td>NaN</td>\n",
       "      <td>2020-12-23</td>\n",
       "      <td>B</td>\n",
       "      <td>interface_eu_test</td>\n",
       "      <td>2020-12-23</td>\n",
       "      <td>EU</td>\n",
       "      <td>iPhone</td>\n",
       "      <td>2</td>\n",
       "    </tr>\n",
       "    <tr>\n",
       "      <th>102834</th>\n",
       "      <td>40076B77CFC12421</td>\n",
       "      <td>2020-12-24 04:21:53</td>\n",
       "      <td>login</td>\n",
       "      <td>NaN</td>\n",
       "      <td>2020-12-24</td>\n",
       "      <td>B</td>\n",
       "      <td>interface_eu_test</td>\n",
       "      <td>2020-12-23</td>\n",
       "      <td>EU</td>\n",
       "      <td>iPhone</td>\n",
       "      <td>3</td>\n",
       "    </tr>\n",
       "    <tr>\n",
       "      <th>102835</th>\n",
       "      <td>40076B77CFC12421</td>\n",
       "      <td>2020-12-26 03:50:17</td>\n",
       "      <td>login</td>\n",
       "      <td>NaN</td>\n",
       "      <td>2020-12-26</td>\n",
       "      <td>B</td>\n",
       "      <td>interface_eu_test</td>\n",
       "      <td>2020-12-23</td>\n",
       "      <td>EU</td>\n",
       "      <td>iPhone</td>\n",
       "      <td>5</td>\n",
       "    </tr>\n",
       "    <tr>\n",
       "      <th>102836</th>\n",
       "      <td>301C602AF78BABAD</td>\n",
       "      <td>2020-12-23 10:39:25</td>\n",
       "      <td>login</td>\n",
       "      <td>NaN</td>\n",
       "      <td>2020-12-23</td>\n",
       "      <td>B</td>\n",
       "      <td>interface_eu_test</td>\n",
       "      <td>2020-12-23</td>\n",
       "      <td>EU</td>\n",
       "      <td>Android</td>\n",
       "      <td>2</td>\n",
       "    </tr>\n",
       "    <tr>\n",
       "      <th>102837</th>\n",
       "      <td>85500F5DD194ADBA</td>\n",
       "      <td>2020-12-23 09:33:24</td>\n",
       "      <td>login</td>\n",
       "      <td>NaN</td>\n",
       "      <td>2020-12-23</td>\n",
       "      <td>B</td>\n",
       "      <td>interface_eu_test</td>\n",
       "      <td>2020-12-23</td>\n",
       "      <td>EU</td>\n",
       "      <td>Android</td>\n",
       "      <td>2</td>\n",
       "    </tr>\n",
       "  </tbody>\n",
       "</table>\n",
       "<p>102838 rows × 11 columns</p>\n",
       "</div>"
      ],
      "text/plain": [
       "                 user_id            event_dt    event_name  details  \\\n",
       "0       96F27A054B191457 2020-12-07 04:02:40      purchase     4.99   \n",
       "1       96F27A054B191457 2020-12-08 09:43:14      purchase     4.99   \n",
       "2       96F27A054B191457 2020-12-09 00:44:10      purchase     4.99   \n",
       "3       96F27A054B191457 2020-12-26 00:33:57      purchase     9.99   \n",
       "4       96F27A054B191457 2020-12-07 04:02:41  product_page      NaN   \n",
       "...                  ...                 ...           ...      ...   \n",
       "102833  40076B77CFC12421 2020-12-23 03:43:28         login      NaN   \n",
       "102834  40076B77CFC12421 2020-12-24 04:21:53         login      NaN   \n",
       "102835  40076B77CFC12421 2020-12-26 03:50:17         login      NaN   \n",
       "102836  301C602AF78BABAD 2020-12-23 10:39:25         login      NaN   \n",
       "102837  85500F5DD194ADBA 2020-12-23 09:33:24         login      NaN   \n",
       "\n",
       "         datetime group            ab_test first_date region   device  day  \n",
       "0      2020-12-07     B  interface_eu_test 2020-12-07     EU   iPhone    0  \n",
       "1      2020-12-08     B  interface_eu_test 2020-12-07     EU   iPhone    1  \n",
       "2      2020-12-09     B  interface_eu_test 2020-12-07     EU   iPhone    2  \n",
       "3      2020-12-26     B  interface_eu_test 2020-12-07     EU   iPhone    5  \n",
       "4      2020-12-07     B  interface_eu_test 2020-12-07     EU   iPhone    0  \n",
       "...           ...   ...                ...        ...    ...      ...  ...  \n",
       "102833 2020-12-23     B  interface_eu_test 2020-12-23     EU   iPhone    2  \n",
       "102834 2020-12-24     B  interface_eu_test 2020-12-23     EU   iPhone    3  \n",
       "102835 2020-12-26     B  interface_eu_test 2020-12-23     EU   iPhone    5  \n",
       "102836 2020-12-23     B  interface_eu_test 2020-12-23     EU  Android    2  \n",
       "102837 2020-12-23     B  interface_eu_test 2020-12-23     EU  Android    2  \n",
       "\n",
       "[102838 rows x 11 columns]"
      ]
     },
     "execution_count": 199,
     "metadata": {},
     "output_type": "execute_result"
    }
   ],
   "source": [
    "df_merge_all"
   ]
  },
  {
   "cell_type": "code",
   "execution_count": 200,
   "id": "fd89b483",
   "metadata": {
    "scrolled": false
   },
   "outputs": [
    {
     "data": {
      "text/html": [
       "<div>\n",
       "<style scoped>\n",
       "    .dataframe tbody tr th:only-of-type {\n",
       "        vertical-align: middle;\n",
       "    }\n",
       "\n",
       "    .dataframe tbody tr th {\n",
       "        vertical-align: top;\n",
       "    }\n",
       "\n",
       "    .dataframe thead tr th {\n",
       "        text-align: left;\n",
       "    }\n",
       "\n",
       "    .dataframe thead tr:last-of-type th {\n",
       "        text-align: right;\n",
       "    }\n",
       "</style>\n",
       "<table border=\"1\" class=\"dataframe\">\n",
       "  <thead>\n",
       "    <tr>\n",
       "      <th>ab_test</th>\n",
       "      <th colspan=\"8\" halign=\"left\">interface_eu_test</th>\n",
       "      <th colspan=\"8\" halign=\"left\">recommender_system_test</th>\n",
       "    </tr>\n",
       "    <tr>\n",
       "      <th>event_name</th>\n",
       "      <th colspan=\"2\" halign=\"left\">login</th>\n",
       "      <th colspan=\"2\" halign=\"left\">product_cart</th>\n",
       "      <th colspan=\"2\" halign=\"left\">product_page</th>\n",
       "      <th colspan=\"2\" halign=\"left\">purchase</th>\n",
       "      <th colspan=\"2\" halign=\"left\">login</th>\n",
       "      <th colspan=\"2\" halign=\"left\">product_cart</th>\n",
       "      <th colspan=\"2\" halign=\"left\">product_page</th>\n",
       "      <th colspan=\"2\" halign=\"left\">purchase</th>\n",
       "    </tr>\n",
       "    <tr>\n",
       "      <th>group</th>\n",
       "      <th>A</th>\n",
       "      <th>B</th>\n",
       "      <th>A</th>\n",
       "      <th>B</th>\n",
       "      <th>A</th>\n",
       "      <th>B</th>\n",
       "      <th>A</th>\n",
       "      <th>B</th>\n",
       "      <th>A</th>\n",
       "      <th>B</th>\n",
       "      <th>A</th>\n",
       "      <th>B</th>\n",
       "      <th>A</th>\n",
       "      <th>B</th>\n",
       "      <th>A</th>\n",
       "      <th>B</th>\n",
       "    </tr>\n",
       "    <tr>\n",
       "      <th>datetime</th>\n",
       "      <th></th>\n",
       "      <th></th>\n",
       "      <th></th>\n",
       "      <th></th>\n",
       "      <th></th>\n",
       "      <th></th>\n",
       "      <th></th>\n",
       "      <th></th>\n",
       "      <th></th>\n",
       "      <th></th>\n",
       "      <th></th>\n",
       "      <th></th>\n",
       "      <th></th>\n",
       "      <th></th>\n",
       "      <th></th>\n",
       "      <th></th>\n",
       "    </tr>\n",
       "  </thead>\n",
       "  <tbody>\n",
       "    <tr>\n",
       "      <th>2020-12-07</th>\n",
       "      <td>455.0</td>\n",
       "      <td>448.0</td>\n",
       "      <td>131.0</td>\n",
       "      <td>139.0</td>\n",
       "      <td>303.0</td>\n",
       "      <td>283.0</td>\n",
       "      <td>155.0</td>\n",
       "      <td>154.0</td>\n",
       "      <td>154.0</td>\n",
       "      <td>165.0</td>\n",
       "      <td>35.0</td>\n",
       "      <td>46.0</td>\n",
       "      <td>96.0</td>\n",
       "      <td>108.0</td>\n",
       "      <td>46.0</td>\n",
       "      <td>59.0</td>\n",
       "    </tr>\n",
       "    <tr>\n",
       "      <th>2020-12-08</th>\n",
       "      <td>497.0</td>\n",
       "      <td>499.0</td>\n",
       "      <td>144.0</td>\n",
       "      <td>166.0</td>\n",
       "      <td>342.0</td>\n",
       "      <td>323.0</td>\n",
       "      <td>169.0</td>\n",
       "      <td>171.0</td>\n",
       "      <td>159.0</td>\n",
       "      <td>119.0</td>\n",
       "      <td>37.0</td>\n",
       "      <td>34.0</td>\n",
       "      <td>108.0</td>\n",
       "      <td>64.0</td>\n",
       "      <td>37.0</td>\n",
       "      <td>35.0</td>\n",
       "    </tr>\n",
       "    <tr>\n",
       "      <th>2020-12-09</th>\n",
       "      <td>505.0</td>\n",
       "      <td>497.0</td>\n",
       "      <td>159.0</td>\n",
       "      <td>184.0</td>\n",
       "      <td>335.0</td>\n",
       "      <td>316.0</td>\n",
       "      <td>173.0</td>\n",
       "      <td>164.0</td>\n",
       "      <td>178.0</td>\n",
       "      <td>172.0</td>\n",
       "      <td>50.0</td>\n",
       "      <td>43.0</td>\n",
       "      <td>106.0</td>\n",
       "      <td>106.0</td>\n",
       "      <td>51.0</td>\n",
       "      <td>40.0</td>\n",
       "    </tr>\n",
       "    <tr>\n",
       "      <th>2020-12-10</th>\n",
       "      <td>546.0</td>\n",
       "      <td>530.0</td>\n",
       "      <td>180.0</td>\n",
       "      <td>186.0</td>\n",
       "      <td>366.0</td>\n",
       "      <td>365.0</td>\n",
       "      <td>196.0</td>\n",
       "      <td>182.0</td>\n",
       "      <td>165.0</td>\n",
       "      <td>131.0</td>\n",
       "      <td>45.0</td>\n",
       "      <td>34.0</td>\n",
       "      <td>94.0</td>\n",
       "      <td>72.0</td>\n",
       "      <td>46.0</td>\n",
       "      <td>26.0</td>\n",
       "    </tr>\n",
       "    <tr>\n",
       "      <th>2020-12-11</th>\n",
       "      <td>545.0</td>\n",
       "      <td>569.0</td>\n",
       "      <td>181.0</td>\n",
       "      <td>180.0</td>\n",
       "      <td>372.0</td>\n",
       "      <td>380.0</td>\n",
       "      <td>200.0</td>\n",
       "      <td>176.0</td>\n",
       "      <td>185.0</td>\n",
       "      <td>89.0</td>\n",
       "      <td>45.0</td>\n",
       "      <td>17.0</td>\n",
       "      <td>102.0</td>\n",
       "      <td>46.0</td>\n",
       "      <td>42.0</td>\n",
       "      <td>16.0</td>\n",
       "    </tr>\n",
       "  </tbody>\n",
       "</table>\n",
       "</div>"
      ],
      "text/plain": [
       "ab_test    interface_eu_test                                                 \\\n",
       "event_name             login        product_cart        product_page          \n",
       "group                      A      B            A      B            A      B   \n",
       "datetime                                                                      \n",
       "2020-12-07             455.0  448.0        131.0  139.0        303.0  283.0   \n",
       "2020-12-08             497.0  499.0        144.0  166.0        342.0  323.0   \n",
       "2020-12-09             505.0  497.0        159.0  184.0        335.0  316.0   \n",
       "2020-12-10             546.0  530.0        180.0  186.0        366.0  365.0   \n",
       "2020-12-11             545.0  569.0        181.0  180.0        372.0  380.0   \n",
       "\n",
       "ab_test                    recommender_system_test                            \\\n",
       "event_name purchase                          login        product_cart         \n",
       "group             A      B                       A      B            A     B   \n",
       "datetime                                                                       \n",
       "2020-12-07    155.0  154.0                   154.0  165.0         35.0  46.0   \n",
       "2020-12-08    169.0  171.0                   159.0  119.0         37.0  34.0   \n",
       "2020-12-09    173.0  164.0                   178.0  172.0         50.0  43.0   \n",
       "2020-12-10    196.0  182.0                   165.0  131.0         45.0  34.0   \n",
       "2020-12-11    200.0  176.0                   185.0   89.0         45.0  17.0   \n",
       "\n",
       "ab_test                                        \n",
       "event_name product_page        purchase        \n",
       "group                 A      B        A     B  \n",
       "datetime                                       \n",
       "2020-12-07         96.0  108.0     46.0  59.0  \n",
       "2020-12-08        108.0   64.0     37.0  35.0  \n",
       "2020-12-09        106.0  106.0     51.0  40.0  \n",
       "2020-12-10         94.0   72.0     46.0  26.0  \n",
       "2020-12-11        102.0   46.0     42.0  16.0  "
      ]
     },
     "execution_count": 200,
     "metadata": {},
     "output_type": "execute_result"
    }
   ],
   "source": [
    "pivot_daily_event = df_merge_all.pivot_table(\n",
    "    index= 'datetime',\n",
    "    columns= ['ab_test','event_name','group'],\n",
    "    values='user_id',\n",
    "    aggfunc='nunique'\n",
    ")\n",
    "pivot_daily_event.head()"
   ]
  },
  {
   "cell_type": "code",
   "execution_count": 201,
   "id": "1b92c74c",
   "metadata": {},
   "outputs": [
    {
     "data": {
      "text/plain": [
       "Text(0.5, 1.0, 'A/B Test interface_eu_test')"
      ]
     },
     "execution_count": 201,
     "metadata": {},
     "output_type": "execute_result"
    },
    {
     "data": {
      "image/png": "[encoded data removed]",
      "text/plain": [
       "<Figure size 1000x500 with 1 Axes>"
      ]
     },
     "metadata": {},
     "output_type": "display_data"
    }
   ],
   "source": [
    "#plt.figure(figsize=(10,5))\n",
    "#sns.lineplot(data= pivot_daily_event.loc[:,'interface_eu_test']['A'])\n",
    "#sns.lineplot(data= pivot_daily_event.loc[:,'interface_eu_test'].reset_index(), x='datetime', y='group') \n",
    "pivot_daily_event.loc[:,'interface_eu_test'].reset_index().plot(kind='line', x='datetime',\n",
    "                                                               figsize=(10,5))\n",
    "\n",
    "plt.legend()\n",
    "plt.title('A/B Test interface_eu_test')\n",
    "#plt.ylim(0,2500)"
   ]
  },
  {
   "cell_type": "markdown",
   "id": "2ed89fc7",
   "metadata": {},
   "source": [
    "jika dilihat dari visualisasi data, dominan grup A lebih tinggi daripada grup B pada testname interface_eu_test"
   ]
  },
  {
   "cell_type": "code",
   "execution_count": 202,
   "id": "0b927503",
   "metadata": {
    "scrolled": false
   },
   "outputs": [
    {
     "data": {
      "image/png": "[encoded data removed]",
      "text/plain": [
       "<Figure size 1000x500 with 1 Axes>"
      ]
     },
     "metadata": {},
     "output_type": "display_data"
    }
   ],
   "source": [
    "#plt.figure(figsize=(10,5))\n",
    "\n",
    "\n",
    "#sns.lineplot(data= df_a_recommender_daily,\n",
    "             #x='datetime', y='user_id', hue='event_name',)\n",
    "\n",
    "#sns.lineplot(data=df_b_recommender_daily,\n",
    "             #x='datetime', y='user_id', hue='event_name')\n",
    "\n",
    "pivot_daily_event.loc[:,'recommender_system_test'].reset_index().plot(kind='line', x='datetime',\n",
    "                                                               figsize=(10,5))\n",
    "plt.legend()\n",
    "plt.title('A/B Test recommender_system_test')\n",
    "plt.show()\n",
    "#plt.ylim(0,2500)"
   ]
  },
  {
   "cell_type": "markdown",
   "id": "4fb13077",
   "metadata": {},
   "source": [
    "pada testname recommender_system_test juga grup A lebih tinggi, tetapi jika di testname ini wajar jila A lebih tinggi karena jumlah partisipan pada test ini memiliki perbedaan yang signifikan"
   ]
  },
  {
   "cell_type": "code",
   "execution_count": 203,
   "id": "2d27db5e",
   "metadata": {
    "scrolled": true
   },
   "outputs": [
    {
     "data": {
      "text/plain": [
       "day\n",
       "0    6138\n",
       "Name: count, dtype: int64"
      ]
     },
     "execution_count": 203,
     "metadata": {},
     "output_type": "execute_result"
    }
   ],
   "source": [
    "df_merge_all[df_merge_all['datetime'] == '2020-12-14']['day'].value_counts()"
   ]
  },
  {
   "cell_type": "code",
   "execution_count": 204,
   "id": "e7069969",
   "metadata": {},
   "outputs": [
    {
     "data": {
      "text/plain": [
       "day\n",
       "0    8511\n",
       "Name: count, dtype: int64"
      ]
     },
     "execution_count": 204,
     "metadata": {},
     "output_type": "execute_result"
    }
   ],
   "source": [
    "df_merge_all[df_merge_all['datetime'] == '2020-12-21']['day'].value_counts()"
   ]
  },
  {
   "cell_type": "markdown",
   "id": "b3c57a83",
   "metadata": {},
   "source": [
    "dari tabel diatas didapati hasil bahwa pada hari senin menunjukkan hari puncak pembelian"
   ]
  },
  {
   "cell_type": "markdown",
   "id": "847df3c5",
   "metadata": {},
   "source": [
    "## A/B Testing"
   ]
  },
  {
   "cell_type": "code",
   "execution_count": 205,
   "id": "85836916",
   "metadata": {},
   "outputs": [
    {
     "data": {
      "text/html": [
       "<div>\n",
       "<style scoped>\n",
       "    .dataframe tbody tr th:only-of-type {\n",
       "        vertical-align: middle;\n",
       "    }\n",
       "\n",
       "    .dataframe tbody tr th {\n",
       "        vertical-align: top;\n",
       "    }\n",
       "\n",
       "    .dataframe thead tr th {\n",
       "        text-align: left;\n",
       "    }\n",
       "\n",
       "    .dataframe thead tr:last-of-type th {\n",
       "        text-align: right;\n",
       "    }\n",
       "</style>\n",
       "<table border=\"1\" class=\"dataframe\">\n",
       "  <thead>\n",
       "    <tr>\n",
       "      <th>group</th>\n",
       "      <th colspan=\"2\" halign=\"left\">A</th>\n",
       "      <th colspan=\"2\" halign=\"left\">B</th>\n",
       "    </tr>\n",
       "    <tr>\n",
       "      <th>ab_test</th>\n",
       "      <th>interface_eu_test</th>\n",
       "      <th>recommender_system_test</th>\n",
       "      <th>interface_eu_test</th>\n",
       "      <th>recommender_system_test</th>\n",
       "    </tr>\n",
       "    <tr>\n",
       "      <th>event_name</th>\n",
       "      <th></th>\n",
       "      <th></th>\n",
       "      <th></th>\n",
       "      <th></th>\n",
       "    </tr>\n",
       "  </thead>\n",
       "  <tbody>\n",
       "    <tr>\n",
       "      <th>login</th>\n",
       "      <td>5466</td>\n",
       "      <td>2747</td>\n",
       "      <td>5383</td>\n",
       "      <td>927</td>\n",
       "    </tr>\n",
       "    <tr>\n",
       "      <th>product_cart</th>\n",
       "      <td>1756</td>\n",
       "      <td>824</td>\n",
       "      <td>1812</td>\n",
       "      <td>255</td>\n",
       "    </tr>\n",
       "    <tr>\n",
       "      <th>product_page</th>\n",
       "      <td>3639</td>\n",
       "      <td>1780</td>\n",
       "      <td>3527</td>\n",
       "      <td>523</td>\n",
       "    </tr>\n",
       "    <tr>\n",
       "      <th>purchase</th>\n",
       "      <td>1931</td>\n",
       "      <td>872</td>\n",
       "      <td>1782</td>\n",
       "      <td>256</td>\n",
       "    </tr>\n",
       "  </tbody>\n",
       "</table>\n",
       "</div>"
      ],
      "text/plain": [
       "group                        A                                         B  \\\n",
       "ab_test      interface_eu_test recommender_system_test interface_eu_test   \n",
       "event_name                                                                 \n",
       "login                     5466                    2747              5383   \n",
       "product_cart              1756                     824              1812   \n",
       "product_page              3639                    1780              3527   \n",
       "purchase                  1931                     872              1782   \n",
       "\n",
       "group                                 \n",
       "ab_test      recommender_system_test  \n",
       "event_name                            \n",
       "login                            927  \n",
       "product_cart                     255  \n",
       "product_page                     523  \n",
       "purchase                         256  "
      ]
     },
     "execution_count": 205,
     "metadata": {},
     "output_type": "execute_result"
    }
   ],
   "source": [
    "#membuat pivot berisikan jumlah partisipan yang melalui funnel\n",
    "user_pivot = df_merge_all.pivot_table(\n",
    "    index= 'event_name',\n",
    "    values= 'user_id',\n",
    "    columns= ['group','ab_test'],\n",
    "    aggfunc= 'nunique')\n",
    "user_pivot"
   ]
  },
  {
   "cell_type": "code",
   "execution_count": 206,
   "id": "97a31eda",
   "metadata": {},
   "outputs": [
    {
     "data": {
      "text/html": [
       "<div>\n",
       "<style scoped>\n",
       "    .dataframe tbody tr th:only-of-type {\n",
       "        vertical-align: middle;\n",
       "    }\n",
       "\n",
       "    .dataframe tbody tr th {\n",
       "        vertical-align: top;\n",
       "    }\n",
       "\n",
       "    .dataframe thead th {\n",
       "        text-align: right;\n",
       "    }\n",
       "</style>\n",
       "<table border=\"1\" class=\"dataframe\">\n",
       "  <thead>\n",
       "    <tr style=\"text-align: right;\">\n",
       "      <th>group</th>\n",
       "      <th>A</th>\n",
       "      <th>B</th>\n",
       "    </tr>\n",
       "    <tr>\n",
       "      <th>ab_test</th>\n",
       "      <th></th>\n",
       "      <th></th>\n",
       "    </tr>\n",
       "  </thead>\n",
       "  <tbody>\n",
       "    <tr>\n",
       "      <th>interface_eu_test</th>\n",
       "      <td>5467</td>\n",
       "      <td>5383</td>\n",
       "    </tr>\n",
       "    <tr>\n",
       "      <th>recommender_system_test</th>\n",
       "      <td>2747</td>\n",
       "      <td>928</td>\n",
       "    </tr>\n",
       "  </tbody>\n",
       "</table>\n",
       "</div>"
      ],
      "text/plain": [
       "group                       A     B\n",
       "ab_test                            \n",
       "interface_eu_test        5467  5383\n",
       "recommender_system_test  2747   928"
      ]
     },
     "execution_count": 206,
     "metadata": {},
     "output_type": "execute_result"
    }
   ],
   "source": [
    "#membuat pivot berisikan total jumlah partisipan test\n",
    "users_per_group = df_merge_all.pivot_table(\n",
    "    index= 'ab_test',\n",
    "    values= 'user_id',\n",
    "    columns= 'group',\n",
    "    aggfunc= 'nunique')\n",
    "users_per_group"
   ]
  },
  {
   "cell_type": "code",
   "execution_count": 207,
   "id": "78cdb8d2",
   "metadata": {},
   "outputs": [],
   "source": [
    "# fungsi dasar cek hipotesis\n",
    "def check_hypothesis(succeses1, succeses2, trials1, trials2, alpha=0.05):\n",
    "    #proporsi sukses di grup pertama\n",
    "    p1 = succeses1 / trials1\n",
    "    \n",
    "    #proporsi sukses di grup kedua\n",
    "    p2 = succeses2 / trials2\n",
    "    \n",
    "    #proporsi kombinasi\n",
    "    p_combined = (succeses1 + succeses2) / (trials1 + trials2)\n",
    "    \n",
    "    #perbedaan proporsi\n",
    "    difference= p1-p2\n",
    "    \n",
    "    #perhitungan statistik dengan normal deviasi di distribusi normal\n",
    "    z_value= difference / math.sqrt(p_combined * (1 - p_combined) * (1/trials1 + 1/trials2))\n",
    "    \n",
    "    #setting normal distribusi \n",
    "    distr = stats.norm(0,1)\n",
    "    \n",
    "    #perhitungan statistik dengan normal deviasi di distribusi normal\n",
    "    z_value= difference / math.sqrt(p_combined * (1 - p_combined) * (1/trials1 + 1/trials2))\n",
    "    \n",
    "    p_value = (1 - distr.cdf(abs(z_value))) *2\n",
    "    \n",
    "    print('pvalue: ',p_value)\n",
    "    \n",
    "    if (p_value < alpha):\n",
    "        print(\"Menolak Hipotesis 0, terdapat perbedaan signifikan diantara proporsi\")\n",
    "    else:\n",
    "        print(\"Gagal Menolak Hipotesis 0, tidak terdapat perbedaan yang signifikan antara proporsi\")\n",
    "        \n",
    "    "
   ]
  },
  {
   "cell_type": "code",
   "execution_count": 208,
   "id": "599f1be0",
   "metadata": {},
   "outputs": [],
   "source": [
    "# fungsi cek hipotesis semua event di 2 kelompok dan 2 testname\n",
    "def check_event_hypothesis(user_pivot, users_per_group, event, exp1, exp2, ab_test1, ab_test2):\n",
    "    frac1= user_pivot.loc[event, exp1][ab_test1] / users_per_group.loc[ab_test1, exp1]\n",
    "    frac2= user_pivot.loc[event, exp2][ab_test2] / users_per_group.loc[ab_test2, exp2]    \n",
    "    \n",
    "    print(f' {frac1} dengan event {event} di grup {exp1} dengan testname {ab_test1}')\n",
    "    print(f' {frac2} dengan event {event} di grup {exp2} dengan testname {ab_test2}')\n",
    "    \n",
    "    check_hypothesis(user_pivot.loc[event, exp1][ab_test1],\n",
    "                 user_pivot.loc[event, exp2][ab_test2],\n",
    "                 users_per_group.loc[ab_test1, exp1],\n",
    "                 users_per_group.loc[ab_test2, exp2],\n",
    "                )"
   ]
  },
  {
   "cell_type": "code",
   "execution_count": 209,
   "id": "514821a8",
   "metadata": {},
   "outputs": [
    {
     "name": "stdout",
     "output_type": "stream",
     "text": [
      " 0.9998170843241265 dengan event login di grup A dengan testname interface_eu_test\n",
      " 1.0 dengan event login di grup B dengan testname interface_eu_test\n",
      "pvalue:  0.32103485047255065\n",
      "Gagal Menolak Hipotesis 0, tidak terdapat perbedaan yang signifikan antara proporsi\n",
      "\n",
      " 0.32119992683372967 dengan event product_cart di grup A dengan testname interface_eu_test\n",
      " 0.3366152702953743 dengan event product_cart di grup B dengan testname interface_eu_test\n",
      "pvalue:  0.08746918913258162\n",
      "Gagal Menolak Hipotesis 0, tidak terdapat perbedaan yang signifikan antara proporsi\n",
      "\n",
      " 0.665630144503384 dengan event product_page di grup A dengan testname interface_eu_test\n",
      " 0.6552108489689764 dengan event product_page di grup B dengan testname interface_eu_test\n",
      "pvalue:  0.2518419682737163\n",
      "Gagal Menolak Hipotesis 0, tidak terdapat perbedaan yang signifikan antara proporsi\n",
      "\n",
      " 0.35321017011157857 dengan event purchase di grup A dengan testname interface_eu_test\n",
      " 0.3310421697937953 dengan event purchase di grup B dengan testname interface_eu_test\n",
      "pvalue:  0.014959088807690257\n",
      "Menolak Hipotesis 0, terdapat perbedaan signifikan diantara proporsi\n",
      "\n"
     ]
    }
   ],
   "source": [
    "# A/B Testing pada testname interface_eu_test\n",
    "for event in user_pivot.index:\n",
    "        check_event_hypothesis(user_pivot, users_per_group, event, 'A','B', 'interface_eu_test', 'interface_eu_test')\n",
    "        print()"
   ]
  },
  {
   "cell_type": "code",
   "execution_count": 210,
   "id": "d44905fd",
   "metadata": {},
   "outputs": [
    {
     "name": "stdout",
     "output_type": "stream",
     "text": [
      " 1.0 dengan event login di grup A dengan testname recommender_system_test\n",
      " 0.9989224137931034 dengan event login di grup B dengan testname recommender_system_test\n",
      "pvalue:  0.08529860212027773\n",
      "Gagal Menolak Hipotesis 0, tidak terdapat perbedaan yang signifikan antara proporsi\n",
      "\n",
      " 0.2999635966508919 dengan event product_cart di grup A dengan testname recommender_system_test\n",
      " 0.27478448275862066 dengan event product_cart di grup B dengan testname recommender_system_test\n",
      "pvalue:  0.14534814557238196\n",
      "Gagal Menolak Hipotesis 0, tidak terdapat perbedaan yang signifikan antara proporsi\n",
      "\n",
      " 0.6479796141244994 dengan event product_page di grup A dengan testname recommender_system_test\n",
      " 0.5635775862068966 dengan event product_page di grup B dengan testname recommender_system_test\n",
      "pvalue:  4.310980554755872e-06\n",
      "Menolak Hipotesis 0, terdapat perbedaan signifikan diantara proporsi\n",
      "\n",
      " 0.3174372042227885 dengan event purchase di grup A dengan testname recommender_system_test\n",
      " 0.27586206896551724 dengan event purchase di grup B dengan testname recommender_system_test\n",
      "pvalue:  0.017592402663314743\n",
      "Menolak Hipotesis 0, terdapat perbedaan signifikan diantara proporsi\n",
      "\n"
     ]
    }
   ],
   "source": [
    "# A/B Testing pada testname recommender_system_test\n",
    "for event in user_pivot.index:\n",
    "        check_event_hypothesis(user_pivot, users_per_group, event, 'A','B', 'recommender_system_test', 'recommender_system_test')\n",
    "        print()"
   ]
  },
  {
   "cell_type": "markdown",
   "id": "1511ae0f",
   "metadata": {},
   "source": [
    "## Kesimpulan"
   ]
  },
  {
   "cell_type": "markdown",
   "id": "3c4a912d",
   "metadata": {},
   "source": [
    "Setelah dilakukan analisis terdapat kesimpulan antara lain:\n",
    "1. mayoritas kesalahan tipe data pada dataframe adalah dibagian tanggal. \n",
    "2. perbedaan yang signifikan pada jumlah user antara kelompok kontrol dan uji (kolom \"recommender_system_test\")\n",
    "3. adanya user yang tidak independen (berada di kedua grup kontrol dan uji)\n",
    "4. selama 2 minggu melakukan analisa didapati pelanggan biasanya berbelanja di awal minggu\n",
    "5. pada name interface_eu_test, ratio di event purchase terdapat perbedaan 2% dengan kelompok B lebih rendah \n",
    "6. pada testname recommender_system_test,  ratio antar event berbeda 2-8% dengan kelompok B lebih rendah. bisa disimpulkan ternyata pada kelompok uji memiliki ratio lebih rendah daripada kelompok kontrol\n",
    "7. pada testname interface_eu_test di event purchase terdapat perbedaan perbedaan yang signifikan antara proporsi\n",
    "8. pada testname recommender_system_test terdapat perbedaan signifikan di event product_page dan purchase\n",
    "\n",
    "\n",
    "\n",
    "\n"
   ]
  },
  {
   "cell_type": "code",
   "execution_count": null,
   "id": "66828e98",
   "metadata": {},
   "outputs": [],
   "source": []
  }
 ],
 "metadata": {
  "kernelspec": {
   "display_name": "Python 3 (ipykernel)",
   "language": "python",
   "name": "python3"
  },
  "language_info": {
   "codemirror_mode": {
    "name": "ipython",
    "version": 3
   },
   "file_extension": ".py",
   "mimetype": "text/x-python",
   "name": "python",
   "nbconvert_exporter": "python",
   "pygments_lexer": "ipython3",
   "version": "3.11.5"
  }
 },
 "nbformat": 4,
 "nbformat_minor": 5
}
